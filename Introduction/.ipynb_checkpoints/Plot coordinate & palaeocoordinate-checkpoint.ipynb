{
 "cells": [
  {
   "cell_type": "markdown",
   "metadata": {},
   "source": [
    "# Plot coordinate & palaeocoordinate"
   ]
  },
  {
   "cell_type": "markdown",
   "metadata": {},
   "source": [
    "## Loading packages"
   ]
  },
  {
   "cell_type": "code",
   "execution_count": null,
   "metadata": {},
   "outputs": [],
   "source": [
    "library(\"lwgeom\")\n",
    "library(\"h3jsr\")\n",
    "library(\"ggplot2\")\n",
    "library(\"ggpubr\")\n",
    "library(\"sf\")\n",
    "library(\"raster\")\n",
    "library(\"geojsonio\")\n",
    "library(\"sp\")\n",
    "library(\"dplyr\") "
   ]
  },
  {
   "cell_type": "markdown",
   "metadata": {},
   "source": [
    "## Setting up environement"
   ]
  },
  {
   "cell_type": "code",
   "execution_count": null,
   "metadata": {},
   "outputs": [],
   "source": [
    "sf_use_s2(FALSE)"
   ]
  },
  {
   "cell_type": "markdown",
   "metadata": {},
   "source": [
    "## Loading occurence data"
   ]
  },
  {
   "cell_type": "markdown",
   "metadata": {},
   "source": [
    "### Extinct taxa"
   ]
  },
  {
   "cell_type": "code",
   "execution_count": null,
   "metadata": {},
   "outputs": [],
   "source": [
    "table_coordinate_extinct_raw <- read.table(\"../Data/Occurences_extinct_Orectolobiformes.tsv\", header = TRUE, sep =\"\\t\")\n",
    "table_coordinate_extinct <- cbind(table_coordinate_extinct_raw[, c(2)], table_coordinate_extinct_raw[, c(4)], apply(table_coordinate_extinct_raw[,c(6,7)], 1, mean), table_coordinate_extinct_raw[, c(13, 14)])\n",
    "colnames(table_coordinate_extinct) <- c(\"Family\", \"scientificName\", \"age\", colnames(table_coordinate_extinct)[c(4,5)])"
   ]
  },
  {
   "cell_type": "markdown",
   "metadata": {},
   "source": [
    "### Extant taxa"
   ]
  },
  {
   "cell_type": "code",
   "execution_count": null,
   "metadata": {},
   "outputs": [],
   "source": [
    "table_coordinate_extant <- read.table(\"../Data/Occurences_extant_Orectolobiformes.tsv\", header = TRUE, sep =\"\\t\")\n",
    "extant_coordinate <- data.frame(longitude = table_coordinate_extant$Longitude, latitude = table_coordinate_extant$Latitude, species = table_coordinate_extant$Species)    \n",
    "extant_coordinate_without_whale_shark <- extant_coordinate[!extant_coordinate$species == \"Rhincodon typus\", ]"
   ]
  },
  {
   "cell_type": "markdown",
   "metadata": {},
   "source": [
    "## Paleocoordinate"
   ]
  },
  {
   "cell_type": "code",
   "execution_count": null,
   "metadata": {
    "scrolled": false
   },
   "outputs": [],
   "source": [
    "paleo_coordinate <- palaeorotate(table_coordinate_extinct, lng = \"Longitude\", lat = \"Latitude\", age = \"age\", model = c(\"MERDITH2021\", \"PALEOMAP\", \"MATTHEWS2016_pmag_ref\"))"
   ]
  },
  {
   "cell_type": "code",
   "execution_count": null,
   "metadata": {
    "scrolled": true
   },
   "outputs": [],
   "source": [
    "paleo_coordinate_cleaned <- na.omit(paleo_coordinate)"
   ]
  },
  {
   "cell_type": "markdown",
   "metadata": {},
   "source": [
    "### Saving data"
   ]
  },
  {
   "cell_type": "code",
   "execution_count": null,
   "metadata": {},
   "outputs": [],
   "source": [
    "write.table(paleo_coordinate_cleaned, \"../Data/paleo_coordinate.tsv\", row.names = FALSE, col.names = TRUE, quote = FALSE, sep =\"\\t\")"
   ]
  },
  {
   "cell_type": "markdown",
   "metadata": {},
   "source": [
    "## Mapping occurences and species abudance"
   ]
  },
  {
   "cell_type": "markdown",
   "metadata": {},
   "source": [
    "### Set up bounding box"
   ]
  },
  {
   "cell_type": "code",
   "execution_count": null,
   "metadata": {},
   "outputs": [],
   "source": [
    "ras <- raster::raster(res = 5, val = 1)\n",
    "ras <- rasterToPolygons(x = ras, dissolve = TRUE)"
   ]
  },
  {
   "cell_type": "markdown",
   "metadata": {},
   "source": [
    "### Robinson projection"
   ]
  },
  {
   "cell_type": "code",
   "execution_count": null,
   "metadata": {},
   "outputs": [],
   "source": [
    "bb <- sf::st_as_sf(x = ras)\n",
    "bb <- st_transform(x = bb, crs = sf::st_crs(4326))\n",
    "bbox <- st_graticule(crs = st_crs(\"ESRI:54030\"), lat = c(-89.9, 89.9), lon = c(-179.9, 179.9))"
   ]
  },
  {
   "cell_type": "markdown",
   "metadata": {},
   "source": [
    "### Prepare grid"
   ]
  },
  {
   "cell_type": "code",
   "execution_count": null,
   "metadata": {},
   "outputs": [],
   "source": [
    "CRGrid <- bb %>%\n",
    "  st_make_grid(cellsize = 5) %>%\n",
    "  st_cast(\"MULTIPOLYGON\") %>%\n",
    "  st_sf() %>%\n",
    "  mutate(cellid = row_number())"
   ]
  },
  {
   "cell_type": "markdown",
   "metadata": {},
   "source": [
    "### Prepare species abudance shape file"
   ]
  },
  {
   "cell_type": "code",
   "execution_count": null,
   "metadata": {
    "scrolled": true
   },
   "outputs": [],
   "source": [
    "coordinates(extant_coordinate_without_whale_shark) <- ~longitude + latitude\n",
    "    proj4string(extant_coordinate_without_whale_shark) <- CRS(\"+proj=longlat +datum=WGS84\")\n",
    "    SpatialPoints(extant_coordinate_without_whale_shark, proj4string = CRS(\"ESRI:54030\"))\n",
    "    coords_sf_extant <- st_as_sf(extant_coordinate_without_whale_shark)  %>%\n",
    "  group_by(species) %>%\n",
    "  summarize()"
   ]
  },
  {
   "cell_type": "markdown",
   "metadata": {},
   "source": [
    "### Plot extant species distribution with fossil sampling sites"
   ]
  },
  {
   "cell_type": "code",
   "execution_count": null,
   "metadata": {},
   "outputs": [],
   "source": [
    "sharks_richness_grid <- CRGrid %>%\n",
    "     st_join(coords_sf_extant) %>%\n",
    "     mutate(overlap = ifelse(!is.na(species), 1, 0)) %>%\n",
    "     group_by(cellid) %>%\n",
    "     summarize(num_species = sum(overlap))"
   ]
  },
  {
   "cell_type": "code",
   "execution_count": null,
   "metadata": {},
   "outputs": [],
   "source": [
    "    coordinates(table_coordinate_extinct) <- ~Longitude + Latitude\n",
    "    proj4string(table_coordinate_extinct) <- CRS(\"+proj=longlat +datum=WGS84\")\n",
    "    SpatialPoints(table_coordinate_extinct, proj4string = CRS(\"ESRI:54030\"))\n",
    "    coords_robinson <- spTransform(table_coordinate_extinct, CRS(\"+proj=robin +datum=WGS84\"))\n",
    "    coords_sf <- st_as_sf(coords_robinson)"
   ]
  },
  {
   "cell_type": "code",
   "execution_count": null,
   "metadata": {
    "scrolled": true
   },
   "outputs": [],
   "source": [
    "coords_sf$order <- \"Orectolobiformes\""
   ]
  },
  {
   "cell_type": "code",
   "execution_count": null,
   "metadata": {},
   "outputs": [],
   "source": [
    "pdf(\"Extant_extinct.pdf\")\n",
    "gpm  %>% ggplot() +\n",
    "        geom_sf(data = sharks_richness_grid,  aes(fill = num_species), colour = NA) + \n",
    "        scale_fill_gradientn(colours = rev(c(\"#FF6347\", \"#FF7467\",\"#FFA071\", \"#FFB480\", \"#FEDD9E\", \"#FDF1AD\", \"#ADD8E6\")), name= \"Species richness\", \n",
    "                      labels = c(\"0\", \"2\", \"4\", \"6\", \"8\", \"10\"),\n",
    "                      breaks = c(0, 2, 4, 6, 8, 10)) +\n",
    "        geom_sf(data = gpm, fill = \"#BEB4B0\", colour = \"black\", alpha = 1) +\n",
    "        geom_sf(data = coords_sf, fill = \"#FF6347\", aes(color = order, shape = order, size = order)) + \n",
    "        scale_color_manual(values = \"#9F5C49\") + \n",
    "        scale_shape_manual(values = 21) +\n",
    "        scale_size_manual(values = 0.75) + \n",
    "        coord_sf(crs = sf::st_crs(\"ESRI:54030\")) +\n",
    "        theme_void()\n",
    "dev.off()"
   ]
  },
  {
   "cell_type": "markdown",
   "metadata": {},
   "source": [
    "## Extant occurences"
   ]
  },
  {
   "cell_type": "code",
   "execution_count": null,
   "metadata": {},
   "outputs": [],
   "source": [
    "table_coordinate_extant_without_whale_shark <- table_coordinate_extant[!table_coordinate_extant$Species == \"Rhincodon typus\", ]"
   ]
  },
  {
   "cell_type": "markdown",
   "metadata": {},
   "source": [
    "### Subsampling procedure (omiting whale shark)"
   ]
  },
  {
   "cell_type": "code",
   "execution_count": null,
   "metadata": {},
   "outputs": [],
   "source": [
    "table_coordinate_extant_without_whale_shark <- table_coordinate_extant_without_whale_shark[!duplicated(table_coordinate_extant_without_whale_shark),]"
   ]
  },
  {
   "cell_type": "code",
   "execution_count": null,
   "metadata": {
    "scrolled": true
   },
   "outputs": [],
   "source": [
    "unique_sp <- unique(table_coordinate_extant_without_whale_shark$Species)\n",
    "\n",
    "for(i in 1:length(unique_sp)){\n",
    "    \n",
    "    temp <- table_coordinate_extant_without_whale_shark[table_coordinate_extant_without_whale_shark$Species == unique_sp[i], ]\n",
    "\n",
    "    \n",
    "    if(i == 1){\n",
    "        if(nrow(temp) < 10){\n",
    "            table_coordinate_extant_subsampled <- temp[,c(4,5)]\n",
    "        }\n",
    "        \n",
    "        else{\n",
    "            table_coordinate_extant_subsampled <- clustr(dat = temp, xy = c(\"longitude\", \"latitude\"), iter = 1, nSite = 10, distMax = 2000)[[1]]\n",
    "        }\n",
    "\n",
    "    }\n",
    "    \n",
    "    else{\n",
    "        \n",
    "        if(nrow(temp) < 10){\n",
    "            table_coordinate_extant_subsampled <- rbind(table_coordinate_extant_subsampled,temp[,c(4,5)])\n",
    "        }\n",
    "        else{\n",
    "            table_coordinate_extant_subsampled <- rbind(table_coordinate_extant_subsampled, clustr(dat = temp, xy = c(\"Longitude\", \"Latitude\"), iter = 1, nSite = 10, distMax = 2000)[[1]])\n",
    "        }\n",
    "    }\n",
    "    \n",
    "}"
   ]
  },
  {
   "cell_type": "markdown",
   "metadata": {},
   "source": [
    "### Saving data"
   ]
  },
  {
   "cell_type": "code",
   "execution_count": null,
   "metadata": {},
   "outputs": [],
   "source": [
    "write.table(table_coordinate_extant_subsampled, \"../Data/table_coordinate_extant_subsampled.tsv\", sep = \"\\t\", quote = FALSE, col.names = TRUE, row.names = FALSE)"
   ]
  },
  {
   "cell_type": "markdown",
   "metadata": {},
   "source": [
    "### Plotting extant and extinct coordinates"
   ]
  },
  {
   "cell_type": "markdown",
   "metadata": {},
   "source": [
    "#### Paleomap GPM"
   ]
  },
  {
   "cell_type": "code",
   "execution_count": null,
   "metadata": {},
   "outputs": [],
   "source": [
    "pdf(\"Paleo_lat_scotese.pdf\")\n",
    "plot(x=paleo_coordinate_cleaned$age, y=paleo_coordinate_cleaned$p_lat_PALEOMAP, axes = FALSE, xlab = NA, ylab = \"Latitude (°)\", col = \"#FAC898\", pch = 16, xlim = c(max(paleo_coordinate_cleaned$age), 0))\n",
    "points(x=rep(0, nrow(table_coordinate_extant_subsampled)), y=table_coordinate_extant_subsampled$Latitude,  col = \"#CB99CC\", pch = 16)\n",
    "lines(lowess(x=c(paleo_coordinate_cleaned$age,rep(0, nrow(table_coordinate_extant_subsampled))), y=c(paleo_coordinate_cleaned$p_lat_PALEOMAP, table_coordinate_extant_subsampled$Latitude)), col = \"#AEC6CF\" , lwd = 3)\n",
    "box()\n",
    "axis(2)\n",
    "axis_geo(side = 1, intervals = list(\"epoch\", \"period\"),\n",
    "    abbr = list(TRUE, FALSE))\n",
    "dev.off()"
   ]
  },
  {
   "cell_type": "markdown",
   "metadata": {},
   "source": [
    "#### Merdith 2021 GPM"
   ]
  },
  {
   "cell_type": "code",
   "execution_count": null,
   "metadata": {},
   "outputs": [],
   "source": [
    "pdf(\"Paleo_lat_merdith.pdf\")\n",
    "plot(x=paleo_coordinate_cleaned$age, y=paleo_coordinate_cleaned$p_lat_MERDITH2021, axes = FALSE, xlab = NA, ylab = \"Latitude (°)\", col = \"#FAC898\", pch = 16, xlim = c(max(paleo_coordinate_cleaned$age), 0))\n",
    "points(x=rep(0, nrow(table_coordinate_extant_subsampled)), y=table_coordinate_extant_subsampled$Latitude,  col = \"#CB99CC\", pch = 16)\n",
    "lines(lowess(x=c(paleo_coordinate_cleaned$age,rep(0, nrow(table_coordinate_extant_subsampled))), y=c(paleo_coordinate_cleaned$p_lat_PALEOMAP, table_coordinate_extant_subsampled$Latitude)), col = \"#AEC6CF\", lwd = 3)\n",
    "box()\n",
    "axis(2)\n",
    "axis_geo(side = 1, intervals = list(\"epoch\", \"period\"),\n",
    "    abbr = list(TRUE, FALSE)) \n",
    "dev.off()"
   ]
  },
  {
   "cell_type": "markdown",
   "metadata": {},
   "source": [
    "#### Matthews 2016 GPM"
   ]
  },
  {
   "cell_type": "code",
   "execution_count": null,
   "metadata": {},
   "outputs": [],
   "source": [
    "pdf(\"Paleo_lat_mathews.pdf\")\n",
    "plot(x=paleo_coordinate_cleaned$age, y=paleo_coordinate_cleaned$p_lat_MATTHEWS2016_pmag_ref, axes = FALSE, xlab = NA, ylab = \"Latitude (°)\", col = \"#FAC898\", pch = 16, xlim = c(max(paleo_coordinate_cleaned$age), 0))\n",
    "points(x=rep(0, nrow(table_coordinate_extant_subsampled)), y=table_coordinate_extant_subsampled$Latitude,  col = \"#CB99CC\", pch = 16)\n",
    "lines(lowess(x=c(paleo_coordinate_cleaned$age,rep(0, nrow(table_coordinate_extant_subsampled))), y=c(paleo_coordinate_cleaned$p_lat_PALEOMAP, table_coordinate_extant_subsampled$Latitude)), col = \"#AEC6CF\", lwd = 3)\n",
    "box()\n",
    "axis(2)\n",
    "axis_geo(side = 1, intervals = list(\"epoch\", \"period\"),\n",
    "    abbr = list(TRUE, FALSE))\n",
    "dev.off()"
   ]
  }
 ],
 "metadata": {
  "kernelspec": {
   "display_name": "R",
   "language": "R",
   "name": "ir"
  },
  "language_info": {
   "codemirror_mode": "r",
   "file_extension": ".r",
   "mimetype": "text/x-r-source",
   "name": "R",
   "pygments_lexer": "r",
   "version": "4.3.3"
  }
 },
 "nbformat": 4,
 "nbformat_minor": 4
}
