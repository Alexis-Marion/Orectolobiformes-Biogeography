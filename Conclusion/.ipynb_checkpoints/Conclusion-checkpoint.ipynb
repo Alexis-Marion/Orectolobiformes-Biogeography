{
 "cells": [
  {
   "cell_type": "markdown",
   "metadata": {},
   "source": [
    "# Conclusion"
   ]
  },
  {
   "cell_type": "markdown",
   "metadata": {},
   "source": [
    "## Loading packages"
   ]
  },
  {
   "cell_type": "code",
   "execution_count": 1,
   "metadata": {},
   "outputs": [
    {
     "name": "stderr",
     "output_type": "stream",
     "text": [
      "Linking to liblwgeom 3.0.0beta1 r16016, GEOS 3.8.0, PROJ 6.3.1\n",
      "\n",
      "Linking to GEOS 3.8.0, GDAL 3.0.4, PROJ 6.3.1; sf_use_s2() is TRUE\n",
      "\n",
      "\n",
      "Attachement du package : ‘sf’\n",
      "\n",
      "\n",
      "L'objet suivant est masqué depuis ‘package:lwgeom’:\n",
      "\n",
      "    st_perimeter\n",
      "\n",
      "\n",
      "Le chargement a nécessité le package : sp\n",
      "\n",
      "Registered S3 method overwritten by 'geojson':\n",
      "  method        from     \n",
      "  print.geojson geojsonsf\n",
      "\n",
      "\n",
      "Attachement du package : ‘geojsonio’\n",
      "\n",
      "\n",
      "L'objet suivant est masqué depuis ‘package:base’:\n",
      "\n",
      "    pretty\n",
      "\n",
      "\n",
      "\n",
      "Attachement du package : ‘dplyr’\n",
      "\n",
      "\n",
      "Les objets suivants sont masqués depuis ‘package:raster’:\n",
      "\n",
      "    intersect, select, union\n",
      "\n",
      "\n",
      "Les objets suivants sont masqués depuis ‘package:stats’:\n",
      "\n",
      "    filter, lag\n",
      "\n",
      "\n",
      "Les objets suivants sont masqués depuis ‘package:base’:\n",
      "\n",
      "    intersect, setdiff, setequal, union\n",
      "\n",
      "\n"
     ]
    }
   ],
   "source": [
    "library(\"lwgeom\")\n",
    "library(\"h3jsr\")\n",
    "library(\"ggplot2\")\n",
    "library(\"ggpubr\")\n",
    "library(\"sf\")\n",
    "library(\"raster\")\n",
    "library(\"geojsonio\")\n",
    "library(\"sp\")\n",
    "library(\"dplyr\") "
   ]
  },
  {
   "cell_type": "markdown",
   "metadata": {},
   "source": [
    "### Setting up environement"
   ]
  },
  {
   "cell_type": "code",
   "execution_count": 2,
   "metadata": {},
   "outputs": [
    {
     "name": "stderr",
     "output_type": "stream",
     "text": [
      "Spherical geometry (s2) switched off\n",
      "\n"
     ]
    }
   ],
   "source": [
    "sf_use_s2(FALSE)"
   ]
  },
  {
   "cell_type": "markdown",
   "metadata": {},
   "source": [
    "### Load paleocoordinates & extant coordinates"
   ]
  },
  {
   "cell_type": "code",
   "execution_count": 3,
   "metadata": {},
   "outputs": [],
   "source": [
    "paleo_coordinate_cleaned <-read.table(\"../Data/Coordinate/paleo_coordinate.tsv\", sep =\"\\t\", header = TRUE)"
   ]
  },
  {
   "cell_type": "code",
   "execution_count": 4,
   "metadata": {},
   "outputs": [],
   "source": [
    "table_extant_coordinates <- read.table(\"../Data/Coordinate/table_coordinate_extant_subsampled.tsv\", header = TRUE)"
   ]
  },
  {
   "cell_type": "markdown",
   "metadata": {},
   "source": [
    "### Set up Epochs"
   ]
  },
  {
   "cell_type": "code",
   "execution_count": 5,
   "metadata": {},
   "outputs": [],
   "source": [
    "data_epochs <- data.frame(Epoch = c(\"Holocene\", \"Miocene\", \"Maastrichian\", \"Albian\"),\n",
    "        Age_min = c(0, 5.332, 66, 100.5), \n",
    "        Age_max = c(0, 23.031, 72.1, 113.2), \n",
    "        Age = c(0, 15, 70, 105))"
   ]
  },
  {
   "cell_type": "markdown",
   "metadata": {},
   "source": [
    "### Set up bounding box"
   ]
  },
  {
   "cell_type": "code",
   "execution_count": 6,
   "metadata": {},
   "outputs": [],
   "source": [
    "ras <- raster::raster(res = 5, val = 1)\n",
    "ras <- rasterToPolygons(x = ras, dissolve = TRUE)"
   ]
  },
  {
   "cell_type": "markdown",
   "metadata": {},
   "source": [
    "### Robinson projection"
   ]
  },
  {
   "cell_type": "code",
   "execution_count": 7,
   "metadata": {},
   "outputs": [],
   "source": [
    "bb <- sf::st_as_sf(x = ras)\n",
    "bb <- st_transform(x = bb, crs = sf::st_crs(4326))\n",
    "bbox <- st_graticule(crs = st_crs(\"ESRI:54030\"), lat = c(-89.9, 89.9), lon = c(-179.9, 179.9))"
   ]
  },
  {
   "cell_type": "markdown",
   "metadata": {},
   "source": [
    "## Plot paleomaps (Paleomap GPM)"
   ]
  },
  {
   "cell_type": "code",
   "execution_count": 8,
   "metadata": {},
   "outputs": [
    {
     "name": "stderr",
     "output_type": "stream",
     "text": [
      "\u001b[1m\u001b[22mSaving 6.67 x 6.67 in image\n",
      "\u001b[1m\u001b[22mSaving 6.67 x 6.67 in image\n",
      "\u001b[1m\u001b[22mSaving 6.67 x 6.67 in image\n",
      "\u001b[1m\u001b[22mSaving 6.67 x 6.67 in image\n",
      "\u001b[1m\u001b[22mSaving 6.67 x 6.67 in image\n"
     ]
    }
   ],
   "source": [
    "for(i in 1:nrow(data_epochs)){\n",
    "    temp_CM <- paste(\"../Data/PaleoDEMS/CM/\", data_epochs$Age[i], \"Ma_CM_v7.shp\", sep = \"\")\n",
    "    temp_name <- paste(\"Paleocoordinates_\", data_epochs$Epoch[i], \".pdf\", sep =\"\")\n",
    "    temp_CS <- paste(\"../Data/PaleoDEMS/CS/\", data_epochs$Age[i], \"Ma_CS_v7.shp\", sep = \"\")\n",
    "    \n",
    "    gpm <- read_sf(temp_CM)\n",
    "\n",
    "    gpm2 <- read_sf(temp_CS)\n",
    "    \n",
    "    if(data_epochs$Epoch[i] == \"Holocene\"){\n",
    "        coordinates(table_extant_coordinates) <- ~Longitude + Latitude\n",
    "        proj4string(table_extant_coordinates) <- CRS(\"+proj=longlat +datum=WGS84\")\n",
    "        SpatialPoints(table_extant_coordinates, proj4string = CRS(\"ESRI:54030\"))\n",
    "        coords_robinson <- spTransform(table_extant_coordinates, CRS(\"+proj=robin +datum=WGS84\"))\n",
    "        coords_sf <- st_as_sf(coords_robinson)\n",
    "    }\n",
    "    else{\n",
    "        temp_paleo_data <- paleo_coordinate_cleaned[paleo_coordinate_cleaned$age > data_epochs$Age_min[i] & paleo_coordinate_cleaned$age < data_epochs$Age_max[i], ]\n",
    "        pal_cor <- data.frame(longitude = temp_paleo_data$p_lng_PALEOMAP, latitude = temp_paleo_data$p_lat_PALEOMAP)\n",
    "    \n",
    "        coordinates(pal_cor) <- ~longitude + latitude\n",
    "        proj4string(pal_cor) <- CRS(\"+proj=longlat +datum=WGS84\")\n",
    "        SpatialPoints(pal_cor, proj4string = CRS(\"ESRI:54030\"))\n",
    "        coords_robinson <- spTransform(pal_cor, CRS(\"+proj=robin +datum=WGS84\"))\n",
    "        coords_sf <- st_as_sf(coords_robinson)   \n",
    "    }\n",
    "    \n",
    "    coords_sf$order <- \"Orectolobiformes\"\n",
    "    \n",
    "    palaeo_coordinate <- gpm  %>% ggplot() +         \n",
    "        geom_sf(data = bb, fill = \"#ADD8E6\", colour = NA) +\n",
    "        geom_sf(data = gpm, fill = \"#81CDC6\", colour = \"black\", alpha = 1) +\n",
    "        geom_sf(data = gpm2, fill = \"#BEB4B0\", colour = \"black\", alpha = 1) +\n",
    "        geom_sf(data = bbox) +\n",
    "        geom_sf(data = coords_sf, fill = \"#FF6347\", aes(color = order, shape = order, size = order)) + \n",
    "        scale_color_manual(values = \"#9F5C49\") + \n",
    "        scale_shape_manual(values = 21) +\n",
    "        scale_size_manual(values = 0.75) + \n",
    "        guides(alpha = \"none\", color = \"none\") + \n",
    "        coord_sf(crs = sf::st_crs(\"ESRI:54030\")) +\n",
    "        ggtitle(paste(data_epochs$Epoch[i], \" (\", data_epochs$Age_max[i], \"-\", (data_epochs$Age_min[i]), \")\", sep =\"\")) + \n",
    "        theme_void() +\n",
    "        theme(plot.title = element_text(hjust = 0.5, vjust = -90))\n",
    "    \n",
    "    ggsave(filename = temp_name, plot = palaeo_coordinate)\n",
    "}"
   ]
  }
 ],
 "metadata": {
  "kernelspec": {
   "display_name": "R",
   "language": "R",
   "name": "ir"
  },
  "language_info": {
   "codemirror_mode": "r",
   "file_extension": ".r",
   "mimetype": "text/x-r-source",
   "name": "R",
   "pygments_lexer": "r",
   "version": "4.3.3"
  }
 },
 "nbformat": 4,
 "nbformat_minor": 4
}
