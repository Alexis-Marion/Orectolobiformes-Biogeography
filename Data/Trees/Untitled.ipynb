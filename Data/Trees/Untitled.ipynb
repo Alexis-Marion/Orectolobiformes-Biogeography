{
 "cells": [
  {
   "cell_type": "code",
   "execution_count": 1,
   "metadata": {},
   "outputs": [],
   "source": [
    "library(\"ape\")"
   ]
  },
  {
   "cell_type": "code",
   "execution_count": 21,
   "metadata": {},
   "outputs": [],
   "source": [
    "library(\"dispRity\")"
   ]
  },
  {
   "cell_type": "code",
   "execution_count": 17,
   "metadata": {},
   "outputs": [],
   "source": [
    "tree <- read.tree(\"consensus_tree_orecto.tree\")"
   ]
  },
  {
   "cell_type": "code",
   "execution_count": 23,
   "metadata": {
    "scrolled": true
   },
   "outputs": [],
   "source": [
    "con_1 <- extract.clade(tree, getMRCA(tree, c(\"Brachaelurus_waddi\", \"Orectolobus_hutchinsi\")))$tip.label"
   ]
  },
  {
   "cell_type": "code",
   "execution_count": 25,
   "metadata": {},
   "outputs": [],
   "source": [
    "con_3 <- extract.clade(tree, getMRCA(tree, c(\"Orectolobus_wardi\", \"Orectolobus_hutchinsi\")))$tip.label"
   ]
  },
  {
   "cell_type": "code",
   "execution_count": 29,
   "metadata": {},
   "outputs": [],
   "source": [
    "con_2 <- extract.clade(tree, getMRCA(tree, c(\"Brachaelurus_waddi\", \"Brachaelurus_colcloughi\")))$tip.label"
   ]
  },
  {
   "cell_type": "code",
   "execution_count": 30,
   "metadata": {},
   "outputs": [],
   "source": [
    "con_4 <- extract.clade(tree, getMRCA(tree, c(\"Hemiscyllium_michaeli\", \"Pseudoginglymostoma_brevicaudatum\")))$tip.label"
   ]
  },
  {
   "cell_type": "code",
   "execution_count": 8,
   "metadata": {
    "scrolled": true
   },
   "outputs": [],
   "source": [
    "trees <- read.tree(\"posterior_distribution_100_tree_orecto.tree\")"
   ]
  },
  {
   "cell_type": "code",
   "execution_count": 43,
   "metadata": {
    "scrolled": true
   },
   "outputs": [],
   "source": [
    "l_con_1 <- c()\n",
    "l_con_2 <- c()\n",
    "l_con_3 <- c()\n",
    "l_con_4 <- c()\n",
    "\n",
    "for(i in 1:100){\n",
    "    temp <- tree.age(trees[[i]], order = \"past\", fossil = TRUE, digits = 3)\n",
    "    l_con_1 <- c(l_con_1, temp[temp[,2] == getMRCA(trees[[i]], con_1),][,1])\n",
    "    l_con_2 <- c(l_con_2, temp[temp[,2] == getMRCA(trees[[i]], con_2),][,1])\n",
    "    l_con_3 <- c(l_con_3, temp[temp[,2] == getMRCA(trees[[i]], con_3),][,1])\n",
    "    l_con_4 <- c(l_con_4, temp[temp[,2] == getMRCA(trees[[i]], con_4),][,1])\n",
    "    \n",
    "}"
   ]
  },
  {
   "cell_type": "markdown",
   "metadata": {},
   "source": [
    "### Brachaeluridae Orectolobidae"
   ]
  },
  {
   "cell_type": "code",
   "execution_count": null,
   "metadata": {},
   "outputs": [],
   "source": [
    "Palaeobrachaelurus sp."
   ]
  },
  {
   "cell_type": "code",
   "execution_count": 55,
   "metadata": {},
   "outputs": [
    {
     "data": {
      "text/html": [
       "114.983"
      ],
      "text/latex": [
       "114.983"
      ],
      "text/markdown": [
       "114.983"
      ],
      "text/plain": [
       "[1] 114.983"
      ]
     },
     "metadata": {},
     "output_type": "display_data"
    }
   ],
   "source": [
    "order(l_con_1"
   ]
  },
  {
   "cell_type": "code",
   "execution_count": 56,
   "metadata": {},
   "outputs": [
    {
     "data": {
      "text/html": [
       "179.385"
      ],
      "text/latex": [
       "179.385"
      ],
      "text/markdown": [
       "179.385"
      ],
      "text/plain": [
       "[1] 179.385"
      ]
     },
     "metadata": {},
     "output_type": "display_data"
    }
   ],
   "source": [
    "l_con_1[order(l_con_1)][98]"
   ]
  },
  {
   "cell_type": "code",
   "execution_count": 50,
   "metadata": {
    "scrolled": false
   },
   "outputs": [
    {
     "data": {
      "text/html": [
       "146.7645"
      ],
      "text/latex": [
       "146.7645"
      ],
      "text/markdown": [
       "146.7645"
      ],
      "text/plain": [
       "[1] 146.7645"
      ]
     },
     "metadata": {},
     "output_type": "display_data"
    },
    {
     "data": {
      "image/png": "[encoded data removed]",
      "text/plain": [
       "Plot with title “Histogram of l_con_1”"
      ]
     },
     "metadata": {
      "image/png": {
       "height": 420,
       "width": 420
      }
     },
     "output_type": "display_data"
    }
   ],
   "source": [
    "hist(l_con_1)\n",
    "median(l_con_1)"
   ]
  },
  {
   "cell_type": "markdown",
   "metadata": {},
   "source": [
    "### Orectolobidae"
   ]
  },
  {
   "cell_type": "code",
   "execution_count": null,
   "metadata": {},
   "outputs": [],
   "source": [
    "Orectoloboides reyndersi\n",
    "Orectolobus ziegenhinei\n",
    "Squatiscyllium sp."
   ]
  },
  {
   "cell_type": "code",
   "execution_count": null,
   "metadata": {},
   "outputs": [],
   "source": []
  },
  {
   "cell_type": "code",
   "execution_count": 58,
   "metadata": {},
   "outputs": [
    {
     "data": {
      "text/html": [
       "34.624"
      ],
      "text/latex": [
       "34.624"
      ],
      "text/markdown": [
       "34.624"
      ],
      "text/plain": [
       "[1] 34.624"
      ]
     },
     "metadata": {},
     "output_type": "display_data"
    },
    {
     "data": {
      "text/html": [
       "70.082"
      ],
      "text/latex": [
       "70.082"
      ],
      "text/markdown": [
       "70.082"
      ],
      "text/plain": [
       "[1] 70.082"
      ]
     },
     "metadata": {},
     "output_type": "display_data"
    }
   ],
   "source": [
    "l_con_2[order(l_con_2)][3]\n",
    "l_con_2[order(l_con_2)][98]"
   ]
  },
  {
   "cell_type": "code",
   "execution_count": 51,
   "metadata": {},
   "outputs": [
    {
     "data": {
      "text/html": [
       "47.9535"
      ],
      "text/latex": [
       "47.9535"
      ],
      "text/markdown": [
       "47.9535"
      ],
      "text/plain": [
       "[1] 47.9535"
      ]
     },
     "metadata": {},
     "output_type": "display_data"
    },
    {
     "data": {
      "image/png": "[encoded data removed]",
      "text/plain": [
       "Plot with title “Histogram of l_con_2”"
      ]
     },
     "metadata": {
      "image/png": {
       "height": 420,
       "width": 420
      }
     },
     "output_type": "display_data"
    }
   ],
   "source": [
    "hist(l_con_2)\n",
    "median(l_con_2)"
   ]
  },
  {
   "cell_type": "markdown",
   "metadata": {},
   "source": [
    "### Brachaeluridae"
   ]
  },
  {
   "cell_type": "code",
   "execution_count": null,
   "metadata": {},
   "outputs": [],
   "source": [
    "Eostegostoma angustum"
   ]
  },
  {
   "cell_type": "code",
   "execution_count": 59,
   "metadata": {},
   "outputs": [
    {
     "data": {
      "text/html": [
       "41.545"
      ],
      "text/latex": [
       "41.545"
      ],
      "text/markdown": [
       "41.545"
      ],
      "text/plain": [
       "[1] 41.545"
      ]
     },
     "metadata": {},
     "output_type": "display_data"
    },
    {
     "data": {
      "text/html": [
       "64.065"
      ],
      "text/latex": [
       "64.065"
      ],
      "text/markdown": [
       "64.065"
      ],
      "text/plain": [
       "[1] 64.065"
      ]
     },
     "metadata": {},
     "output_type": "display_data"
    }
   ],
   "source": [
    "l_con_3[order(l_con_3)][3]\n",
    "l_con_3[order(l_con_3)][98]"
   ]
  },
  {
   "cell_type": "code",
   "execution_count": 62,
   "metadata": {},
   "outputs": [
    {
     "data": {
      "text/html": [
       "51.2735"
      ],
      "text/latex": [
       "51.2735"
      ],
      "text/markdown": [
       "51.2735"
      ],
      "text/plain": [
       "[1] 51.2735"
      ]
     },
     "metadata": {},
     "output_type": "display_data"
    },
    {
     "data": {
      "image/png": "[encoded data removed]",
      "text/plain": [
       "Plot with title “Histogram of l_con_3”"
      ]
     },
     "metadata": {
      "image/png": {
       "height": 420,
       "width": 420
      }
     },
     "output_type": "display_data"
    }
   ],
   "source": [
    "hist(l_con_3)\n",
    "median(l_con_3)"
   ]
  },
  {
   "cell_type": "markdown",
   "metadata": {},
   "source": [
    "### Ginglymostomatidae + Rhincodontidae + Stegostomatidae + Hemiscylliidae"
   ]
  },
  {
   "cell_type": "code",
   "execution_count": null,
   "metadata": {},
   "outputs": [],
   "source": [
    "Cantioscyllium sp"
   ]
  },
  {
   "cell_type": "code",
   "execution_count": 60,
   "metadata": {},
   "outputs": [
    {
     "data": {
      "text/html": [
       "129.897"
      ],
      "text/latex": [
       "129.897"
      ],
      "text/markdown": [
       "129.897"
      ],
      "text/plain": [
       "[1] 129.897"
      ]
     },
     "metadata": {},
     "output_type": "display_data"
    },
    {
     "data": {
      "text/html": [
       "164.802"
      ],
      "text/latex": [
       "164.802"
      ],
      "text/markdown": [
       "164.802"
      ],
      "text/plain": [
       "[1] 164.802"
      ]
     },
     "metadata": {},
     "output_type": "display_data"
    }
   ],
   "source": [
    "l_con_4[order(l_con_4)][3]\n",
    "l_con_4[order(l_con_4)][98]"
   ]
  },
  {
   "cell_type": "code",
   "execution_count": 61,
   "metadata": {},
   "outputs": [
    {
     "data": {
      "text/html": [
       "146.748"
      ],
      "text/latex": [
       "146.748"
      ],
      "text/markdown": [
       "146.748"
      ],
      "text/plain": [
       "[1] 146.748"
      ]
     },
     "metadata": {},
     "output_type": "display_data"
    },
    {
     "data": {
      "image/png": "[encoded data removed]",
      "text/plain": [
       "Plot with title “Histogram of l_con_4”"
      ]
     },
     "metadata": {
      "image/png": {
       "height": 420,
       "width": 420
      }
     },
     "output_type": "display_data"
    }
   ],
   "source": [
    "hist(l_con_4)\n",
    "median(l_con_4)"
   ]
  }
 ],
 "metadata": {
  "kernelspec": {
   "display_name": "R",
   "language": "R",
   "name": "ir"
  },
  "language_info": {
   "codemirror_mode": "r",
   "file_extension": ".r",
   "mimetype": "text/x-r-source",
   "name": "R",
   "pygments_lexer": "r",
   "version": "4.3.3"
  }
 },
 "nbformat": 4,
 "nbformat_minor": 4
}
