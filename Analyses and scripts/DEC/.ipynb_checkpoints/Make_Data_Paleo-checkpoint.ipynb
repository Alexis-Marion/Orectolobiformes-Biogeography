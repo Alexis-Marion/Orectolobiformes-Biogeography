{
 "cells": [
  {
   "cell_type": "markdown",
   "metadata": {},
   "source": [
    "# Make data for DES & DEC"
   ]
  },
  {
   "cell_type": "markdown",
   "metadata": {},
   "source": [
    "## Loading packages"
   ]
  },
  {
   "cell_type": "code",
   "execution_count": 8,
   "metadata": {},
   "outputs": [],
   "source": [
    "library(\"ape\")\n",
    "library(\"SpeciesAge\")"
   ]
  },
  {
   "cell_type": "markdown",
   "metadata": {},
   "source": [
    "## Loading data"
   ]
  },
  {
   "cell_type": "code",
   "execution_count": 9,
   "metadata": {},
   "outputs": [],
   "source": [
    "table_occ <- read.table(\"../Fossil_record/Occurences_extinct_Orectolobiformes.tsv\", sep =\"\\t\", header = TRUE)"
   ]
  },
  {
   "cell_type": "code",
   "execution_count": 10,
   "metadata": {},
   "outputs": [],
   "source": [
    "tree_distribution <- read.tree(\"../Data_orectolobiformes/posterior_distribution_100_tree_orecto.tree\")"
   ]
  },
  {
   "cell_type": "markdown",
   "metadata": {},
   "source": [
    "## Cleaning data"
   ]
  },
  {
   "cell_type": "code",
   "execution_count": 11,
   "metadata": {},
   "outputs": [],
   "source": [
    "table_species <- table_occ[-grep(\"sp[.]\", table_occ$Species),]"
   ]
  },
  {
   "cell_type": "code",
   "execution_count": 12,
   "metadata": {},
   "outputs": [],
   "source": [
    "table_species_no_extant <- table_species[!(table_species$Species == c(\"Rhincodon typus\") | table_species$Species == c(\"Ginglymostoma cirratum\")),]"
   ]
  },
  {
   "cell_type": "markdown",
   "metadata": {},
   "source": [
    "## DEC"
   ]
  },
  {
   "cell_type": "markdown",
   "metadata": {},
   "source": [
    "### Create function to prepare data for DEC"
   ]
  },
  {
   "cell_type": "code",
   "execution_count": 4,
   "metadata": {},
   "outputs": [],
   "source": [
    "make_table_DEC <- function(table_fossil, path_to_save){\n",
    "    vec_sp_fossil <- unique(table_fossil$Species)\n",
    "    \n",
    "    matrix_area_fossils <- matrix(0, length(vec_sp_fossil), 7)\n",
    "    \n",
    "    for(i in 1:length(vec_sp_fossil)){\n",
    "        temp_tab <- table_fossil[table_fossil$Species == vec_sp_fossil[i],]\n",
    "        for(j in 1:nrow(temp_tab)){\n",
    "            if(temp_tab$Paleobiogeography[j] == \"Eastern Pacific\"){\n",
    "                matrix_area_fossils[i,1] <- 1\n",
    "            }\n",
    "            if(temp_tab$Paleobiogeography[j] == \"Western Atlantic\"){\n",
    "                matrix_area_fossils[i,2] <- 1\n",
    "            }\n",
    "            if(temp_tab$Paleobiogeography[j] == \"Eastern Atlantic\"){\n",
    "                matrix_area_fossils[i,3] <- 1\n",
    "            }\n",
    "            if(temp_tab$Paleobiogeography[j] == \"Tethys\"){\n",
    "                matrix_area_fossils[i,4] <- 1\n",
    "            }\n",
    "            if(temp_tab$Paleobiogeography[j] == \"Western Indo-Pacific\"){\n",
    "                matrix_area_fossils[i,5] <- 1\n",
    "            }\n",
    "            if(temp_tab$Paleobiogeography[j] == \"Central Indo-Pacific\"){\n",
    "                matrix_area_fossils[i,6] <- 1\n",
    "            }\n",
    "            if(temp_tab$Paleobiogeography[j] == \"Australia\"){\n",
    "                matrix_area_fossils[i,7] <- 1\n",
    "            }\n",
    "        \n",
    "        }\n",
    "    }\n",
    "    mat <- as.matrix((apply(X = matrix_area_fossils, MARGIN = 1, FUN = paste, collapse = \"\")))\n",
    "    final_mat <- cbind(vec_sp_fossil, mat)\n",
    "    colnames(final_mat) <- c(length(vec_sp_fossil), 7)\n",
    "    write.table(final_mat, path_to_save, , col.names = TRUE, row.names = FALSE, quote = FALSE, sep = \"\\t\")\n",
    "}"
   ]
  },
  {
   "cell_type": "markdown",
   "metadata": {},
   "source": [
    "### Execute DEC function"
   ]
  },
  {
   "cell_type": "code",
   "execution_count": 5,
   "metadata": {},
   "outputs": [],
   "source": [
    "make_table_DEC(table_species_no_extant, \"7_area_paleobiogoegraphy_Orecto.txt\")"
   ]
  },
  {
   "cell_type": "markdown",
   "metadata": {},
   "source": [
    "## DES"
   ]
  },
  {
   "cell_type": "markdown",
   "metadata": {},
   "source": [
    "### Create function for DES"
   ]
  },
  {
   "cell_type": "code",
   "execution_count": 21,
   "metadata": {},
   "outputs": [],
   "source": [
    "make_table_DES <- function(table_fossil, prefix, col){\n",
    "    \n",
    "    temp_table <- cbind(table_fossil[,col], table_fossil$Earliest.Age, table_fossil$Latest.Age, table_fossil$Paleobiogeography_1)\n",
    "    for(i in 1:nrow(table_fossil)){\n",
    "        if(table_fossil$Paleobiogeography_2[i] != \"North_Atlantic_Tethys\"){\n",
    "            temp_table[i,4] <- \"Outher\"\n",
    "        }\n",
    "    }\n",
    "    colnames(temp_table) <- c(\"scientificName\", \"earliestAge\", \"latestAge\", \"higherGeography\")\n",
    "write.table(temp_table, paste(prefix, \"_extinct_North_Atlantic_Tethys.txt\", sep = \"\"), col.names = TRUE, row.names = FALSE, quote = FALSE, sep = \"\\t\")\n",
    "}"
   ]
  },
  {
   "cell_type": "markdown",
   "metadata": {},
   "source": [
    "### Execute function for species dataset"
   ]
  },
  {
   "cell_type": "code",
   "execution_count": 22,
   "metadata": {
    "scrolled": false
   },
   "outputs": [],
   "source": [
    "make_table_DES(table_species, \"../DES/Input/Sp\", 4)"
   ]
  },
  {
   "cell_type": "markdown",
   "metadata": {},
   "source": [
    "### Execute function for genus dataset"
   ]
  },
  {
   "cell_type": "code",
   "execution_count": 23,
   "metadata": {},
   "outputs": [],
   "source": [
    "make_table_DES(table_occ, \"../DES/Input/Gen\", 3)"
   ]
  },
  {
   "cell_type": "code",
   "execution_count": 41,
   "metadata": {},
   "outputs": [],
   "source": [
    "tab <- read.table(\"../DES/Input/Gen_extinct_Tethys.txt\", sep =\"\\t\", header = TRUE)"
   ]
  },
  {
   "cell_type": "code",
   "execution_count": 42,
   "metadata": {},
   "outputs": [],
   "source": [
    "write.table(tab[tab$earliestAge < 100.5,], \"../DES/Input/Gen_extinct_Tethys_reduced.txt\", col.names = TRUE, row.names = FALSE, quote = FALSE, sep = \"\\t\")"
   ]
  }
 ],
 "metadata": {
  "kernelspec": {
   "display_name": "R",
   "language": "R",
   "name": "ir"
  },
  "language_info": {
   "codemirror_mode": "r",
   "file_extension": ".r",
   "mimetype": "text/x-r-source",
   "name": "R",
   "pygments_lexer": "r",
   "version": "4.3.3"
  }
 },
 "nbformat": 4,
 "nbformat_minor": 4
}
