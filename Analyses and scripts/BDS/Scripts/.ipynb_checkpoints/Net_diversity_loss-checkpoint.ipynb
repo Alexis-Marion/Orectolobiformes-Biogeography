{
 "cells": [
  {
   "cell_type": "markdown",
   "metadata": {},
   "source": [
    "# Net diversity loss"
   ]
  },
  {
   "cell_type": "markdown",
   "metadata": {},
   "source": [
    "## Loading packages"
   ]
  },
  {
   "cell_type": "code",
   "execution_count": 1,
   "metadata": {
    "scrolled": true
   },
   "outputs": [
    {
     "name": "stderr",
     "output_type": "stream",
     "text": [
      "\n",
      "Attachement du package : ‘dplyr’\n",
      "\n",
      "\n",
      "Les objets suivants sont masqués depuis ‘package:stats’:\n",
      "\n",
      "    filter, lag\n",
      "\n",
      "\n",
      "Les objets suivants sont masqués depuis ‘package:base’:\n",
      "\n",
      "    intersect, setdiff, setequal, union\n",
      "\n",
      "\n"
     ]
    }
   ],
   "source": [
    "library(\"dplyr\")"
   ]
  },
  {
   "cell_type": "markdown",
   "metadata": {},
   "source": [
    "## Create usefull functions"
   ]
  },
  {
   "cell_type": "markdown",
   "metadata": {},
   "source": [
    "### Extract LTT values"
   ]
  },
  {
   "cell_type": "code",
   "execution_count": 2,
   "metadata": {},
   "outputs": [],
   "source": [
    "extract_ltt <- function(dir){\n",
    "  files <- Sys.glob(paste0(dir, \"*_ltt.txt\"))\n",
    "  files <- files[grepl(pattern = \"KEEP\", x = files)]\n",
    "  ltt <- read.table(files[1], header = TRUE)\n",
    "  ltt$time <- unlist(lapply(X = ltt$time, FUN = round, digits = 1))\n",
    "  if(length(which(ltt$time > 500)) > 0){\n",
    "    ltt <- ltt[-which(ltt$time > 500), c(\"time\", \"diversity\")]\n",
    "  }\n",
    "  else{\n",
    "    ltt <- ltt[, c(\"time\", \"diversity\")]\n",
    "  }\n",
    "  ltt <- ltt %>% rename(diversity_1 = \"diversity\")\n",
    "  i = 2\n",
    "  for(file in files[2:length(files)]){\n",
    "    f <- read.table(file, header = TRUE)\n",
    "    if(length(which(f$time > 500)) > 0){\n",
    "      f <- f[-which(f$time > 500), c(\"time\", \"diversity\")]\n",
    "    }\n",
    "    else{\n",
    "      f <- f[, c(\"time\", \"diversity\")]\n",
    "    }\n",
    "    f$time <- unlist(lapply(X = f$time, FUN = round, digits = 1))\n",
    "    colnames(f) <- c(\"time\", paste0(\"diversity_\", i))\n",
    "    ltt <- merge(ltt, f, by = \"time\", all = T)\n",
    "    i <- i+1\n",
    "  }\n",
    "  LTT <- data.frame(Age = ltt$time,\n",
    "                    Diversity = apply(X = ltt[,c(2:ncol(ltt))],\n",
    "                                      MARGIN = 1,\n",
    "                                      FUN = mean,\n",
    "                                      na.rm = TRUE),\n",
    "                    min_Diversity = apply(X = ltt[,c(2:ncol(ltt))],\n",
    "                                          MARGIN = 1,\n",
    "                                          FUN = min,\n",
    "                                          na.rm = TRUE),\n",
    "                    max_Diversity = apply(X = ltt[,c(2:ncol(ltt))],\n",
    "                                          MARGIN = 1,\n",
    "                                          FUN = max,\n",
    "                                          na.rm = TRUE))\n",
    "  \n",
    "  return(LTT)\n",
    "}"
   ]
  },
  {
   "cell_type": "markdown",
   "metadata": {},
   "source": [
    "### Net loss between two bins"
   ]
  },
  {
   "cell_type": "code",
   "execution_count": 3,
   "metadata": {},
   "outputs": [],
   "source": [
    "net_loss <- function(ltt, bin1, bin2){\n",
    "    count_1 <- ltt[ltt[,1] == bin1,2]\n",
    "    count_2 <- ltt[ltt[,1] == bin2,2]\n",
    "    return((1 -count_2/count_1))\n",
    "}"
   ]
  },
  {
   "cell_type": "markdown",
   "metadata": {},
   "source": [
    "## Loading data"
   ]
  },
  {
   "cell_type": "markdown",
   "metadata": {},
   "source": [
    "### Genus"
   ]
  },
  {
   "cell_type": "code",
   "execution_count": 4,
   "metadata": {
    "scrolled": true
   },
   "outputs": [],
   "source": [
    "ltt_genus <- extract_ltt(\"../Results/Main_analyses/Genus_plot/output_ltt/\")"
   ]
  },
  {
   "cell_type": "markdown",
   "metadata": {},
   "source": [
    "### Species"
   ]
  },
  {
   "cell_type": "code",
   "execution_count": null,
   "metadata": {},
   "outputs": [],
   "source": [
    "ltt_species <- extract_ltt(\"../Results/Main_analyses/Species_plot/output_ltt/\")"
   ]
  },
  {
   "cell_type": "markdown",
   "metadata": {},
   "source": [
    "### Species combined"
   ]
  },
  {
   "cell_type": "code",
   "execution_count": null,
   "metadata": {},
   "outputs": [],
   "source": [
    "ltt_species_combined <- extract_ltt(\"../Results/Main_analyses/Species_combined_plot/output_ltt/\")"
   ]
  },
  {
   "cell_type": "markdown",
   "metadata": {},
   "source": [
    "### Species combined CDD"
   ]
  },
  {
   "cell_type": "code",
   "execution_count": null,
   "metadata": {},
   "outputs": [],
   "source": [
    "ltt_species_combined_CDD <- extract_ltt(\"../Results/Main_analyses/Species_combined_CDD_plot/output_ltt/\")"
   ]
  },
  {
   "cell_type": "markdown",
   "metadata": {},
   "source": [
    "## Compute net loss"
   ]
  },
  {
   "cell_type": "markdown",
   "metadata": {},
   "source": [
    "### Compute loss for K-Pg."
   ]
  },
  {
   "cell_type": "markdown",
   "metadata": {},
   "source": [
    "#### Genus"
   ]
  },
  {
   "cell_type": "code",
   "execution_count": null,
   "metadata": {},
   "outputs": [],
   "source": [
    "net_loss(ltt_genus, 67, 65)"
   ]
  },
  {
   "cell_type": "markdown",
   "metadata": {},
   "source": [
    "#### Species"
   ]
  },
  {
   "cell_type": "code",
   "execution_count": null,
   "metadata": {},
   "outputs": [],
   "source": [
    "net_loss(ltt_species, 67, 65)"
   ]
  },
  {
   "cell_type": "markdown",
   "metadata": {},
   "source": [
    "#### Species combined"
   ]
  },
  {
   "cell_type": "code",
   "execution_count": null,
   "metadata": {},
   "outputs": [],
   "source": [
    "net_loss(ltt_species_combined, 67, 65)"
   ]
  },
  {
   "cell_type": "markdown",
   "metadata": {},
   "source": [
    "#### Species combined CDD"
   ]
  },
  {
   "cell_type": "code",
   "execution_count": null,
   "metadata": {},
   "outputs": [],
   "source": [
    "net_loss(ltt_species_combined_CDD, 67, 65)"
   ]
  },
  {
   "cell_type": "markdown",
   "metadata": {},
   "source": [
    "### Compute loss for EOT"
   ]
  },
  {
   "cell_type": "markdown",
   "metadata": {},
   "source": [
    "#### Genus"
   ]
  },
  {
   "cell_type": "code",
   "execution_count": null,
   "metadata": {},
   "outputs": [],
   "source": [
    "net_loss(ltt_genus, 38, 33.9)"
   ]
  },
  {
   "cell_type": "markdown",
   "metadata": {},
   "source": [
    "#### Species"
   ]
  },
  {
   "cell_type": "code",
   "execution_count": null,
   "metadata": {},
   "outputs": [],
   "source": [
    "net_loss(ltt_species, 38, 33.9)"
   ]
  },
  {
   "cell_type": "markdown",
   "metadata": {},
   "source": [
    "#### Species combined"
   ]
  },
  {
   "cell_type": "code",
   "execution_count": null,
   "metadata": {},
   "outputs": [],
   "source": [
    "net_loss(ltt_species_combined, 38, 33.9)"
   ]
  },
  {
   "cell_type": "markdown",
   "metadata": {},
   "source": [
    "#### Species combined CDD"
   ]
  },
  {
   "cell_type": "code",
   "execution_count": null,
   "metadata": {},
   "outputs": [],
   "source": [
    "net_loss(ltt_species_combined_CDD, 38, 33.9)"
   ]
  }
 ],
 "metadata": {
  "kernelspec": {
   "display_name": "R",
   "language": "R",
   "name": "ir"
  },
  "language_info": {
   "codemirror_mode": "r",
   "file_extension": ".r",
   "mimetype": "text/x-r-source",
   "name": "R",
   "pygments_lexer": "r",
   "version": "4.3.3"
  }
 },
 "nbformat": 4,
 "nbformat_minor": 4
}
