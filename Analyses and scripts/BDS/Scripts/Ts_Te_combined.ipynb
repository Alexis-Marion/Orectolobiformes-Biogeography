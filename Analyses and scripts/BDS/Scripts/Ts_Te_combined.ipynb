{
 "cells": [
  {
   "cell_type": "markdown",
   "metadata": {},
   "source": [
    "# Combining extant data and extinct data for PyRate"
   ]
  },
  {
   "cell_type": "markdown",
   "metadata": {},
   "source": [
    "## Loading packages"
   ]
  },
  {
   "cell_type": "code",
   "execution_count": 1,
   "metadata": {
    "scrolled": true
   },
   "outputs": [
    {
     "name": "stderr",
     "output_type": "stream",
     "text": [
      "Le chargement a nécessité le package : ape\n",
      "\n",
      "Le chargement a nécessité le package : diversitree\n",
      "\n",
      "Le chargement a nécessité le package : TreeSim\n",
      "\n",
      "Le chargement a nécessité le package : geiger\n",
      "\n",
      "Le chargement a nécessité le package : phytools\n",
      "\n",
      "Le chargement a nécessité le package : maps\n",
      "\n",
      "Le chargement a nécessité le package : picante\n",
      "\n",
      "Le chargement a nécessité le package : vegan\n",
      "\n",
      "Le chargement a nécessité le package : permute\n",
      "\n",
      "Le chargement a nécessité le package : lattice\n",
      "\n",
      "This is vegan 2.6-8\n",
      "\n",
      "\n",
      "Attachement du package : ‘vegan’\n",
      "\n",
      "\n",
      "L'objet suivant est masqué depuis ‘package:phytools’:\n",
      "\n",
      "    scores\n",
      "\n",
      "\n",
      "Le chargement a nécessité le package : nlme\n",
      "\n"
     ]
    }
   ],
   "source": [
    "library(\"SpeciesAge\")\n",
    "library(\"ape\")"
   ]
  },
  {
   "cell_type": "markdown",
   "metadata": {},
   "source": [
    "## Loading data"
   ]
  },
  {
   "cell_type": "code",
   "execution_count": 2,
   "metadata": {},
   "outputs": [],
   "source": [
    "tree_list <- read.tree(\"../../../Data/Trees/posterior_distribution_100_tree_orecto.tree\")"
   ]
  },
  {
   "cell_type": "code",
   "execution_count": 3,
   "metadata": {},
   "outputs": [],
   "source": [
    "phy <- read.tree(\"../../../Data/Trees/consensus_tree_orecto.tree\")"
   ]
  },
  {
   "cell_type": "code",
   "execution_count": 4,
   "metadata": {},
   "outputs": [],
   "source": [
    "table_taxo <- read.table(\"../../BDS/Results/Biogeo/Species/outside_Tethys/Data_Occ_sp_Orecto_outside_Tethys_TaxonList.txt\", sep =\"\\t\", header = TRUE)"
   ]
  },
  {
   "cell_type": "code",
   "execution_count": 5,
   "metadata": {},
   "outputs": [],
   "source": [
    "lst_files_TS_TE <- list.files(\"../Results/Biogeo/Species/outside_Tethys/pyrate_mcmc_logs/\", full.names = TRUE, pattern = \"se_est.txt\")"
   ]
  },
  {
   "cell_type": "code",
   "execution_count": 8,
   "metadata": {},
   "outputs": [],
   "source": [
    "tab <- read.table(\"../Rate_shifts/Rates_sp.csv\", header = TRUE, sep = \";\")"
   ]
  },
  {
   "cell_type": "markdown",
   "metadata": {},
   "source": [
    "## Combining data"
   ]
  },
  {
   "cell_type": "code",
   "execution_count": 9,
   "metadata": {
    "scrolled": true
   },
   "outputs": [],
   "source": [
    "tr_nb_list<-sample(100, 20, replace = FALSE)\n",
    "for (i in 1:20){\n",
    "    tr <- tree_list[[tr_nb_list[i]]]\n",
    "    temp_Ts_Te <- read.table(lst_files_TS_TE[[i]], sep =\"\\t\", header = TRUE)\n",
    "    temp_table_taxo <- cbind(table_taxo, temp_Ts_Te)\n",
    "    temp_phy <- as.data.frame(SpeciesAge::calculateTipAges(tr))\n",
    "    temp_phy_corr <- as.data.frame(cbind(SpeciesAge::calculateTipAges(tr)[,1], lapply(SpeciesAge::calculateTipAges(tr)[,2], meanAge, lambda = mean(unlist(tab[6,-1])), mu = mean(unlist(tab[7,-1])), rho = 38/44)))\n",
    "    temp_phy2 <- temp_phy[! temp_phy[,1] %in% temp_table_taxo[,1],2]    \n",
    "    temp_phy_corr2 <- temp_phy_corr[! temp_phy_corr[,1] %in% temp_table_taxo[,1],2]\n",
    "    temp_neonto <- as.data.frame(cbind(rep(0,length(temp_phy2)), ((nrow(temp_table_taxo)+1):(nrow(temp_table_taxo)+length(temp_phy2))), temp_phy2, rep(0,length(temp_phy2))))\n",
    "    temp_neonto_corr <- as.data.frame(cbind(rep(0,length(temp_phy_corr2)), ((nrow(temp_table_taxo)+1):(nrow(temp_table_taxo)+length(temp_phy_corr2))), temp_phy_corr2, rep(0,length(temp_phy_corr2))))\n",
    "    colnames(temp_neonto) <- colnames(temp_Ts_Te)\n",
    "    colnames(temp_neonto_corr) <- colnames(temp_Ts_Te)\n",
    "    data_TS_TE <- rbind(temp_Ts_Te, temp_neonto)\n",
    "    data_TS_TE$clade <- unlist(data_TS_TE$clade)\n",
    "    data_TS_TE$species <- unlist(data_TS_TE$species)\n",
    "    data_TS_TE$ts <- unlist(data_TS_TE$ts)\n",
    "    data_TS_TE$te <- unlist(data_TS_TE$te)\n",
    "    data_TS_TE_CDD <- rbind(temp_Ts_Te, temp_neonto_corr)\n",
    "    data_TS_TE_CDD$clade <- unlist(data_TS_TE_CDD$clade)\n",
    "    data_TS_TE_CDD$species <- unlist(data_TS_TE_CDD$species)\n",
    "    data_TS_TE_CDD$ts <- unlist(data_TS_TE_CDD$ts)\n",
    "    data_TS_TE_CDD$te <- unlist(data_TS_TE_CDD$te)\n",
    "    write.table(data_TS_TE, paste(\"../Results/Main_analyses/Species_combined/\", i, \"_G_KEEP_BDS_se_est.txt\", sep =\"\"), sep = \"\\t\", col.names = TRUE, row.names = FALSE, quote = FALSE)\n",
    "    write.table(data_TS_TE_CDD, paste(\"../Results/Main_analyses/Species_combined_CDD/\", i, \"_G_KEEP_BDS_se_est.txt\", sep =\"\"), sep = \"\\t\", col.names = TRUE, row.names = FALSE, quote = FALSE)\n",
    "}"
   ]
  }
 ],
 "metadata": {
  "kernelspec": {
   "display_name": "R",
   "language": "R",
   "name": "ir"
  },
  "language_info": {
   "codemirror_mode": "r",
   "file_extension": ".r",
   "mimetype": "text/x-r-source",
   "name": "R",
   "pygments_lexer": "r",
   "version": "4.3.3"
  }
 },
 "nbformat": 4,
 "nbformat_minor": 4
}
