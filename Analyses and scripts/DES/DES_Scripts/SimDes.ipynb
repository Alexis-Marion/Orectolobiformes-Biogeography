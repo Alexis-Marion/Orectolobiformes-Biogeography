{
 "cells": [
  {
   "cell_type": "markdown",
   "metadata": {},
   "source": [
    "# Simulating datasets"
   ]
  },
  {
   "cell_type": "markdown",
   "metadata": {},
   "source": [
    "## Loading libraries"
   ]
  },
  {
   "cell_type": "code",
   "execution_count": null,
   "metadata": {},
   "outputs": [],
   "source": [
    "library(\"simDES\")"
   ]
  },
  {
   "cell_type": "markdown",
   "metadata": {},
   "source": [
    "## Fixing parameters"
   ]
  },
  {
   "cell_type": "markdown",
   "metadata": {},
   "source": [
    "### Time and number of lineages"
   ]
  },
  {
   "cell_type": "code",
   "execution_count": null,
   "metadata": {},
   "outputs": [],
   "source": [
    "Time <- 100.5\n",
    "Step <- 0.5\n",
    "N_low <- 50\n",
    "N_mid <- 100\n",
    "N_high <- 150"
   ]
  },
  {
   "cell_type": "markdown",
   "metadata": {},
   "source": [
    "### Time bins"
   ]
  },
  {
   "cell_type": "code",
   "execution_count": null,
   "metadata": {},
   "outputs": [],
   "source": [
    "BinSize_05 = 0.5\n",
    "BinSize_1 = 1\n",
    "BinSize_5 = 5\n",
    "BinSize_10 = 10"
   ]
  },
  {
   "cell_type": "markdown",
   "metadata": {},
   "source": [
    "### Time shifts"
   ]
  },
  {
   "cell_type": "code",
   "execution_count": null,
   "metadata": {},
   "outputs": [],
   "source": [
    "shift_KPG <- c(66)\n",
    "shift_EOT <- c(33.9)\n",
    "shifts_KPG_EOT <- c(66, 33.9)"
   ]
  },
  {
   "cell_type": "markdown",
   "metadata": {},
   "source": [
    "## Creating the simulation function"
   ]
  },
  {
   "cell_type": "code",
   "execution_count": null,
   "metadata": {},
   "outputs": [],
   "source": [
    "sim_data_maker <- function(BinSize, Ntaxa, Shifts, pattern, combined = NULL){\n",
    "    Time <- 100.5\n",
    "    Step <- 0.5\n",
    "    mG <- 1\n",
    "    for(i in 1:100){\n",
    "        shift_ex_1 <- c(0.25, 0.5)\n",
    "        shift_ex_2 <- c(0.5, 0.25)\n",
    "        shift_ds_1 <- c(0.25, 0.5)\n",
    "        shift_ds_2 <- c(0.5, 0.25)\n",
    "        shift_q_1 <- c(1, 2)\n",
    "        \n",
    "        if(length(combined) == 0){\n",
    "            shift_q_2 <- c(0.125, 0.25)\n",
    "        }\n",
    "        \n",
    "        if(length(combined) != 0){\n",
    "            shift_q_2 <- c(2, 4)\n",
    "        }        \n",
    "        \n",
    "        if(length(Shifts) == 0){\n",
    "            SimD <- shift_ds_1\n",
    "            SimE <- shift_ex_1\n",
    "            SimQ <- shift_q_1\n",
    "        }\n",
    "        \n",
    "        if(length(Shifts) == 1){\n",
    "            SimD <- c(shift_ds_1, shift_ds_2)\n",
    "            SimE <- c(shift_ex_1, shift_ex_2)\n",
    "            SimQ <- c(shift_q_1, shift_q_2)\n",
    "        }\n",
    "        \n",
    "        if(length(Shifts) == 2){\n",
    "            SimD <- c(shift_ds_1, shift_ds_2, shift_ds_1)\n",
    "            SimE <- c(shift_ex_1, shift_ex_2, shift_ex_1)\n",
    "            SimQ <- c(shift_q_1, shift_q_1, shift_q_2)\n",
    "        }\n",
    "        \n",
    "        if(length(Shifts) == 4){\n",
    "            SimD <- c(shift_ds_1, shift_ds_2, shift_ds_1, shift_ds_2, shift_ds_1)\n",
    "            SimE <- c(shift_ex_1, shift_ex_2, shift_ex_1, shift_ex_2, shift_ex_1)\n",
    "            SimQ <- c(shift_q_1, shift_q_1, shift_q_1, shift_q_1, shift_q_2)\n",
    "        }\n",
    "        \n",
    "        \n",
    "        output <- paste(\"Simulation/Input/\", pattern, \"/\", pattern, \"_DES_\", i, \".txt\", sep = \"\")\n",
    "        Sim_data <- sim_DES(Time = Time, Step = Step, BinSize = BinSize, Nspecies = Ntaxa, SimD = SimD, SimE = SimE, SimQ = SimQ, Qtimes = Shifts, Ncat = Inf, alpha = mG)\n",
    "        write.table(Sim_data[[1]], output, sep = \"\\t\", row.names = FALSE, quote = FALSE, na = \"NaN\")\n",
    "    }\n",
    "}"
   ]
  },
  {
   "cell_type": "markdown",
   "metadata": {},
   "source": [
    "## Simulating data"
   ]
  },
  {
   "cell_type": "code",
   "execution_count": null,
   "metadata": {},
   "outputs": [],
   "source": [
    "sim_data_maker(BinSize = BinSize_1, Ntaxa = N_low, Shifts = NULL, \"No_shift_low\")"
   ]
  },
  {
   "cell_type": "code",
   "execution_count": null,
   "metadata": {},
   "outputs": [],
   "source": [
    "sim_data_maker(BinSize = BinSize_1, Ntaxa = N_mid, Shifts = NULL, \"No_shift_mid\")"
   ]
  },
  {
   "cell_type": "code",
   "execution_count": null,
   "metadata": {},
   "outputs": [],
   "source": [
    "sim_data_maker(BinSize = BinSize_1, Ntaxa = N_high, Shifts = NULL, \"No_shift_combined\",  combined = TRUE)"
   ]
  },
  {
   "cell_type": "code",
   "execution_count": null,
   "metadata": {},
   "outputs": [],
   "source": [
    "sim_data_maker(BinSize = BinSize_1, Ntaxa = N_low, Shifts = shift_EOT, \"One_shift_low\")"
   ]
  },
  {
   "cell_type": "code",
   "execution_count": null,
   "metadata": {},
   "outputs": [],
   "source": [
    "sim_data_maker(BinSize = BinSize_1, Ntaxa = N_mid, Shifts = shift_EOT, \"One_shift_mid\")"
   ]
  },
  {
   "cell_type": "code",
   "execution_count": null,
   "metadata": {},
   "outputs": [],
   "source": [
    "sim_data_maker(BinSize = BinSize_1, Ntaxa = N_high, Shifts = shift_EOT, \"One_shift_combined\",  combined = TRUE)"
   ]
  },
  {
   "cell_type": "code",
   "execution_count": null,
   "metadata": {},
   "outputs": [],
   "source": [
    "sim_data_maker(BinSize = BinSize_1, Ntaxa = N_low, Shifts = shifts_KPG_EOT, \"Two_shifts_low\")"
   ]
  },
  {
   "cell_type": "code",
   "execution_count": null,
   "metadata": {},
   "outputs": [],
   "source": [
    "sim_data_maker(BinSize = BinSize_1, Ntaxa = N_mid, Shifts = shifts_KPG_EOT, \"Two_shifts_mid\")"
   ]
  },
  {
   "cell_type": "code",
   "execution_count": null,
   "metadata": {},
   "outputs": [],
   "source": [
    "sim_data_maker(BinSize = BinSize_1, Ntaxa = N_high, Shifts = shifts_KPG_EOT, \"Two_shifts_combined\",  combined = TRUE)"
   ]
  }
 ],
 "metadata": {
  "kernelspec": {
   "display_name": "R",
   "language": "R",
   "name": "ir"
  },
  "language_info": {
   "codemirror_mode": "r",
   "file_extension": ".r",
   "mimetype": "text/x-r-source",
   "name": "R",
   "pygments_lexer": "r",
   "version": "4.3.3"
  }
 },
 "nbformat": 4,
 "nbformat_minor": 4
}
