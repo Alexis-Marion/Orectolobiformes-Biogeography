{
 "cells": [
  {
   "cell_type": "markdown",
   "metadata": {},
   "source": [
    "# Palaeogeography"
   ]
  },
  {
   "cell_type": "markdown",
   "metadata": {},
   "source": [
    "## Loading packages"
   ]
  },
  {
   "cell_type": "code",
   "execution_count": 1,
   "metadata": {},
   "outputs": [
    {
     "name": "stderr",
     "output_type": "stream",
     "text": [
      "Linking to liblwgeom 3.0.0beta1 r16016, GEOS 3.8.0, PROJ 6.3.1\n",
      "\n",
      "Linking to GEOS 3.8.0, GDAL 3.0.4, PROJ 6.3.1; sf_use_s2() is TRUE\n",
      "\n",
      "\n",
      "Attachement du package : ‘sf’\n",
      "\n",
      "\n",
      "L'objet suivant est masqué depuis ‘package:lwgeom’:\n",
      "\n",
      "    st_perimeter\n",
      "\n",
      "\n",
      "Le chargement a nécessité le package : sp\n",
      "\n",
      "Registered S3 method overwritten by 'geojson':\n",
      "  method        from     \n",
      "  print.geojson geojsonsf\n",
      "\n",
      "\n",
      "Attachement du package : ‘geojsonio’\n",
      "\n",
      "\n",
      "L'objet suivant est masqué depuis ‘package:base’:\n",
      "\n",
      "    pretty\n",
      "\n",
      "\n",
      "\n",
      "Attachement du package : ‘cowplot’\n",
      "\n",
      "\n",
      "L'objet suivant est masqué depuis ‘package:ggpubr’:\n",
      "\n",
      "    get_legend\n",
      "\n",
      "\n",
      "\n",
      "Attachement du package : ‘dplyr’\n",
      "\n",
      "\n",
      "Les objets suivants sont masqués depuis ‘package:raster’:\n",
      "\n",
      "    intersect, select, union\n",
      "\n",
      "\n",
      "Les objets suivants sont masqués depuis ‘package:stats’:\n",
      "\n",
      "    filter, lag\n",
      "\n",
      "\n",
      "Les objets suivants sont masqués depuis ‘package:base’:\n",
      "\n",
      "    intersect, setdiff, setequal, union\n",
      "\n",
      "\n"
     ]
    }
   ],
   "source": [
    "library(\"divvy\")\n",
    "library(\"lwgeom\")\n",
    "library(\"h3jsr\")\n",
    "library(\"ggplot2\")\n",
    "library(\"ggpubr\")\n",
    "library(\"sf\")\n",
    "library(\"raster\")\n",
    "library(\"geojsonio\")\n",
    "library(\"sp\")\n",
    "library(\"cowplot\")\n",
    "library(\"dplyr\") "
   ]
  },
  {
   "cell_type": "markdown",
   "metadata": {},
   "source": [
    "## Create usefull functions"
   ]
  },
  {
   "cell_type": "markdown",
   "metadata": {},
   "source": [
    "### Base function for jitter"
   ]
  },
  {
   "cell_type": "code",
   "execution_count": 2,
   "metadata": {},
   "outputs": [],
   "source": [
    "jitter_coor <- function(x){\n",
    "    return(x + runif(n = 1, -2, 2))\n",
    "}"
   ]
  },
  {
   "cell_type": "markdown",
   "metadata": {},
   "source": [
    "### Jitter function to avoid overlapp"
   ]
  },
  {
   "cell_type": "code",
   "execution_count": 3,
   "metadata": {},
   "outputs": [],
   "source": [
    "jitter_overlapp <- function(tab){\n",
    "    tab_dup <- tab[duplicated(tab[,c(8,9)]),]\n",
    "    for(i in 1:nrow(tab)){\n",
    "        if(tab[i, 8] %in% tab_dup[,8] & tab[i, 9] %in% tab_dup[,9]){\n",
    "            tab[i, 8] <- jitter_coor(tab[i, 8])\n",
    "            tab[i, 9] <- jitter_coor(tab[i, 9])\n",
    "        }\n",
    "    }\n",
    "    return(tab)\n",
    "}"
   ]
  },
  {
   "cell_type": "markdown",
   "metadata": {},
   "source": [
    "### Plotting maps"
   ]
  },
  {
   "cell_type": "code",
   "execution_count": 4,
   "metadata": {},
   "outputs": [],
   "source": [
    "plot_maps <-function(data_epochs,i){\n",
    "    temp_CM <- paste(\"../../Data/PaleoDEMS/CM/\", data_epochs$Age[i], \"Ma_CM_v7.shp\", sep = \"\")\n",
    "    temp_CS <- paste(\"../../Data/PaleoDEMS/CS/\", data_epochs$Age[i], \"Ma_CS_v7.shp\", sep = \"\")\n",
    "    \n",
    "    temp_paleo_data <- paleo_coordinate_cleaned[paleo_coordinate_cleaned$age > data_epochs$Age_min[i] & paleo_coordinate_cleaned$age < data_epochs$Age_max[i], ]\n",
    "    pal_cor <- data.frame(longitude = temp_paleo_data$p_lng_PALEOMAP, latitude = temp_paleo_data$p_lat_PALEOMAP)\n",
    "    \n",
    "    gpm <- read_sf(temp_CM)\n",
    "\n",
    "    gpm2 <- read_sf(temp_CS)\n",
    "    \n",
    "    Family <- temp_paleo_data[,1]\n",
    "    \n",
    "    coordinates(pal_cor) <- ~longitude + latitude\n",
    "    proj4string(pal_cor) <- CRS(\"+proj=longlat +datum=WGS84\")\n",
    "    SpatialPoints(pal_cor, proj4string = CRS(\"ESRI:54030\"))\n",
    "    coords_robinson <- spTransform(pal_cor, CRS(\"+proj=robin +datum=WGS84\"))\n",
    "    coords_sf <- st_as_sf(coords_robinson)\n",
    "    \n",
    "    palaeo_coordinate <- gpm  %>% ggplot() +         \n",
    "        geom_sf(data = bb, fill = \"#D7ECF4\", colour = NA) +\n",
    "        geom_sf(data = gpm, fill = \"#C0E6E2\", colour = \"black\", alpha = 1) +\n",
    "        geom_sf(data = gpm2, fill = \"#BEB4B0\", colour = \"black\", alpha = 1) +\n",
    "        geom_sf(data = bbox) +\n",
    "        geom_sf(data = coords_sf, aes(color = Family)) +\n",
    "        scale_color_manual(values=color_vec_orecto) + \n",
    "        coord_sf(crs = sf::st_crs(\"ESRI:54030\")) +\n",
    "        ggtitle(data_epochs$Epoch[i]) + \n",
    "        guides(color = FALSE) + \n",
    "        theme_void() +\n",
    "        theme(plot.title = element_text(hjust = 0.5))\n",
    "    return(palaeo_coordinate)\n",
    "}"
   ]
  },
  {
   "cell_type": "markdown",
   "metadata": {},
   "source": [
    "## Setting up environement"
   ]
  },
  {
   "cell_type": "code",
   "execution_count": 5,
   "metadata": {},
   "outputs": [
    {
     "name": "stderr",
     "output_type": "stream",
     "text": [
      "Spherical geometry (s2) switched off\n",
      "\n"
     ]
    }
   ],
   "source": [
    "sf_use_s2(FALSE)"
   ]
  },
  {
   "cell_type": "code",
   "execution_count": 6,
   "metadata": {},
   "outputs": [],
   "source": [
    "ras <- raster::raster(res = 5, val = 1)\n",
    "ras <- rasterToPolygons(x = ras, dissolve = TRUE)\n",
    "bb <- sf::st_as_sf(x = ras)\n",
    "bb <- st_transform(x = bb, crs = sf::st_crs(4326))\n",
    "bbox <- st_graticule(crs = st_crs(\"ESRI:54030\"), lat = c(-89.9, 89.9), lon = c(-179.9, 179.9))"
   ]
  },
  {
   "cell_type": "markdown",
   "metadata": {},
   "source": [
    "## Loading occurence data"
   ]
  },
  {
   "cell_type": "markdown",
   "metadata": {},
   "source": [
    "## Paleocoordinate"
   ]
  },
  {
   "cell_type": "code",
   "execution_count": 7,
   "metadata": {},
   "outputs": [],
   "source": [
    "paleo_coordinate <-read.table(\"../../Data/Coordinate/paleo_coordinate.tsv\", sep =\"\\t\", header = TRUE)"
   ]
  },
  {
   "cell_type": "code",
   "execution_count": 8,
   "metadata": {
    "scrolled": false
   },
   "outputs": [],
   "source": [
    "paleo_coordinate_cleaned <- jitter_overlapp(paleo_coordinate)"
   ]
  },
  {
   "cell_type": "markdown",
   "metadata": {},
   "source": [
    "### Create bins"
   ]
  },
  {
   "cell_type": "code",
   "execution_count": 9,
   "metadata": {},
   "outputs": [],
   "source": [
    "data_epochs <- data.frame(Epoch = c(\"Miocene: 20 Myrs ago\", \"Oligocene: 30 Myrs ago\", \"Eocene: 50 Myrs ago\", \"Paleocene: 65 Myrs ago\", \"Campanian: 80 Myrs ago\", \"Cenomanian: 95 Myrs ago\", \"Barremian: 125 Myrs ago\", \"Berriasian: 140 Myrs ago\", \"Kimmeridgian: 155 Myrs ago\", \"Callovian: 165 Myrs ago\", \"Pliensbachian: 185 Myrs ago\"),\n",
    "        Age_min = c(0, 23.031, 33.901, 56.001, 66.001, 83.601, 100.501, 125.001, 145.001, 163.501, 174.101), \n",
    "        Age_max = c(23.03, 33.9, 56, 66, 83.6, 100.5, 125, 145, 163.5, 174.1, 201.3), \n",
    "        Age = c(20, 30, 50, 65, 80, 95, 125, 140, 155, 165, 185))"
   ]
  },
  {
   "cell_type": "markdown",
   "metadata": {},
   "source": [
    "### Create color palette"
   ]
  },
  {
   "cell_type": "code",
   "execution_count": 10,
   "metadata": {
    "scrolled": true
   },
   "outputs": [],
   "source": [
    "paleo_coordinate_cleaned$Family <- as.factor(paleo_coordinate_cleaned$Family)"
   ]
  },
  {
   "cell_type": "code",
   "execution_count": 11,
   "metadata": {},
   "outputs": [],
   "source": [
    "color_vec_orecto <- c(\"Brachaeluridae\" = \"#8174A0\", \"Ginglymostomatidae\"=\"#FFC067\", \"Hemiscylliidae\"=\"#F2EEE5\",\n",
    "            \"Mesiteiidae\" = \"#FCFAEE\",\"Orectolobidae\"= \"#9FCDF3\", \"Orectolobiformes incert. fam.\" = \"#CFCFC4\", \"Parascylliidae\" = \"#3E8999\",\n",
    "            \"Rhincodontidae\" = \"#CB9DF0\", \"Stegostomatidae\" = \"#B5828C\")"
   ]
  },
  {
   "cell_type": "markdown",
   "metadata": {},
   "source": [
    "### Plot maps"
   ]
  },
  {
   "cell_type": "code",
   "execution_count": 12,
   "metadata": {},
   "outputs": [
    {
     "name": "stderr",
     "output_type": "stream",
     "text": [
      "Warning message:\n",
      "“\u001b[1m\u001b[22mThe `<scale>` argument of `guides()` cannot be `FALSE`. Use \"none\" instead as\n",
      "of ggplot2 3.3.4.”\n"
     ]
    }
   ],
   "source": [
    "fig_1 <- plot_grid(plot_maps(data_epochs,11), plot_maps(data_epochs,10), plot_maps(data_epochs,9), labels = c(\"A\", \"B\", \"C\"), ncol = 1)\n",
    "\n",
    "fig_2 <- plot_grid(plot_maps(data_epochs,8), plot_maps(data_epochs,7), plot_maps(data_epochs,6), labels = c(\"D\", \"E\", \"F\"), ncol = 1)\n",
    "\n",
    "fig_3 <- plot_grid(plot_maps(data_epochs,5), plot_maps(data_epochs,4), plot_maps(data_epochs,3), labels = c(\"G\", \"H\", \"I\"), ncol = 1)\n",
    "\n",
    "fig_4 <- plot_grid(plot_maps(data_epochs,2), plot_maps(data_epochs,1), plot_maps(data_epochs,1), labels = c(\"J\", \"K\", \"L\"), ncol = 1)"
   ]
  },
  {
   "cell_type": "markdown",
   "metadata": {},
   "source": [
    "## Save maps"
   ]
  },
  {
   "cell_type": "code",
   "execution_count": 13,
   "metadata": {},
   "outputs": [
    {
     "data": {
      "text/html": [
       "<strong>pdf:</strong> 2"
      ],
      "text/latex": [
       "\\textbf{pdf:} 2"
      ],
      "text/markdown": [
       "**pdf:** 2"
      ],
      "text/plain": [
       "pdf \n",
       "  2 "
      ]
     },
     "metadata": {},
     "output_type": "display_data"
    }
   ],
   "source": [
    "pdf(file = \"Family_plot_1.pdf\", width = 10, height = 10)\n",
    "fig_1\n",
    "dev.off()"
   ]
  },
  {
   "cell_type": "code",
   "execution_count": 14,
   "metadata": {},
   "outputs": [
    {
     "data": {
      "text/html": [
       "<strong>pdf:</strong> 2"
      ],
      "text/latex": [
       "\\textbf{pdf:} 2"
      ],
      "text/markdown": [
       "**pdf:** 2"
      ],
      "text/plain": [
       "pdf \n",
       "  2 "
      ]
     },
     "metadata": {},
     "output_type": "display_data"
    }
   ],
   "source": [
    "pdf(file = \"Family_plot_2.pdf\", width = 10, height = 10)\n",
    "fig_2\n",
    "dev.off()"
   ]
  },
  {
   "cell_type": "code",
   "execution_count": 15,
   "metadata": {},
   "outputs": [
    {
     "data": {
      "text/html": [
       "<strong>pdf:</strong> 2"
      ],
      "text/latex": [
       "\\textbf{pdf:} 2"
      ],
      "text/markdown": [
       "**pdf:** 2"
      ],
      "text/plain": [
       "pdf \n",
       "  2 "
      ]
     },
     "metadata": {},
     "output_type": "display_data"
    }
   ],
   "source": [
    "pdf(file = \"Family_plot_3.pdf\", width = 10, height = 10)\n",
    "fig_3\n",
    "dev.off()"
   ]
  },
  {
   "cell_type": "code",
   "execution_count": 16,
   "metadata": {},
   "outputs": [
    {
     "data": {
      "text/html": [
       "<strong>pdf:</strong> 2"
      ],
      "text/latex": [
       "\\textbf{pdf:} 2"
      ],
      "text/markdown": [
       "**pdf:** 2"
      ],
      "text/plain": [
       "pdf \n",
       "  2 "
      ]
     },
     "metadata": {},
     "output_type": "display_data"
    }
   ],
   "source": [
    "pdf(file = \"Family_plot_4.pdf\", width = 10, height = 10)\n",
    "fig_4\n",
    "dev.off()"
   ]
  }
 ],
 "metadata": {
  "kernelspec": {
   "display_name": "R",
   "language": "R",
   "name": "ir"
  },
  "language_info": {
   "codemirror_mode": "r",
   "file_extension": ".r",
   "mimetype": "text/x-r-source",
   "name": "R",
   "pygments_lexer": "r",
   "version": "4.3.3"
  }
 },
 "nbformat": 4,
 "nbformat_minor": 4
}
