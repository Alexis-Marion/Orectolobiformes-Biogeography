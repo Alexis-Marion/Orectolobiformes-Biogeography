{
 "cells": [
  {
   "cell_type": "markdown",
   "metadata": {},
   "source": [
    "# Site coordinates"
   ]
  },
  {
   "cell_type": "markdown",
   "metadata": {},
   "source": [
    "## Loading packages"
   ]
  },
  {
   "cell_type": "code",
   "execution_count": 1,
   "metadata": {},
   "outputs": [
    {
     "name": "stderr",
     "output_type": "stream",
     "text": [
      "Linking to liblwgeom 3.0.0beta1 r16016, GEOS 3.8.0, PROJ 6.3.1\n",
      "\n",
      "Linking to GEOS 3.8.0, GDAL 3.0.4, PROJ 6.3.1; sf_use_s2() is TRUE\n",
      "\n",
      "\n",
      "Attachement du package : ‘sf’\n",
      "\n",
      "\n",
      "L'objet suivant est masqué depuis ‘package:lwgeom’:\n",
      "\n",
      "    st_perimeter\n",
      "\n",
      "\n",
      "Le chargement a nécessité le package : sp\n",
      "\n",
      "Registered S3 method overwritten by 'geojson':\n",
      "  method        from     \n",
      "  print.geojson geojsonsf\n",
      "\n",
      "\n",
      "Attachement du package : ‘geojsonio’\n",
      "\n",
      "\n",
      "L'objet suivant est masqué depuis ‘package:base’:\n",
      "\n",
      "    pretty\n",
      "\n",
      "\n",
      "\n",
      "Attachement du package : ‘cowplot’\n",
      "\n",
      "\n",
      "L'objet suivant est masqué depuis ‘package:ggpubr’:\n",
      "\n",
      "    get_legend\n",
      "\n",
      "\n",
      "\n",
      "Attachement du package : ‘dplyr’\n",
      "\n",
      "\n",
      "Les objets suivants sont masqués depuis ‘package:raster’:\n",
      "\n",
      "    intersect, select, union\n",
      "\n",
      "\n",
      "Les objets suivants sont masqués depuis ‘package:stats’:\n",
      "\n",
      "    filter, lag\n",
      "\n",
      "\n",
      "Les objets suivants sont masqués depuis ‘package:base’:\n",
      "\n",
      "    intersect, setdiff, setequal, union\n",
      "\n",
      "\n"
     ]
    }
   ],
   "source": [
    "library(\"palaeoverse\")\n",
    "library(\"lwgeom\")\n",
    "library(\"h3jsr\")\n",
    "library(\"ggplot2\")\n",
    "library(\"ggpubr\")\n",
    "library(\"sf\")\n",
    "library(\"raster\")\n",
    "library(\"geojsonio\")\n",
    "library(\"sp\")\n",
    "library(\"cowplot\")\n",
    "library(\"dplyr\") "
   ]
  },
  {
   "cell_type": "markdown",
   "metadata": {},
   "source": [
    "## Setting up environement"
   ]
  },
  {
   "cell_type": "code",
   "execution_count": 2,
   "metadata": {},
   "outputs": [
    {
     "name": "stderr",
     "output_type": "stream",
     "text": [
      "Spherical geometry (s2) switched off\n",
      "\n"
     ]
    }
   ],
   "source": [
    "sf_use_s2(FALSE)"
   ]
  },
  {
   "cell_type": "markdown",
   "metadata": {},
   "source": [
    "## Loading occurence data"
   ]
  },
  {
   "cell_type": "markdown",
   "metadata": {},
   "source": [
    "### Extinct taxa"
   ]
  },
  {
   "cell_type": "code",
   "execution_count": 3,
   "metadata": {
    "scrolled": true
   },
   "outputs": [],
   "source": [
    "table_coordinate_site_raw <- read.table(\"../../Data/Coordinate/Site_coordinate.tsv\", header = TRUE, sep =\"\\t\")"
   ]
  },
  {
   "cell_type": "code",
   "execution_count": 4,
   "metadata": {
    "scrolled": true
   },
   "outputs": [
    {
     "data": {
      "text/html": [
       "<table class=\"dataframe\">\n",
       "<caption>A data.frame: 318 × 6</caption>\n",
       "<thead>\n",
       "\t<tr><th scope=col>Site</th><th scope=col>Latitude</th><th scope=col>Longitude</th><th scope=col>Earliest.Age</th><th scope=col>Latest.Age</th><th scope=col>Fauna</th></tr>\n",
       "\t<tr><th scope=col>&lt;chr&gt;</th><th scope=col>&lt;dbl&gt;</th><th scope=col>&lt;dbl&gt;</th><th scope=col>&lt;dbl&gt;</th><th scope=col>&lt;dbl&gt;</th><th scope=col>&lt;chr&gt;</th></tr>\n",
       "</thead>\n",
       "<tbody>\n",
       "\t<tr><td>Akaura Fm.                  </td><td> 37.052</td><td> 136.946</td><td>15.970</td><td>11.621</td><td>Other sharks    </td></tr>\n",
       "\t<tr><td>Akeyo Fm.                   </td><td> 35.362</td><td> 137.254</td><td>23.030</td><td>15.971</td><td>Both            </td></tr>\n",
       "\t<tr><td>Aktulagay                   </td><td> 47.460</td><td>  55.050</td><td>56.000</td><td>47.801</td><td>Other sharks    </td></tr>\n",
       "\t<tr><td>Angostura Fm.               </td><td>  0.001</td><td> -76.660</td><td>13.820</td><td> 7.247</td><td>Both            </td></tr>\n",
       "\t<tr><td>Angoumé (Miretrain, niv. 0) </td><td> 43.688</td><td>  -1.137</td><td>47.800</td><td>41.001</td><td>Orectolobiformes</td></tr>\n",
       "\t<tr><td>Angoumé (Miretrain, niv. 1) </td><td> 43.688</td><td>  -1.137</td><td>47.800</td><td>41.001</td><td>Orectolobiformes</td></tr>\n",
       "\t<tr><td>Angoumé (Miretrain, niv. 2) </td><td> 43.688</td><td>  -1.137</td><td>41.000</td><td>38.001</td><td>Orectolobiformes</td></tr>\n",
       "\t<tr><td>Antarctica (La Meseta Fm. 4)</td><td>-64.239</td><td> -56.603</td><td>56.000</td><td>47.801</td><td>Both            </td></tr>\n",
       "\t<tr><td>Antarctica (La Meseta Fm. 5)</td><td>-64.239</td><td> -56.603</td><td>56.000</td><td>47.801</td><td>Both            </td></tr>\n",
       "\t<tr><td>Antarctica (La Meseta Fm. 6)</td><td>-64.239</td><td> -56.603</td><td>47.800</td><td>41.001</td><td>Both            </td></tr>\n",
       "\t<tr><td>Antarctica (La Meseta Fm. 7)</td><td>-64.239</td><td> -56.603</td><td>38.000</td><td>33.901</td><td>Other sharks    </td></tr>\n",
       "\t<tr><td>Asbury Park                 </td><td> 40.220</td><td> -74.012</td><td>41.300</td><td>15.971</td><td>Orectolobiformes</td></tr>\n",
       "\t<tr><td>Ashley Phosphate Beds       </td><td> 32.788</td><td> -79.940</td><td>23.030</td><td> 2.589</td><td>Orectolobiformes</td></tr>\n",
       "\t<tr><td>Aznag (Morocco)             </td><td> 31.294</td><td>  -8.073</td><td>47.800</td><td>41.001</td><td>Orectolobiformes</td></tr>\n",
       "\t<tr><td>Bahía Inglesa Fm.           </td><td>-27.102</td><td> -70.856</td><td>15.970</td><td> 3.601</td><td>Both            </td></tr>\n",
       "\t<tr><td>Baja California (Pia)       </td><td> 30.534</td><td>-115.938</td><td> 3.600</td><td> 2.589</td><td>Other sharks    </td></tr>\n",
       "\t<tr><td>Baja California (Zan)       </td><td> 30.534</td><td>-115.938</td><td> 5.333</td><td> 3.601</td><td>Other sharks    </td></tr>\n",
       "\t<tr><td>Bandah Fm.                  </td><td> 25.048</td><td>  75.778</td><td>41.000</td><td>38.001</td><td>Both            </td></tr>\n",
       "\t<tr><td>basal Gosport Sand Fm.      </td><td> 31.585</td><td> -87.591</td><td>41.000</td><td>38.001</td><td>Orectolobiformes</td></tr>\n",
       "\t<tr><td>Bashi Fm.                   </td><td> 32.400</td><td> -88.700</td><td>56.000</td><td>47.801</td><td>Both            </td></tr>\n",
       "\t<tr><td>Batesford                   </td><td>-38.086</td><td> 144.269</td><td>23.030</td><td>15.971</td><td>Orectolobiformes</td></tr>\n",
       "\t<tr><td>Birket Qarun Fm.            </td><td> 29.471</td><td>  30.624</td><td>38.000</td><td>33.901</td><td>Both            </td></tr>\n",
       "\t<tr><td>Bissex Hill Fm              </td><td> 13.230</td><td> -59.580</td><td>23.030</td><td>15.971</td><td>Other sharks    </td></tr>\n",
       "\t<tr><td>Borbon/Onzole Fm.           </td><td>  1.090</td><td> -78.970</td><td>11.620</td><td> 5.334</td><td>Other sharks    </td></tr>\n",
       "\t<tr><td>Brunei (Up. Mio)            </td><td>  4.480</td><td> 114.650</td><td>11.620</td><td> 5.334</td><td>Other sharks    </td></tr>\n",
       "\t<tr><td>Bruxelle                    </td><td> 50.847</td><td>   4.352</td><td>47.800</td><td>41.001</td><td>Orectolobiformes</td></tr>\n",
       "\t<tr><td>Bugti Hills                 </td><td> 28.833</td><td>  69.000</td><td>23.030</td><td> 5.334</td><td>Orectolobiformes</td></tr>\n",
       "\t<tr><td>Bugti Mb. (Chitarawa Fm.)   </td><td> 28.833</td><td>  69.000</td><td>33.900</td><td>28.101</td><td>Other sharks    </td></tr>\n",
       "\t<tr><td>Burnham-on-Crouch           </td><td> 51.636</td><td>   0.846</td><td>56.000</td><td>47.801</td><td>Orectolobiformes</td></tr>\n",
       "\t<tr><td>Cabinda                     </td><td> -5.056</td><td>  12.321</td><td>20.440</td><td>15.971</td><td>Orectolobiformes</td></tr>\n",
       "\t<tr><td>⋮</td><td>⋮</td><td>⋮</td><td>⋮</td><td>⋮</td><td>⋮</td></tr>\n",
       "\t<tr><td>Saucats et Cestas                  </td><td>46.603</td><td>  -0.596</td><td>20.440</td><td>15.971</td><td>Orectolobiformes</td></tr>\n",
       "\t<tr><td>Sekinobana Fm.                     </td><td>37.080</td><td> 136.750</td><td>15.970</td><td>11.621</td><td>Other sharks    </td></tr>\n",
       "\t<tr><td>Senhata Fm.                        </td><td>35.130</td><td> 139.850</td><td>11.620</td><td> 5.334</td><td>Other sharks    </td></tr>\n",
       "\t<tr><td>Sharbithat                         </td><td>17.830</td><td>  56.270</td><td>23.030</td><td>20.441</td><td>Other sharks    </td></tr>\n",
       "\t<tr><td>St Géours-d A. (Tailledis)         </td><td>45.338</td><td>  -0.473</td><td>47.800</td><td>41.001</td><td>Orectolobiformes</td></tr>\n",
       "\t<tr><td>Suso Fm.                           </td><td>37.130</td><td> 136.960</td><td>15.970</td><td>13.821</td><td>Other sharks    </td></tr>\n",
       "\t<tr><td>Takase Fm.                         </td><td>38.210</td><td> 140.380</td><td>15.970</td><td>11.621</td><td>Other sharks    </td></tr>\n",
       "\t<tr><td>Tallahatta Fm.                     </td><td>31.910</td><td> -87.877</td><td>56.000</td><td>41.301</td><td>Orectolobiformes</td></tr>\n",
       "\t<tr><td>Tallahatta/Lisbon Fm. (Point A Dam)</td><td>31.910</td><td> -87.877</td><td>47.800</td><td>41.001</td><td>Orectolobiformes</td></tr>\n",
       "\t<tr><td>Tapar section                      </td><td>23.020</td><td>  69.660</td><td>11.620</td><td> 5.334</td><td>Other sharks    </td></tr>\n",
       "\t<tr><td>Thalberg Beds                      </td><td>48.658</td><td>  13.789</td><td>28.100</td><td>23.031</td><td>Orectolobiformes</td></tr>\n",
       "\t<tr><td>Tirabuzón Fm.                      </td><td>30.034</td><td>-115.143</td><td> 5.333</td><td> 2.589</td><td>Both            </td></tr>\n",
       "\t<tr><td>Toyohama Fm.                       </td><td>34.720</td><td> 136.910</td><td>23.030</td><td>15.971</td><td>Other sharks    </td></tr>\n",
       "\t<tr><td>Twiggs Clay Mb.                    </td><td>32.647</td><td> -83.435</td><td>38.000</td><td>33.901</td><td>Orectolobiformes</td></tr>\n",
       "\t<tr><td>Twistringen                        </td><td>52.799</td><td>   8.642</td><td>15.970</td><td>11.621</td><td>Orectolobiformes</td></tr>\n",
       "\t<tr><td>Up. Scotland Fm (Chalky)           </td><td>13.232</td><td> -59.554</td><td>47.800</td><td>41.001</td><td>Orectolobiformes</td></tr>\n",
       "\t<tr><td>Up. Scotland Fm (Murphy)           </td><td>13.133</td><td> -59.533</td><td>47.800</td><td>41.001</td><td>Orectolobiformes</td></tr>\n",
       "\t<tr><td>Uzbekistan (Dzheroy-1)             </td><td>42.000</td><td>  64.000</td><td>47.800</td><td>38.001</td><td>Both            </td></tr>\n",
       "\t<tr><td>Uzbekistan (Dzheroy-2)             </td><td>42.000</td><td>  64.000</td><td>47.800</td><td>38.001</td><td>Both            </td></tr>\n",
       "\t<tr><td><span style=white-space:pre-wrap>Uzbekistan (Ph1 &amp; Sb 5-Kyzylkum)   </span></td><td>42.349</td><td><span style=white-space:pre-wrap>  66.145</span></td><td>56.000</td><td>47.801</td><td><span style=white-space:pre-wrap>Both            </span></td></tr>\n",
       "\t<tr><td>Uzbekistan (Ph2-Kyzylkum)          </td><td>42.349</td><td>  66.145</td><td>56.000</td><td>47.801</td><td>Both            </td></tr>\n",
       "\t<tr><td>Uzbekistan (Sb 7-Kyzylkum)         </td><td>42.349</td><td>  66.145</td><td>56.000</td><td>47.801</td><td>Both            </td></tr>\n",
       "\t<tr><td>Venezuela (Codore Fm)              </td><td>11.200</td><td> -70.250</td><td>11.620</td><td> 2.589</td><td>Other sharks    </td></tr>\n",
       "\t<tr><td>Venezuela (Socorro Fm)             </td><td>11.200</td><td> -70.250</td><td>15.970</td><td>11.621</td><td>Other sharks    </td></tr>\n",
       "\t<tr><td>Venezuela (Urumaco Fm)             </td><td>11.200</td><td> -70.250</td><td>15.970</td><td> 5.334</td><td>Other sharks    </td></tr>\n",
       "\t<tr><td>Wajiamazaki Fm.                    </td><td>37.340</td><td> 136.870</td><td>15.970</td><td>11.621</td><td>Other sharks    </td></tr>\n",
       "\t<tr><td>Weitwies Mb.                       </td><td>47.893</td><td>  13.724</td><td>47.800</td><td>41.001</td><td>Orectolobiformes</td></tr>\n",
       "\t<tr><td>Yamaga Fm.                         </td><td>33.890</td><td> 130.890</td><td>28.100</td><td>23.031</td><td>Other sharks    </td></tr>\n",
       "\t<tr><td>Yamani Fm.                         </td><td>34.710</td><td> 136.910</td><td>23.030</td><td>15.971</td><td>Other sharks    </td></tr>\n",
       "\t<tr><td>Zushi Fm.                          </td><td>35.270</td><td> 139.580</td><td>11.620</td><td> 5.334</td><td>Other sharks    </td></tr>\n",
       "</tbody>\n",
       "</table>\n"
      ],
      "text/latex": [
       "A data.frame: 318 × 6\n",
       "\\begin{tabular}{llllll}\n",
       " Site & Latitude & Longitude & Earliest.Age & Latest.Age & Fauna\\\\\n",
       " <chr> & <dbl> & <dbl> & <dbl> & <dbl> & <chr>\\\\\n",
       "\\hline\n",
       "\t Akaura Fm.                   &  37.052 &  136.946 & 15.970 & 11.621 & Other sharks    \\\\\n",
       "\t Akeyo Fm.                    &  35.362 &  137.254 & 23.030 & 15.971 & Both            \\\\\n",
       "\t Aktulagay                    &  47.460 &   55.050 & 56.000 & 47.801 & Other sharks    \\\\\n",
       "\t Angostura Fm.                &   0.001 &  -76.660 & 13.820 &  7.247 & Both            \\\\\n",
       "\t Angoumé (Miretrain, niv. 0)  &  43.688 &   -1.137 & 47.800 & 41.001 & Orectolobiformes\\\\\n",
       "\t Angoumé (Miretrain, niv. 1)  &  43.688 &   -1.137 & 47.800 & 41.001 & Orectolobiformes\\\\\n",
       "\t Angoumé (Miretrain, niv. 2)  &  43.688 &   -1.137 & 41.000 & 38.001 & Orectolobiformes\\\\\n",
       "\t Antarctica (La Meseta Fm. 4) & -64.239 &  -56.603 & 56.000 & 47.801 & Both            \\\\\n",
       "\t Antarctica (La Meseta Fm. 5) & -64.239 &  -56.603 & 56.000 & 47.801 & Both            \\\\\n",
       "\t Antarctica (La Meseta Fm. 6) & -64.239 &  -56.603 & 47.800 & 41.001 & Both            \\\\\n",
       "\t Antarctica (La Meseta Fm. 7) & -64.239 &  -56.603 & 38.000 & 33.901 & Other sharks    \\\\\n",
       "\t Asbury Park                  &  40.220 &  -74.012 & 41.300 & 15.971 & Orectolobiformes\\\\\n",
       "\t Ashley Phosphate Beds        &  32.788 &  -79.940 & 23.030 &  2.589 & Orectolobiformes\\\\\n",
       "\t Aznag (Morocco)              &  31.294 &   -8.073 & 47.800 & 41.001 & Orectolobiformes\\\\\n",
       "\t Bahía Inglesa Fm.            & -27.102 &  -70.856 & 15.970 &  3.601 & Both            \\\\\n",
       "\t Baja California (Pia)        &  30.534 & -115.938 &  3.600 &  2.589 & Other sharks    \\\\\n",
       "\t Baja California (Zan)        &  30.534 & -115.938 &  5.333 &  3.601 & Other sharks    \\\\\n",
       "\t Bandah Fm.                   &  25.048 &   75.778 & 41.000 & 38.001 & Both            \\\\\n",
       "\t basal Gosport Sand Fm.       &  31.585 &  -87.591 & 41.000 & 38.001 & Orectolobiformes\\\\\n",
       "\t Bashi Fm.                    &  32.400 &  -88.700 & 56.000 & 47.801 & Both            \\\\\n",
       "\t Batesford                    & -38.086 &  144.269 & 23.030 & 15.971 & Orectolobiformes\\\\\n",
       "\t Birket Qarun Fm.             &  29.471 &   30.624 & 38.000 & 33.901 & Both            \\\\\n",
       "\t Bissex Hill Fm               &  13.230 &  -59.580 & 23.030 & 15.971 & Other sharks    \\\\\n",
       "\t Borbon/Onzole Fm.            &   1.090 &  -78.970 & 11.620 &  5.334 & Other sharks    \\\\\n",
       "\t Brunei (Up. Mio)             &   4.480 &  114.650 & 11.620 &  5.334 & Other sharks    \\\\\n",
       "\t Bruxelle                     &  50.847 &    4.352 & 47.800 & 41.001 & Orectolobiformes\\\\\n",
       "\t Bugti Hills                  &  28.833 &   69.000 & 23.030 &  5.334 & Orectolobiformes\\\\\n",
       "\t Bugti Mb. (Chitarawa Fm.)    &  28.833 &   69.000 & 33.900 & 28.101 & Other sharks    \\\\\n",
       "\t Burnham-on-Crouch            &  51.636 &    0.846 & 56.000 & 47.801 & Orectolobiformes\\\\\n",
       "\t Cabinda                      &  -5.056 &   12.321 & 20.440 & 15.971 & Orectolobiformes\\\\\n",
       "\t ⋮ & ⋮ & ⋮ & ⋮ & ⋮ & ⋮\\\\\n",
       "\t Saucats et Cestas                   & 46.603 &   -0.596 & 20.440 & 15.971 & Orectolobiformes\\\\\n",
       "\t Sekinobana Fm.                      & 37.080 &  136.750 & 15.970 & 11.621 & Other sharks    \\\\\n",
       "\t Senhata Fm.                         & 35.130 &  139.850 & 11.620 &  5.334 & Other sharks    \\\\\n",
       "\t Sharbithat                          & 17.830 &   56.270 & 23.030 & 20.441 & Other sharks    \\\\\n",
       "\t St Géours-d A. (Tailledis)          & 45.338 &   -0.473 & 47.800 & 41.001 & Orectolobiformes\\\\\n",
       "\t Suso Fm.                            & 37.130 &  136.960 & 15.970 & 13.821 & Other sharks    \\\\\n",
       "\t Takase Fm.                          & 38.210 &  140.380 & 15.970 & 11.621 & Other sharks    \\\\\n",
       "\t Tallahatta Fm.                      & 31.910 &  -87.877 & 56.000 & 41.301 & Orectolobiformes\\\\\n",
       "\t Tallahatta/Lisbon Fm. (Point A Dam) & 31.910 &  -87.877 & 47.800 & 41.001 & Orectolobiformes\\\\\n",
       "\t Tapar section                       & 23.020 &   69.660 & 11.620 &  5.334 & Other sharks    \\\\\n",
       "\t Thalberg Beds                       & 48.658 &   13.789 & 28.100 & 23.031 & Orectolobiformes\\\\\n",
       "\t Tirabuzón Fm.                       & 30.034 & -115.143 &  5.333 &  2.589 & Both            \\\\\n",
       "\t Toyohama Fm.                        & 34.720 &  136.910 & 23.030 & 15.971 & Other sharks    \\\\\n",
       "\t Twiggs Clay Mb.                     & 32.647 &  -83.435 & 38.000 & 33.901 & Orectolobiformes\\\\\n",
       "\t Twistringen                         & 52.799 &    8.642 & 15.970 & 11.621 & Orectolobiformes\\\\\n",
       "\t Up. Scotland Fm (Chalky)            & 13.232 &  -59.554 & 47.800 & 41.001 & Orectolobiformes\\\\\n",
       "\t Up. Scotland Fm (Murphy)            & 13.133 &  -59.533 & 47.800 & 41.001 & Orectolobiformes\\\\\n",
       "\t Uzbekistan (Dzheroy-1)              & 42.000 &   64.000 & 47.800 & 38.001 & Both            \\\\\n",
       "\t Uzbekistan (Dzheroy-2)              & 42.000 &   64.000 & 47.800 & 38.001 & Both            \\\\\n",
       "\t Uzbekistan (Ph1 \\& Sb 5-Kyzylkum)    & 42.349 &   66.145 & 56.000 & 47.801 & Both            \\\\\n",
       "\t Uzbekistan (Ph2-Kyzylkum)           & 42.349 &   66.145 & 56.000 & 47.801 & Both            \\\\\n",
       "\t Uzbekistan (Sb 7-Kyzylkum)          & 42.349 &   66.145 & 56.000 & 47.801 & Both            \\\\\n",
       "\t Venezuela (Codore Fm)               & 11.200 &  -70.250 & 11.620 &  2.589 & Other sharks    \\\\\n",
       "\t Venezuela (Socorro Fm)              & 11.200 &  -70.250 & 15.970 & 11.621 & Other sharks    \\\\\n",
       "\t Venezuela (Urumaco Fm)              & 11.200 &  -70.250 & 15.970 &  5.334 & Other sharks    \\\\\n",
       "\t Wajiamazaki Fm.                     & 37.340 &  136.870 & 15.970 & 11.621 & Other sharks    \\\\\n",
       "\t Weitwies Mb.                        & 47.893 &   13.724 & 47.800 & 41.001 & Orectolobiformes\\\\\n",
       "\t Yamaga Fm.                          & 33.890 &  130.890 & 28.100 & 23.031 & Other sharks    \\\\\n",
       "\t Yamani Fm.                          & 34.710 &  136.910 & 23.030 & 15.971 & Other sharks    \\\\\n",
       "\t Zushi Fm.                           & 35.270 &  139.580 & 11.620 &  5.334 & Other sharks    \\\\\n",
       "\\end{tabular}\n"
      ],
      "text/markdown": [
       "\n",
       "A data.frame: 318 × 6\n",
       "\n",
       "| Site &lt;chr&gt; | Latitude &lt;dbl&gt; | Longitude &lt;dbl&gt; | Earliest.Age &lt;dbl&gt; | Latest.Age &lt;dbl&gt; | Fauna &lt;chr&gt; |\n",
       "|---|---|---|---|---|---|\n",
       "| Akaura Fm.                   |  37.052 |  136.946 | 15.970 | 11.621 | Other sharks     |\n",
       "| Akeyo Fm.                    |  35.362 |  137.254 | 23.030 | 15.971 | Both             |\n",
       "| Aktulagay                    |  47.460 |   55.050 | 56.000 | 47.801 | Other sharks     |\n",
       "| Angostura Fm.                |   0.001 |  -76.660 | 13.820 |  7.247 | Both             |\n",
       "| Angoumé (Miretrain, niv. 0)  |  43.688 |   -1.137 | 47.800 | 41.001 | Orectolobiformes |\n",
       "| Angoumé (Miretrain, niv. 1)  |  43.688 |   -1.137 | 47.800 | 41.001 | Orectolobiformes |\n",
       "| Angoumé (Miretrain, niv. 2)  |  43.688 |   -1.137 | 41.000 | 38.001 | Orectolobiformes |\n",
       "| Antarctica (La Meseta Fm. 4) | -64.239 |  -56.603 | 56.000 | 47.801 | Both             |\n",
       "| Antarctica (La Meseta Fm. 5) | -64.239 |  -56.603 | 56.000 | 47.801 | Both             |\n",
       "| Antarctica (La Meseta Fm. 6) | -64.239 |  -56.603 | 47.800 | 41.001 | Both             |\n",
       "| Antarctica (La Meseta Fm. 7) | -64.239 |  -56.603 | 38.000 | 33.901 | Other sharks     |\n",
       "| Asbury Park                  |  40.220 |  -74.012 | 41.300 | 15.971 | Orectolobiformes |\n",
       "| Ashley Phosphate Beds        |  32.788 |  -79.940 | 23.030 |  2.589 | Orectolobiformes |\n",
       "| Aznag (Morocco)              |  31.294 |   -8.073 | 47.800 | 41.001 | Orectolobiformes |\n",
       "| Bahía Inglesa Fm.            | -27.102 |  -70.856 | 15.970 |  3.601 | Both             |\n",
       "| Baja California (Pia)        |  30.534 | -115.938 |  3.600 |  2.589 | Other sharks     |\n",
       "| Baja California (Zan)        |  30.534 | -115.938 |  5.333 |  3.601 | Other sharks     |\n",
       "| Bandah Fm.                   |  25.048 |   75.778 | 41.000 | 38.001 | Both             |\n",
       "| basal Gosport Sand Fm.       |  31.585 |  -87.591 | 41.000 | 38.001 | Orectolobiformes |\n",
       "| Bashi Fm.                    |  32.400 |  -88.700 | 56.000 | 47.801 | Both             |\n",
       "| Batesford                    | -38.086 |  144.269 | 23.030 | 15.971 | Orectolobiformes |\n",
       "| Birket Qarun Fm.             |  29.471 |   30.624 | 38.000 | 33.901 | Both             |\n",
       "| Bissex Hill Fm               |  13.230 |  -59.580 | 23.030 | 15.971 | Other sharks     |\n",
       "| Borbon/Onzole Fm.            |   1.090 |  -78.970 | 11.620 |  5.334 | Other sharks     |\n",
       "| Brunei (Up. Mio)             |   4.480 |  114.650 | 11.620 |  5.334 | Other sharks     |\n",
       "| Bruxelle                     |  50.847 |    4.352 | 47.800 | 41.001 | Orectolobiformes |\n",
       "| Bugti Hills                  |  28.833 |   69.000 | 23.030 |  5.334 | Orectolobiformes |\n",
       "| Bugti Mb. (Chitarawa Fm.)    |  28.833 |   69.000 | 33.900 | 28.101 | Other sharks     |\n",
       "| Burnham-on-Crouch            |  51.636 |    0.846 | 56.000 | 47.801 | Orectolobiformes |\n",
       "| Cabinda                      |  -5.056 |   12.321 | 20.440 | 15.971 | Orectolobiformes |\n",
       "| ⋮ | ⋮ | ⋮ | ⋮ | ⋮ | ⋮ |\n",
       "| Saucats et Cestas                   | 46.603 |   -0.596 | 20.440 | 15.971 | Orectolobiformes |\n",
       "| Sekinobana Fm.                      | 37.080 |  136.750 | 15.970 | 11.621 | Other sharks     |\n",
       "| Senhata Fm.                         | 35.130 |  139.850 | 11.620 |  5.334 | Other sharks     |\n",
       "| Sharbithat                          | 17.830 |   56.270 | 23.030 | 20.441 | Other sharks     |\n",
       "| St Géours-d A. (Tailledis)          | 45.338 |   -0.473 | 47.800 | 41.001 | Orectolobiformes |\n",
       "| Suso Fm.                            | 37.130 |  136.960 | 15.970 | 13.821 | Other sharks     |\n",
       "| Takase Fm.                          | 38.210 |  140.380 | 15.970 | 11.621 | Other sharks     |\n",
       "| Tallahatta Fm.                      | 31.910 |  -87.877 | 56.000 | 41.301 | Orectolobiformes |\n",
       "| Tallahatta/Lisbon Fm. (Point A Dam) | 31.910 |  -87.877 | 47.800 | 41.001 | Orectolobiformes |\n",
       "| Tapar section                       | 23.020 |   69.660 | 11.620 |  5.334 | Other sharks     |\n",
       "| Thalberg Beds                       | 48.658 |   13.789 | 28.100 | 23.031 | Orectolobiformes |\n",
       "| Tirabuzón Fm.                       | 30.034 | -115.143 |  5.333 |  2.589 | Both             |\n",
       "| Toyohama Fm.                        | 34.720 |  136.910 | 23.030 | 15.971 | Other sharks     |\n",
       "| Twiggs Clay Mb.                     | 32.647 |  -83.435 | 38.000 | 33.901 | Orectolobiformes |\n",
       "| Twistringen                         | 52.799 |    8.642 | 15.970 | 11.621 | Orectolobiformes |\n",
       "| Up. Scotland Fm (Chalky)            | 13.232 |  -59.554 | 47.800 | 41.001 | Orectolobiformes |\n",
       "| Up. Scotland Fm (Murphy)            | 13.133 |  -59.533 | 47.800 | 41.001 | Orectolobiformes |\n",
       "| Uzbekistan (Dzheroy-1)              | 42.000 |   64.000 | 47.800 | 38.001 | Both             |\n",
       "| Uzbekistan (Dzheroy-2)              | 42.000 |   64.000 | 47.800 | 38.001 | Both             |\n",
       "| Uzbekistan (Ph1 &amp; Sb 5-Kyzylkum)    | 42.349 |   66.145 | 56.000 | 47.801 | Both             |\n",
       "| Uzbekistan (Ph2-Kyzylkum)           | 42.349 |   66.145 | 56.000 | 47.801 | Both             |\n",
       "| Uzbekistan (Sb 7-Kyzylkum)          | 42.349 |   66.145 | 56.000 | 47.801 | Both             |\n",
       "| Venezuela (Codore Fm)               | 11.200 |  -70.250 | 11.620 |  2.589 | Other sharks     |\n",
       "| Venezuela (Socorro Fm)              | 11.200 |  -70.250 | 15.970 | 11.621 | Other sharks     |\n",
       "| Venezuela (Urumaco Fm)              | 11.200 |  -70.250 | 15.970 |  5.334 | Other sharks     |\n",
       "| Wajiamazaki Fm.                     | 37.340 |  136.870 | 15.970 | 11.621 | Other sharks     |\n",
       "| Weitwies Mb.                        | 47.893 |   13.724 | 47.800 | 41.001 | Orectolobiformes |\n",
       "| Yamaga Fm.                          | 33.890 |  130.890 | 28.100 | 23.031 | Other sharks     |\n",
       "| Yamani Fm.                          | 34.710 |  136.910 | 23.030 | 15.971 | Other sharks     |\n",
       "| Zushi Fm.                           | 35.270 |  139.580 | 11.620 |  5.334 | Other sharks     |\n",
       "\n"
      ],
      "text/plain": [
       "    Site                                Latitude Longitude Earliest.Age\n",
       "1   Akaura Fm.                           37.052   136.946  15.970      \n",
       "2   Akeyo Fm.                            35.362   137.254  23.030      \n",
       "3   Aktulagay                            47.460    55.050  56.000      \n",
       "4   Angostura Fm.                         0.001   -76.660  13.820      \n",
       "5   Angoumé (Miretrain, niv. 0)          43.688    -1.137  47.800      \n",
       "6   Angoumé (Miretrain, niv. 1)          43.688    -1.137  47.800      \n",
       "7   Angoumé (Miretrain, niv. 2)          43.688    -1.137  41.000      \n",
       "8   Antarctica (La Meseta Fm. 4)        -64.239   -56.603  56.000      \n",
       "9   Antarctica (La Meseta Fm. 5)        -64.239   -56.603  56.000      \n",
       "10  Antarctica (La Meseta Fm. 6)        -64.239   -56.603  47.800      \n",
       "11  Antarctica (La Meseta Fm. 7)        -64.239   -56.603  38.000      \n",
       "12  Asbury Park                          40.220   -74.012  41.300      \n",
       "13  Ashley Phosphate Beds                32.788   -79.940  23.030      \n",
       "14  Aznag (Morocco)                      31.294    -8.073  47.800      \n",
       "15  Bahía Inglesa Fm.                   -27.102   -70.856  15.970      \n",
       "16  Baja California (Pia)                30.534  -115.938   3.600      \n",
       "17  Baja California (Zan)                30.534  -115.938   5.333      \n",
       "18  Bandah Fm.                           25.048    75.778  41.000      \n",
       "19  basal Gosport Sand Fm.               31.585   -87.591  41.000      \n",
       "20  Bashi Fm.                            32.400   -88.700  56.000      \n",
       "21  Batesford                           -38.086   144.269  23.030      \n",
       "22  Birket Qarun Fm.                     29.471    30.624  38.000      \n",
       "23  Bissex Hill Fm                       13.230   -59.580  23.030      \n",
       "24  Borbon/Onzole Fm.                     1.090   -78.970  11.620      \n",
       "25  Brunei (Up. Mio)                      4.480   114.650  11.620      \n",
       "26  Bruxelle                             50.847     4.352  47.800      \n",
       "27  Bugti Hills                          28.833    69.000  23.030      \n",
       "28  Bugti Mb. (Chitarawa Fm.)            28.833    69.000  33.900      \n",
       "29  Burnham-on-Crouch                    51.636     0.846  56.000      \n",
       "30  Cabinda                              -5.056    12.321  20.440      \n",
       "⋮   ⋮                                   ⋮        ⋮         ⋮           \n",
       "289 Saucats et Cestas                   46.603     -0.596  20.440      \n",
       "290 Sekinobana Fm.                      37.080    136.750  15.970      \n",
       "291 Senhata Fm.                         35.130    139.850  11.620      \n",
       "292 Sharbithat                          17.830     56.270  23.030      \n",
       "293 St Géours-d A. (Tailledis)          45.338     -0.473  47.800      \n",
       "294 Suso Fm.                            37.130    136.960  15.970      \n",
       "295 Takase Fm.                          38.210    140.380  15.970      \n",
       "296 Tallahatta Fm.                      31.910    -87.877  56.000      \n",
       "297 Tallahatta/Lisbon Fm. (Point A Dam) 31.910    -87.877  47.800      \n",
       "298 Tapar section                       23.020     69.660  11.620      \n",
       "299 Thalberg Beds                       48.658     13.789  28.100      \n",
       "300 Tirabuzón Fm.                       30.034   -115.143   5.333      \n",
       "301 Toyohama Fm.                        34.720    136.910  23.030      \n",
       "302 Twiggs Clay Mb.                     32.647    -83.435  38.000      \n",
       "303 Twistringen                         52.799      8.642  15.970      \n",
       "304 Up. Scotland Fm (Chalky)            13.232    -59.554  47.800      \n",
       "305 Up. Scotland Fm (Murphy)            13.133    -59.533  47.800      \n",
       "306 Uzbekistan (Dzheroy-1)              42.000     64.000  47.800      \n",
       "307 Uzbekistan (Dzheroy-2)              42.000     64.000  47.800      \n",
       "308 Uzbekistan (Ph1 & Sb 5-Kyzylkum)    42.349     66.145  56.000      \n",
       "309 Uzbekistan (Ph2-Kyzylkum)           42.349     66.145  56.000      \n",
       "310 Uzbekistan (Sb 7-Kyzylkum)          42.349     66.145  56.000      \n",
       "311 Venezuela (Codore Fm)               11.200    -70.250  11.620      \n",
       "312 Venezuela (Socorro Fm)              11.200    -70.250  15.970      \n",
       "313 Venezuela (Urumaco Fm)              11.200    -70.250  15.970      \n",
       "314 Wajiamazaki Fm.                     37.340    136.870  15.970      \n",
       "315 Weitwies Mb.                        47.893     13.724  47.800      \n",
       "316 Yamaga Fm.                          33.890    130.890  28.100      \n",
       "317 Yamani Fm.                          34.710    136.910  23.030      \n",
       "318 Zushi Fm.                           35.270    139.580  11.620      \n",
       "    Latest.Age Fauna           \n",
       "1   11.621     Other sharks    \n",
       "2   15.971     Both            \n",
       "3   47.801     Other sharks    \n",
       "4    7.247     Both            \n",
       "5   41.001     Orectolobiformes\n",
       "6   41.001     Orectolobiformes\n",
       "7   38.001     Orectolobiformes\n",
       "8   47.801     Both            \n",
       "9   47.801     Both            \n",
       "10  41.001     Both            \n",
       "11  33.901     Other sharks    \n",
       "12  15.971     Orectolobiformes\n",
       "13   2.589     Orectolobiformes\n",
       "14  41.001     Orectolobiformes\n",
       "15   3.601     Both            \n",
       "16   2.589     Other sharks    \n",
       "17   3.601     Other sharks    \n",
       "18  38.001     Both            \n",
       "19  38.001     Orectolobiformes\n",
       "20  47.801     Both            \n",
       "21  15.971     Orectolobiformes\n",
       "22  33.901     Both            \n",
       "23  15.971     Other sharks    \n",
       "24   5.334     Other sharks    \n",
       "25   5.334     Other sharks    \n",
       "26  41.001     Orectolobiformes\n",
       "27   5.334     Orectolobiformes\n",
       "28  28.101     Other sharks    \n",
       "29  47.801     Orectolobiformes\n",
       "30  15.971     Orectolobiformes\n",
       "⋮   ⋮          ⋮               \n",
       "289 15.971     Orectolobiformes\n",
       "290 11.621     Other sharks    \n",
       "291  5.334     Other sharks    \n",
       "292 20.441     Other sharks    \n",
       "293 41.001     Orectolobiformes\n",
       "294 13.821     Other sharks    \n",
       "295 11.621     Other sharks    \n",
       "296 41.301     Orectolobiformes\n",
       "297 41.001     Orectolobiformes\n",
       "298  5.334     Other sharks    \n",
       "299 23.031     Orectolobiformes\n",
       "300  2.589     Both            \n",
       "301 15.971     Other sharks    \n",
       "302 33.901     Orectolobiformes\n",
       "303 11.621     Orectolobiformes\n",
       "304 41.001     Orectolobiformes\n",
       "305 41.001     Orectolobiformes\n",
       "306 38.001     Both            \n",
       "307 38.001     Both            \n",
       "308 47.801     Both            \n",
       "309 47.801     Both            \n",
       "310 47.801     Both            \n",
       "311  2.589     Other sharks    \n",
       "312 11.621     Other sharks    \n",
       "313  5.334     Other sharks    \n",
       "314 11.621     Other sharks    \n",
       "315 41.001     Orectolobiformes\n",
       "316 23.031     Other sharks    \n",
       "317 15.971     Other sharks    \n",
       "318  5.334     Other sharks    "
      ]
     },
     "metadata": {},
     "output_type": "display_data"
    }
   ],
   "source": [
    "table_coordinate_site_raw"
   ]
  },
  {
   "cell_type": "code",
   "execution_count": 5,
   "metadata": {},
   "outputs": [],
   "source": [
    "table_coordinate_site_raw <- read.table(\"../../Data/Coordinate/Site_coordinate.tsv\", header = TRUE, sep =\"\\t\")\n",
    "table_coordinate_site <- cbind(table_coordinate_site_raw[, 1], table_coordinate_site_raw[, c(6)], apply(table_coordinate_site_raw[,c(4,5)], 1, mean), table_coordinate_site_raw[, c(2, 3)])\n",
    "colnames(table_coordinate_site) <- c(\"Site\", \"Fauna\", \"age\", \"Latitude\", \"Longitude\")"
   ]
  },
  {
   "cell_type": "markdown",
   "metadata": {},
   "source": [
    "## Paleocoordinate"
   ]
  },
  {
   "cell_type": "code",
   "execution_count": 6,
   "metadata": {
    "scrolled": true
   },
   "outputs": [
    {
     "name": "stderr",
     "output_type": "stream",
     "text": [
      "PALEOMAP\n",
      "\n",
      "Warning message in palaeorotate(table_coordinate_site, lng = \"Longitude\", lat = \"Latitude\", :\n",
      "“Palaeocoordinates could not be reconstructed for all points.\n",
      "Either assigned plate does not exist at time of reconstruction or the Global Plate Model(s) does not cover the age of reconstruction.”\n"
     ]
    }
   ],
   "source": [
    "paleo_coordinate <- palaeorotate(table_coordinate_site, lng = \"Longitude\", lat = \"Latitude\", age = \"age\", model = c(\"PALEOMAP\"))"
   ]
  },
  {
   "cell_type": "code",
   "execution_count": 7,
   "metadata": {
    "scrolled": true
   },
   "outputs": [],
   "source": [
    "paleo_coordinate_cleaned <- na.omit(paleo_coordinate[,-1])"
   ]
  },
  {
   "cell_type": "code",
   "execution_count": 10,
   "metadata": {},
   "outputs": [],
   "source": [
    "paleo_coordinate_cleaned$Fauna <- as.factor(paleo_coordinate_cleaned$Fauna)\n",
    "\n",
    "color_vec_orecto <- c(\"Other sharks\" = \"#E0FFFF\", \"Orectolobiformes\"=\"#F46D43\", \"Both\" = \"#EAB6A1\")"
   ]
  },
  {
   "cell_type": "markdown",
   "metadata": {},
   "source": [
    "### Saving data"
   ]
  },
  {
   "cell_type": "markdown",
   "metadata": {},
   "source": [
    "## Mapping occurences"
   ]
  },
  {
   "cell_type": "markdown",
   "metadata": {},
   "source": [
    "### Set up bounding box"
   ]
  },
  {
   "cell_type": "code",
   "execution_count": 11,
   "metadata": {},
   "outputs": [],
   "source": [
    "ras <- raster::raster(res = 5, val = 1)\n",
    "ras <- rasterToPolygons(x = ras, dissolve = TRUE)"
   ]
  },
  {
   "cell_type": "markdown",
   "metadata": {},
   "source": [
    "### Robinson projection"
   ]
  },
  {
   "cell_type": "code",
   "execution_count": 12,
   "metadata": {},
   "outputs": [],
   "source": [
    "bb <- sf::st_as_sf(x = ras)\n",
    "bb <- st_transform(x = bb, crs = sf::st_crs(4326))\n",
    "bbox <- st_graticule(crs = st_crs(\"ESRI:54030\"), lat = c(-89.9, 89.9), lon = c(-179.9, 179.9))"
   ]
  },
  {
   "cell_type": "markdown",
   "metadata": {},
   "source": [
    "### Prepare grid"
   ]
  },
  {
   "cell_type": "code",
   "execution_count": 13,
   "metadata": {},
   "outputs": [],
   "source": [
    "plot_maps <-function(data_epochs,i){\n",
    "    temp_CM <- paste(\"../../Data/PaleoDEMS/CM/\", data_epochs$Age[i], \"Ma_CM_v7.shp\", sep = \"\")\n",
    "    temp_CS <- paste(\"../../Data/PaleoDEMS/CS/\", data_epochs$Age[i], \"Ma_CS_v7.shp\", sep = \"\")\n",
    "    \n",
    "    temp_paleo_data <- paleo_coordinate_cleaned[paleo_coordinate_cleaned$age > data_epochs$Age_min[i] & paleo_coordinate_cleaned$age < data_epochs$Age_max[i], ]\n",
    "    pal_cor <- data.frame(longitude = temp_paleo_data$p_lng, latitude = temp_paleo_data$p_lat)\n",
    "    \n",
    "    gpm <- read_sf(temp_CM)\n",
    "\n",
    "    gpm2 <- read_sf(temp_CS)\n",
    "    \n",
    "    Family <- temp_paleo_data[,1]\n",
    "    \n",
    "    coordinates(pal_cor) <- ~longitude + latitude\n",
    "    proj4string(pal_cor) <- CRS(\"+proj=longlat +datum=WGS84\")\n",
    "    SpatialPoints(pal_cor, proj4string = CRS(\"ESRI:54030\"))\n",
    "    coords_robinson <- spTransform(pal_cor, CRS(\"+proj=robin +datum=WGS84\"))\n",
    "    coords_sf <- st_as_sf(coords_robinson)\n",
    "    \n",
    "    palaeo_coordinate <- gpm  %>% ggplot() +         \n",
    "        geom_sf(data = bb, fill = \"#ADD8E6\", colour = NA) +\n",
    "        geom_sf(data = gpm, fill = \"#81CDC6\", colour = \"black\", alpha = 1) +\n",
    "        geom_sf(data = gpm2, fill = \"#BEB4B0\", colour = \"black\", alpha = 1) +\n",
    "        geom_sf(data = bbox) +\n",
    "        geom_sf(data = coords_sf, aes(color = temp_paleo_data$Fauna)) +\n",
    "        scale_color_manual(values=color_vec_orecto) + \n",
    "        coord_sf(crs = sf::st_crs(\"ESRI:54030\")) +\n",
    "        ggtitle(paste(data_epochs$Epoch[i], \" (\", data_epochs$Age_max[i], \"-\", (data_epochs$Age_min[i] - 0.001), \")\", sep =\"\")) + \n",
    "        guides(color = FALSE) + \n",
    "        theme_void() +\n",
    "        theme(plot.title = element_text(hjust = 0.5))\n",
    "    return(palaeo_coordinate)\n",
    "}"
   ]
  },
  {
   "cell_type": "code",
   "execution_count": 14,
   "metadata": {},
   "outputs": [],
   "source": [
    "data_epochs <- data.frame(Epoch = c(\"Pliocene-Holocene\", \"Miocene\", \"Oligocene\", \"Eocene\", \"Paleocene\"),\n",
    "        Age_min = c(0, 5.334, 23.031, 33.901, 56.001), \n",
    "        Age_max = c(5.333, 23.03, 33.9, 56, 66), \n",
    "        Age = c(0, 20, 30, 50, 65))"
   ]
  },
  {
   "cell_type": "code",
   "execution_count": 16,
   "metadata": {},
   "outputs": [],
   "source": [
    "top_row <- plot_grid(plot_maps(data_epochs,4), plot_maps(data_epochs,3), labels = c(\"A\", \"B\"))\n",
    "bottom_row <-  plot_grid(plot_maps(data_epochs,2), plot_maps(data_epochs,1), labels = c(\"C\", \"D\"))"
   ]
  },
  {
   "cell_type": "code",
   "execution_count": 17,
   "metadata": {},
   "outputs": [
    {
     "data": {
      "text/html": [
       "<strong>png:</strong> 2"
      ],
      "text/latex": [
       "\\textbf{png:} 2"
      ],
      "text/markdown": [
       "**png:** 2"
      ],
      "text/plain": [
       "png \n",
       "  2 "
      ]
     },
     "metadata": {},
     "output_type": "display_data"
    }
   ],
   "source": [
    "pdf(file = \"Site.pdf\", width = 10, height = 6)\n",
    "plot_grid(top_row, bottom_row, ncol = 1)\n",
    "dev.off()"
   ]
  }
 ],
 "metadata": {
  "kernelspec": {
   "display_name": "R",
   "language": "R",
   "name": "ir"
  },
  "language_info": {
   "codemirror_mode": "r",
   "file_extension": ".r",
   "mimetype": "text/x-r-source",
   "name": "R",
   "pygments_lexer": "r",
   "version": "4.3.3"
  }
 },
 "nbformat": 4,
 "nbformat_minor": 4
}
