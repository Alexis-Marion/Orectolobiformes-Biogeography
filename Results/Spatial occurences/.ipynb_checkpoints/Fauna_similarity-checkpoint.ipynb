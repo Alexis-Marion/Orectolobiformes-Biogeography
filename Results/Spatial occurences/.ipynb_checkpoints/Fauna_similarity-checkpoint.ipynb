{
 "cells": [
  {
   "cell_type": "markdown",
   "metadata": {},
   "source": [
    "# Fauna similarity"
   ]
  },
  {
   "cell_type": "markdown",
   "metadata": {},
   "source": [
    "## Loading data"
   ]
  },
  {
   "cell_type": "code",
   "execution_count": 1,
   "metadata": {},
   "outputs": [],
   "source": [
    "table_fossil <- read.table(\"../../Data/Occurences/Occurences_extinct_Orectolobiformes.tsv\", header = TRUE, sep = \"\\t\")"
   ]
  },
  {
   "cell_type": "code",
   "execution_count": 2,
   "metadata": {
    "scrolled": true
   },
   "outputs": [],
   "source": [
    "table_fossil_tethys <- table_fossil[table_fossil$Paleobiogeography_all == \"Tethys\",]"
   ]
  },
  {
   "cell_type": "code",
   "execution_count": 3,
   "metadata": {},
   "outputs": [],
   "source": [
    "table_fossil_outside_tethys <- table_fossil[table_fossil$Paleobiogeography_all != \"Tethys\",]"
   ]
  },
  {
   "cell_type": "markdown",
   "metadata": {},
   "source": [
    "## Create useful functions"
   ]
  },
  {
   "cell_type": "markdown",
   "metadata": {},
   "source": [
    "### First and Last Appearance Date"
   ]
  },
  {
   "cell_type": "code",
   "execution_count": 4,
   "metadata": {},
   "outputs": [],
   "source": [
    "FAD_LAD <- function(table_fossil, table_fossil_name, rank){\n",
    "    whole_tab <- c()\n",
    "    taxonomic_rank <- eval(parse(text = paste(table_fossil_name, \"$\", rank, sep =\"\")))\n",
    "    for(i in unique(taxonomic_rank)){\n",
    "        FAD <- max(table_fossil[taxonomic_rank == i,]$Earliest.Age)\n",
    "        LAD <- min(table_fossil[taxonomic_rank == i,]$Latest.Age)\n",
    "        whole_tab <- rbind(whole_tab, c(i, FAD, LAD))\n",
    "    }\n",
    "    return(whole_tab)\n",
    "}"
   ]
  },
  {
   "cell_type": "markdown",
   "metadata": {},
   "source": [
    "### Comparaison of FAD"
   ]
  },
  {
   "cell_type": "code",
   "execution_count": 5,
   "metadata": {
    "scrolled": true
   },
   "outputs": [],
   "source": [
    "FAD_comp <- function(tab_1, tab_2){\n",
    "    whole_tab <- c()\n",
    "    for(i in intersect(tab_1[,1], tab_2[,1])){\n",
    "        if(tab_1[tab_1[,1]==i, 2] == tab_2[tab_2[,1]==i, 2]){\n",
    "            whole_tab <- rbind(whole_tab,c(i,\"Both\"))\n",
    "        }\n",
    "        else{\n",
    "            if(which.max(c(tab_1[tab_1[,1]==i, 2], tab_2[tab_2[,1]==i, 2]) == 1)){\n",
    "                whole_tab <- rbind(whole_tab,c(i,\"Tethys\"))\n",
    "            }\n",
    "            else{\n",
    "                whole_tab <- rbind(whole_tab,c(i,\"Outside\"))\n",
    "            }\n",
    "        }\n",
    "    }    \n",
    "    return(whole_tab)\n",
    "}"
   ]
  },
  {
   "cell_type": "markdown",
   "metadata": {},
   "source": [
    "## Comparaisons"
   ]
  },
  {
   "cell_type": "markdown",
   "metadata": {},
   "source": [
    "### Species level"
   ]
  },
  {
   "cell_type": "code",
   "execution_count": 57,
   "metadata": {},
   "outputs": [],
   "source": [
    "sp1 <- FAD_LAD(table_fossil_tethys, \"table_fossil_tethys\", \"Species\")\n",
    "sp2 <- FAD_LAD(table_fossil_outside_tethys, \"table_fossil_outside_tethys\", \"Species\")"
   ]
  },
  {
   "cell_type": "code",
   "execution_count": 59,
   "metadata": {
    "scrolled": true
   },
   "outputs": [],
   "source": [
    "sp1 <- sp1[!sp1[,1] %in% sp1[grep(\" sp.\", sp1[,1]), 1],]\n",
    "sp2 <- sp2[!sp2[,1] %in% sp2[grep(\" sp.\", sp2[,1]), 1],]"
   ]
  },
  {
   "cell_type": "markdown",
   "metadata": {},
   "source": [
    "### Genus level"
   ]
  },
  {
   "cell_type": "code",
   "execution_count": 8,
   "metadata": {},
   "outputs": [],
   "source": [
    "gen1 <- FAD_LAD(table_fossil_tethys, \"table_fossil_tethys\", \"Genus\")\n",
    "gen2 <- FAD_LAD(table_fossil_outside_tethys, \"table_fossil_outside_tethys\", \"Genus\")"
   ]
  },
  {
   "cell_type": "markdown",
   "metadata": {},
   "source": [
    "### Family level"
   ]
  },
  {
   "cell_type": "code",
   "execution_count": 10,
   "metadata": {},
   "outputs": [],
   "source": [
    "fam1 <- FAD_LAD(table_fossil_tethys, \"table_fossil_tethys\", \"Family\")\n",
    "fam2 <- FAD_LAD(table_fossil_outside_tethys, \"table_fossil_outside_tethys\", \"Family\")"
   ]
  }
 ],
 "metadata": {
  "kernelspec": {
   "display_name": "R",
   "language": "R",
   "name": "ir"
  },
  "language_info": {
   "codemirror_mode": "r",
   "file_extension": ".r",
   "mimetype": "text/x-r-source",
   "name": "R",
   "pygments_lexer": "r",
   "version": "4.3.3"
  }
 },
 "nbformat": 4,
 "nbformat_minor": 4
}
