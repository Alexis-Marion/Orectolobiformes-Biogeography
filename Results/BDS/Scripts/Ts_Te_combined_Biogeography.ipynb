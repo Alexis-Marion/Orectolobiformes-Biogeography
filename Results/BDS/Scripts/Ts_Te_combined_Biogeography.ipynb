{
 "cells": [
  {
   "cell_type": "markdown",
   "metadata": {},
   "source": [
    "# Combining extant data and extinct data for PyRate and DES (Biogeography)"
   ]
  },
  {
   "cell_type": "markdown",
   "metadata": {},
   "source": [
    "## Loading packages"
   ]
  },
  {
   "cell_type": "code",
   "execution_count": 1,
   "metadata": {
    "scrolled": true
   },
   "outputs": [
    {
     "name": "stderr",
     "output_type": "stream",
     "text": [
      "Le chargement a nécessité le package : ape\n",
      "\n",
      "Le chargement a nécessité le package : diversitree\n",
      "\n",
      "Le chargement a nécessité le package : TreeSim\n",
      "\n",
      "Le chargement a nécessité le package : geiger\n",
      "\n",
      "Le chargement a nécessité le package : phytools\n",
      "\n",
      "Le chargement a nécessité le package : maps\n",
      "\n",
      "Le chargement a nécessité le package : picante\n",
      "\n",
      "Le chargement a nécessité le package : vegan\n",
      "\n",
      "Le chargement a nécessité le package : permute\n",
      "\n",
      "Le chargement a nécessité le package : lattice\n",
      "\n",
      "This is vegan 2.6-8\n",
      "\n",
      "\n",
      "Attachement du package : ‘vegan’\n",
      "\n",
      "\n",
      "L'objet suivant est masqué depuis ‘package:phytools’:\n",
      "\n",
      "    scores\n",
      "\n",
      "\n",
      "Le chargement a nécessité le package : nlme\n",
      "\n"
     ]
    }
   ],
   "source": [
    "library(\"SpeciesAge\")\n",
    "library(\"ape\")"
   ]
  },
  {
   "cell_type": "markdown",
   "metadata": {},
   "source": [
    "## Loading data"
   ]
  },
  {
   "cell_type": "code",
   "execution_count": 2,
   "metadata": {},
   "outputs": [],
   "source": [
    "tree_list <- read.tree(\"../../../Data/Trees/posterior_distribution_100_tree_orecto.tree\")"
   ]
  },
  {
   "cell_type": "code",
   "execution_count": 3,
   "metadata": {},
   "outputs": [],
   "source": [
    "phy <- read.tree(\"../../../Data/Trees/consensus_tree_orecto.tree\")"
   ]
  },
  {
   "cell_type": "code",
   "execution_count": 4,
   "metadata": {},
   "outputs": [],
   "source": [
    "table_taxo <- read.table(\"../../BDS/Results/Biogeo/Species/outside_Tethys/Data_Occ_sp_Orecto_outside_Tethys_TaxonList.txt\", sep =\"\\t\", header = TRUE)"
   ]
  },
  {
   "cell_type": "code",
   "execution_count": 5,
   "metadata": {},
   "outputs": [],
   "source": [
    "lst_files_TS_TE <- list.files(\"../Results/Biogeo/Species/outside_Tethys/pyrate_mcmc_logs/\", full.names = TRUE, pattern = \"se_est.txt\")"
   ]
  },
  {
   "cell_type": "code",
   "execution_count": 6,
   "metadata": {},
   "outputs": [],
   "source": [
    "lst_files_DES <- list.files(\"../../DES/Analysis_Bayesian/sp/\", full.names = TRUE, pattern = \".txt\")"
   ]
  },
  {
   "cell_type": "code",
   "execution_count": 7,
   "metadata": {
    "scrolled": true
   },
   "outputs": [],
   "source": [
    "table_extant_biogeo <- read.table(\"../../../Data/DEC_BGB/7_area_biogeography_Orecto_extant.tsv\", sep =\"\\t\", header = TRUE)"
   ]
  },
  {
   "cell_type": "code",
   "execution_count": 8,
   "metadata": {},
   "outputs": [],
   "source": [
    "tab <- read.table(\"../Rate_shifts/Rates_sp.csv\", header = TRUE, sep = \";\")"
   ]
  },
  {
   "cell_type": "markdown",
   "metadata": {},
   "source": [
    "## Combining data"
   ]
  },
  {
   "cell_type": "code",
   "execution_count": 9,
   "metadata": {
    "scrolled": true
   },
   "outputs": [],
   "source": [
    "tr_nb_list<-sample(100, 20, replace = FALSE)\n",
    "\n",
    "NE = FALSE\n",
    "\n",
    "for (i in 1:20){\n",
    "    tr <- tree_list[[tr_nb_list[i]]]\n",
    "    temp_Ts_Te <- read.table(lst_files_TS_TE[[i]], sep =\"\\t\", header = TRUE)\n",
    "    temp_DES <- read.table(lst_files_DES[[i]], sep =\"\\t\")\n",
    "    table_extant_biogeo <- table_extant_biogeo[!table_extant_biogeo$Species %in% temp_DES$scientificName,]\n",
    "    table_extant_biogeo <- table_extant_biogeo[gsub(\" \", \"_\", table_extant_biogeo$Species) %in% phy$tip.label, ]\n",
    "    table_extant_biogeo$Species <- gsub(\" \", \"_\", table_extant_biogeo$Species)\n",
    "    colnames(temp_DES) <- as.character(temp_DES[1,])\n",
    "    temp_DES <- temp_DES[-1, ]\n",
    "    temp_table_taxo <- cbind(table_taxo, temp_Ts_Te)\n",
    "    temp_phy <- as.data.frame(SpeciesAge::calculateTipAges(tr))\n",
    "    temp_phy_corr <- as.data.frame(cbind(SpeciesAge::calculateTipAges(tr)[,1], lapply(SpeciesAge::calculateTipAges(tr)[,2], meanAge, lambda = mean(unlist(tab[6,-1])), mu = mean(unlist(tab[7,-1])), rho = 38/44)))\n",
    "    temp_phy2 <- temp_phy[! temp_phy[,1] %in% temp_table_taxo[,1],2]    \n",
    "    temp_phy_corr2 <- temp_phy_corr[! temp_phy_corr[,1] %in% temp_table_taxo[,1],2]\n",
    "    temp_neonto <- as.data.frame(cbind(rep(0,length(temp_phy2)), ((nrow(temp_table_taxo)+1):(nrow(temp_table_taxo)+length(temp_phy2))), temp_phy2, rep(0,length(temp_phy2))))\n",
    "    temp_neonto_corr <- as.data.frame(cbind(rep(0,length(temp_phy_corr2)), ((nrow(temp_table_taxo)+1):(nrow(temp_table_taxo)+length(temp_phy_corr2))), temp_phy_corr2, rep(0,length(temp_phy_corr2))))\n",
    "    colnames(temp_neonto) <- colnames(temp_Ts_Te)\n",
    "    colnames(temp_neonto_corr) <- colnames(temp_Ts_Te)\n",
    "    data_TS_TE <- rbind(temp_Ts_Te, temp_neonto)\n",
    "    data_TS_TE$clade <- unlist(data_TS_TE$clade)\n",
    "    data_TS_TE$species <- unlist(data_TS_TE$species)\n",
    "    data_TS_TE$ts <- unlist(data_TS_TE$ts)\n",
    "    data_TS_TE$te <- unlist(data_TS_TE$te)\n",
    "    data_TS_TE_CDD <- rbind(temp_Ts_Te, temp_neonto_corr)\n",
    "    data_TS_TE_CDD$clade <- unlist(data_TS_TE_CDD$clade)\n",
    "    data_TS_TE_CDD$species <- unlist(data_TS_TE_CDD$species)\n",
    "    data_TS_TE_CDD$ts <- unlist(data_TS_TE_CDD$ts)\n",
    "    data_TS_TE_CDD$te <- unlist(data_TS_TE_CDD$te)\n",
    "    \n",
    "    write.table(data_TS_TE, paste(\"../Results/Biogeo/Species_combined/\", i, \"_G_KEEP_BDS_se_est.txt\", sep =\"\"), sep = \"\\t\", col.names = TRUE, row.names = FALSE, quote = FALSE)\n",
    "    write.table(data_TS_TE_CDD, paste(\"../Results/Biogeo/Species_combined_CDD/\", i, \"_G_KEEP_BDS_se_est.txt\", sep =\"\"), sep = \"\\t\", col.names = TRUE, row.names = FALSE, quote = FALSE)\n",
    "    \n",
    "    temp_phy3 <- temp_phy[! temp_phy[,1] %in% temp_table_taxo[,1],]\n",
    "    temp_phy_corr3 <- temp_phy_corr[! temp_phy_corr[,1] %in% temp_table_taxo[,1],]\n",
    "    temp_numbers <- as.numeric(colnames(temp_DES)[-1])\n",
    "    matrix_DES <- matrix(NaN, nrow(temp_phy3), (ncol(temp_DES))-1)\n",
    "    matrix_DES_corr <- matrix(NaN, nrow(temp_phy_corr3), (ncol(temp_DES))-1)\n",
    "    temp_tab_range <- table_extant_biogeo[,-c(1:3)]\n",
    "    \n",
    "    if(NE == TRUE){\n",
    "            for(j in 1:nrow(temp_phy3)){\n",
    "                if(temp_tab_range[j,4] == 0|temp_tab_range[j,3] == 0){\n",
    "                    matrix_DES[j,c(min(which(temp_numbers < temp_phy3[j,2]))-1, which(temp_numbers < temp_phy3[j,2]))] <- \"1.0\" \n",
    "                }\n",
    "                if(temp_tab_range[j,4] == 1 & sum(temp_tab_range[j,]) == 1|temp_tab_range[j,3] == 1 & sum(temp_tab_range[j,]) == 1){\n",
    "                    matrix_DES[j,c(min(which(temp_numbers < temp_phy3[j,2]))-1, which(temp_numbers < temp_phy3[j,2]))] <- \"2.0\" \n",
    "                }\n",
    "                if(temp_tab_range[j,4] == 1 & sum(temp_tab_range[j,]) != 1|temp_tab_range[j,3] == 1 & sum(temp_tab_range[j,]) != 1){\n",
    "                    matrix_DES[j,c(min(which(temp_numbers < temp_phy3[j,2]))-1, which(temp_numbers < temp_phy3[j,2]))] <- \"3.0\" \n",
    "                }\n",
    "    \n",
    "            }\n",
    "    \n",
    "            for(j in 1:nrow(temp_phy_corr3)){\n",
    "                if(temp_tab_range[j,4] == 0){\n",
    "                    matrix_DES_corr[j,c(min(which(temp_numbers < temp_phy_corr3[j,2]))-1, which(temp_numbers < temp_phy_corr3[j,2]))] <- \"1.0\" \n",
    "                }\n",
    "                if(temp_tab_range[j,4] == 1 & sum(temp_tab_range[j,]) == 1){\n",
    "                    matrix_DES_corr[j,c(min(which(temp_numbers < temp_phy_corr3[j,2]))-1, which(temp_numbers < temp_phy_corr3[j,2]))] <- \"2.0\" \n",
    "                }\n",
    "                if(temp_tab_range[j,4] == 1 & sum(temp_tab_range[j,]) != 1){\n",
    "                    matrix_DES_corr[j,c(min(which(temp_numbers < temp_phy_corr3[j,2]))-1, which(temp_numbers < temp_phy_corr3[j,2]))] <- \"3.0\" \n",
    "                }\n",
    "    \n",
    "            }\n",
    "    }\n",
    "    else{\n",
    "            for(j in 1:nrow(temp_phy3)){\n",
    "                if(temp_tab_range[j,4] == 0){\n",
    "                    matrix_DES[j,c(min(which(temp_numbers < temp_phy3[j,2]))-1, which(temp_numbers < temp_phy3[j,2]))] <- \"1.0\" \n",
    "                }\n",
    "                if(temp_tab_range[j,4] == 1 & sum(temp_tab_range[j,]) == 1){\n",
    "                    matrix_DES[j,c(min(which(temp_numbers < temp_phy3[j,2]))-1, which(temp_numbers < temp_phy3[j,2]))] <- \"2.0\" \n",
    "                }\n",
    "                if(temp_tab_range[j,4] == 1 & sum(temp_tab_range[j,]) != 1){\n",
    "                    matrix_DES[j,c(min(which(temp_numbers < temp_phy3[j,2]))-1, which(temp_numbers < temp_phy3[j,2]))] <- \"3.0\" \n",
    "                }\n",
    "    \n",
    "            }\n",
    "    \n",
    "            for(j in 1:nrow(temp_phy_corr3)){\n",
    "                if(temp_tab_range[j,4] == 0){\n",
    "                    matrix_DES_corr[j,c(min(which(temp_numbers < temp_phy_corr3[j,2]))-1, which(temp_numbers < temp_phy_corr3[j,2]))] <- \"1.0\" \n",
    "                }\n",
    "                if(temp_tab_range[j,4] == 1 & sum(temp_tab_range[j,]) == 1){\n",
    "                    matrix_DES_corr[j,c(min(which(temp_numbers < temp_phy_corr3[j,2]))-1, which(temp_numbers < temp_phy_corr3[j,2]))] <- \"2.0\" \n",
    "                }\n",
    "                if(temp_tab_range[j,4] == 1 & sum(temp_tab_range[j,]) != 1){\n",
    "                    matrix_DES_corr[j,c(min(which(temp_numbers < temp_phy_corr3[j,2]))-1, which(temp_numbers < temp_phy_corr3[j,2]))] <- \"3.0\" \n",
    "                }\n",
    "    \n",
    "            }\n",
    "        \n",
    "    }    \n",
    "    matrix_DES <- cbind(gsub(\"_\", \" \", temp_phy3[,1]), matrix_DES)\n",
    "    colnames(matrix_DES) <- colnames(temp_DES)\n",
    "    full_matrix_DES <- rbind(temp_DES, matrix_DES)\n",
    "    full_matrix_DES[,2] <- \"NaN\"\n",
    "    matrix_DES_corr <- as.data.frame(cbind(gsub(\"_\", \" \", temp_phy3[,1]), matrix_DES_corr))\n",
    "    colnames(matrix_DES_corr) <- colnames(temp_DES)\n",
    "    full_matrix_DES_corr <- rbind(temp_DES, matrix_DES_corr)\n",
    "    full_matrix_DES_corr[,2] <- \"NaN\"\n",
    "    write.table(full_matrix_DES, paste(\"../../DES/Analysis_Bayesian/sp_combined/sp_combined_DES_\", i, \".txt\", sep =\"\"), sep = \"\\t\", col.names = TRUE, row.names = FALSE, quote = FALSE)\n",
    "    write.table(full_matrix_DES_corr, paste(\"../../DES/Analysis_Bayesian/sp_combined_CDD/sp_combined_DES_\", i, \".txt\", sep =\"\"), sep = \"\\t\", col.names = TRUE, row.names = FALSE, quote = FALSE)\n",
    "}"
   ]
  }
 ],
 "metadata": {
  "kernelspec": {
   "display_name": "R",
   "language": "R",
   "name": "ir"
  },
  "language_info": {
   "codemirror_mode": "r",
   "file_extension": ".r",
   "mimetype": "text/x-r-source",
   "name": "R",
   "pygments_lexer": "r",
   "version": "4.3.3"
  }
 },
 "nbformat": 4,
 "nbformat_minor": 4
}
