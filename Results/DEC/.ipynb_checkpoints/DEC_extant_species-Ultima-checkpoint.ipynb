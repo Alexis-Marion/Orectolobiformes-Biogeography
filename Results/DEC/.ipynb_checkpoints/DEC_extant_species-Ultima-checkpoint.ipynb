{
 "cells": [
  {
   "cell_type": "markdown",
   "metadata": {},
   "source": [
    "# DEC extant species"
   ]
  },
  {
   "cell_type": "markdown",
   "metadata": {},
   "source": [
    "## Loading data"
   ]
  },
  {
   "cell_type": "code",
   "execution_count": 1,
   "metadata": {
    "scrolled": true
   },
   "outputs": [
    {
     "name": "stderr",
     "output_type": "stream",
     "text": [
      "\n",
      "Attachement du package : ‘parallel’\n",
      "\n",
      "\n",
      "Les objets suivants sont masqués depuis ‘package:snow’:\n",
      "\n",
      "    clusterApply, clusterApplyLB, clusterCall, clusterEvalQ,\n",
      "    clusterExport, clusterMap, clusterSplit, makeCluster, parApply,\n",
      "    parCapply, parLapply, parRapply, parSapply, splitIndices,\n",
      "    stopCluster\n",
      "\n",
      "\n"
     ]
    }
   ],
   "source": [
    "library(\"ape\")\n",
    "library(\"optimx\")\n",
    "library(\"GenSA\")\n",
    "library(\"rexpokit\")\n",
    "library(\"cladoRcpp\")\n",
    "library(\"snow\") \n",
    "library(\"parallel\")\n",
    "library(\"BioGeoBEARS\")"
   ]
  },
  {
   "cell_type": "markdown",
   "metadata": {},
   "source": [
    "### Loading Tree"
   ]
  },
  {
   "cell_type": "code",
   "execution_count": 2,
   "metadata": {},
   "outputs": [],
   "source": [
    "phy = \"Input/tree_orecto.tree\""
   ]
  },
  {
   "cell_type": "markdown",
   "metadata": {},
   "source": [
    "### Loading presence-absence matrix"
   ]
  },
  {
   "cell_type": "code",
   "execution_count": 3,
   "metadata": {},
   "outputs": [],
   "source": [
    "table_geo = \"Input/table_geo_6_australia_cut.txt\""
   ]
  },
  {
   "cell_type": "markdown",
   "metadata": {},
   "source": [
    "### Loading time period file"
   ]
  },
  {
   "cell_type": "code",
   "execution_count": 4,
   "metadata": {},
   "outputs": [],
   "source": [
    "time_period= \"6_area_time_period.txt\""
   ]
  },
  {
   "cell_type": "markdown",
   "metadata": {},
   "source": [
    "### Loading connectivity matrix"
   ]
  },
  {
   "cell_type": "code",
   "execution_count": 5,
   "metadata": {},
   "outputs": [],
   "source": [
    "connectivity_matrix = \"6_area_area_matrix.txt\""
   ]
  },
  {
   "cell_type": "markdown",
   "metadata": {},
   "source": [
    "## Setting up DEC"
   ]
  },
  {
   "cell_type": "markdown",
   "metadata": {},
   "source": [
    "### Intitialize DEC model"
   ]
  },
  {
   "cell_type": "code",
   "execution_count": 6,
   "metadata": {},
   "outputs": [],
   "source": [
    "DEC_orectolobiformes = define_BioGeoBEARS_run()"
   ]
  },
  {
   "cell_type": "markdown",
   "metadata": {},
   "source": [
    "### Setting up DEC input data"
   ]
  },
  {
   "cell_type": "markdown",
   "metadata": {},
   "source": [
    "#### Phylogeny"
   ]
  },
  {
   "cell_type": "code",
   "execution_count": 7,
   "metadata": {},
   "outputs": [],
   "source": [
    "DEC_orectolobiformes$trfn = phy"
   ]
  },
  {
   "cell_type": "markdown",
   "metadata": {},
   "source": [
    "#### Presence-absence matrix"
   ]
  },
  {
   "cell_type": "code",
   "execution_count": 8,
   "metadata": {},
   "outputs": [],
   "source": [
    "DEC_orectolobiformes$geogfn = table_geo"
   ]
  },
  {
   "cell_type": "markdown",
   "metadata": {},
   "source": [
    "#### Tip range"
   ]
  },
  {
   "cell_type": "code",
   "execution_count": 9,
   "metadata": {},
   "outputs": [],
   "source": [
    "tipranges = getranges_from_LagrangePHYLIP(lgdata_fn=table_geo)"
   ]
  },
  {
   "cell_type": "markdown",
   "metadata": {},
   "source": [
    "#### Maximum range size"
   ]
  },
  {
   "cell_type": "code",
   "execution_count": 10,
   "metadata": {},
   "outputs": [],
   "source": [
    "max_range_size = 5\n",
    "DEC_orectolobiformes$max_range_size = max_range_size"
   ]
  },
  {
   "cell_type": "code",
   "execution_count": null,
   "metadata": {},
   "outputs": [],
   "source": []
  },
  {
   "cell_type": "code",
   "execution_count": null,
   "metadata": {},
   "outputs": [],
   "source": []
  },
  {
   "cell_type": "code",
   "execution_count": null,
   "metadata": {},
   "outputs": [],
   "source": []
  },
  {
   "cell_type": "code",
   "execution_count": null,
   "metadata": {},
   "outputs": [],
   "source": []
  },
  {
   "cell_type": "markdown",
   "metadata": {},
   "source": [
    "#### Time periods"
   ]
  },
  {
   "cell_type": "code",
   "execution_count": 11,
   "metadata": {},
   "outputs": [],
   "source": [
    "DEC_orectolobiformes$timesfn = time_period"
   ]
  },
  {
   "cell_type": "code",
   "execution_count": 12,
   "metadata": {},
   "outputs": [],
   "source": [
    "DEC_orectolobiformes$timeperiods = unlist((unname(c(read.table(time_period)))))"
   ]
  },
  {
   "cell_type": "markdown",
   "metadata": {},
   "source": [
    "#### Connectivity matrix"
   ]
  },
  {
   "cell_type": "markdown",
   "metadata": {},
   "source": [
    "DEC_orectolobiformes$areas_adjacency_fn = connectivity_matrix"
   ]
  },
  {
   "cell_type": "markdown",
   "metadata": {},
   "source": [
    "#### Forced nodes"
   ]
  },
  {
   "cell_type": "code",
   "execution_count": 13,
   "metadata": {},
   "outputs": [],
   "source": [
    "#DEC_orectolobiformes$fixnode = c(43,63,64,75)\n",
    "#DEC_orectolobiformes$fixlikes = matrix(c(0,0,0,0,0,0,1,0,0,0,0,1,0,0,0,1,0,0,1,0,1,1,0,0,0,1,0,0,1,0,1,1,0,0,1,0,1,1,0,1,1,1,0,0,1,0,1,1,0,1,1,1,0,1,1,1,1,0,1,1,1,1,1,0,0,0,0,0,0,1,0,0,0,0,1,0,0,0,1,0,0,1,0,1,1,0,0,0,1,0,0,1,0,1,1,0,0,1,0,1,1,0,1,1,1,0,0,1,0,1,1,0,1,1,1,0,1,1,1,1,0,1,1,1,1,1,0,0,1,1,0,0,1,1,1,1,1,1,1,1,1,1,1,1,1,1,1,1,1,1,1,1,1,1,1,1,1,1,1,1,1,1,1,1,1,1,1,1,1,1,1,1,1,1,1,1,1,1,1,1,1,1,1,1,1,1,1,1,1,0,0,1,1,0,0,1,1,1,1,1,1,1,1,1,1,1,1,1,1,1,1,1,1,1,1,1,1,1,1,1,1,1,1,1,1,1,1,1,1,1,1,1,1,1,1,1,1,1,1,1,1,1,1,1,1,1,1,1,1,1,1,1),ncol=63,nrow=4,byrow=TRUE)"
   ]
  },
  {
   "cell_type": "markdown",
   "metadata": {},
   "source": [
    "#### Optimization parameters"
   ]
  },
  {
   "cell_type": "code",
   "execution_count": 14,
   "metadata": {},
   "outputs": [],
   "source": [
    "DEC_orectolobiformes$force_sparse = FALSE\n",
    "DEC_orectolobiformes$on_NaN_error = -1e50\n",
    "DEC_orectolobiformes$speedup = FALSE        \n",
    "DEC_orectolobiformes$use_optimx = TRUE    \n",
    "DEC_orectolobiformes$num_cores_to_use = 24"
   ]
  },
  {
   "cell_type": "markdown",
   "metadata": {},
   "source": [
    "#### Dividing the tree per time periods"
   ]
  },
  {
   "cell_type": "code",
   "execution_count": 15,
   "metadata": {},
   "outputs": [],
   "source": [
    "DEC_orectolobiformes$return_condlikes_table = TRUE\n",
    "DEC_orectolobiformes$calc_TTL_loglike_from_condlikes_table = TRUE\n",
    "DEC_orectolobiformes$calc_ancprobs = TRUE"
   ]
  },
  {
   "cell_type": "code",
   "execution_count": 16,
   "metadata": {
    "scrolled": true
   },
   "outputs": [
    {
     "name": "stdout",
     "output_type": "stream",
     "text": [
      "\n",
      "1- top: 0, bot: 1, rel_bot: 1\n",
      "\n",
      "2- top: 1, bot: 3.1, rel_bot: 2.1\n",
      "\n",
      "3- top: 3.1, bot: 5.96, rel_bot: 2.86\n",
      "\n",
      "4- top: 5.96, bot: 15, rel_bot: 9.04\n",
      "\n",
      "5- top: 15, bot: 35, rel_bot: 20\n",
      "\n",
      "6- top: 35, bot: 55, rel_bot: 20\n",
      "\n",
      "7- top: 55, bot: 75, rel_bot: 20\n",
      "\n",
      "8- top: 75, bot: 95, rel_bot: 20\n",
      "\n",
      "9- top: 95, bot: 115, rel_bot: 20\n",
      "\n",
      "10- top: 115, bot: 135, rel_bot: 20\n",
      "\n",
      "11- top: 135, bot: 155, rel_bot: 20\n",
      "\n",
      "12- top: 155, bot: 175, rel_bot: 20\n",
      "\n",
      "13- top: 175, bot: 195, rel_bot: 20\n",
      "\n",
      "14- top: 195, bot: 215, rel_bot: 20\n",
      "\n",
      "15- top: 215, bot: 235, rel_bot: 20\n",
      "\n",
      "16- top: 235, bot: 255, rel_bot: 20\n"
     ]
    }
   ],
   "source": [
    "DEC_orectolobiformes = section_the_tree(inputs=DEC_orectolobiformes, make_master_table=TRUE, plot_pieces=FALSE, fossils_older_than=0.001, cut_fossils=FALSE)"
   ]
  },
  {
   "cell_type": "markdown",
   "metadata": {},
   "source": [
    "#### State list"
   ]
  },
  {
   "cell_type": "code",
   "execution_count": 17,
   "metadata": {},
   "outputs": [],
   "source": [
    "areas = getareas_from_tipranges_object(tipranges)\n",
    "states_area_list = rcpp_areas_list_to_states_list(areas=areas, maxareas=max_range_size, include_null_range=TRUE)\n",
    "DEC_orectolobiformes$states_list = states_area_list"
   ]
  },
  {
   "cell_type": "code",
   "execution_count": 18,
   "metadata": {},
   "outputs": [
    {
     "data": {
      "text/html": [
       "63"
      ],
      "text/latex": [
       "63"
      ],
      "text/markdown": [
       "63"
      ],
      "text/plain": [
       "[1] 63"
      ]
     },
     "metadata": {},
     "output_type": "display_data"
    }
   ],
   "source": [
    "max_range_size = 5\n",
    "areas = getareas_from_tipranges_object(tipranges)\n",
    "#areas = c(\"A\", \"B\", \"C\", \"D\")\n",
    "\n",
    "# This is the list of states/ranges, where each state/range\n",
    "# is a list of areas, counting from 0\n",
    "states_list_0based = rcpp_areas_list_to_states_list(areas=areas, maxareas=max_range_size, include_null_range=TRUE)\n",
    "\n",
    "# How many states/ranges, by default: 163\n",
    "length(states_list_0based)\n",
    "\n",
    "# Make the list of ranges\n",
    "ranges_list = NULL\n",
    "for (i in 1:length(states_list_0based))\n",
    "    {    \n",
    "    if ( (length(states_list_0based[[i]]) == 1) && (is.na(states_list_0based[[i]])) )\n",
    "        {\n",
    "        tmprange = \"_\"\n",
    "        } else {\n",
    "        tmprange = paste(areas[states_list_0based[[i]]+1], collapse=\"\")\n",
    "        }\n",
    "    ranges_list = c(ranges_list, tmprange)\n",
    "    }"
   ]
  },
  {
   "cell_type": "code",
   "execution_count": 19,
   "metadata": {},
   "outputs": [
    {
     "data": {
      "text/html": [
       "<style>\n",
       ".list-inline {list-style: none; margin:0; padding: 0}\n",
       ".list-inline>li {display: inline-block}\n",
       ".list-inline>li:not(:last-child)::after {content: \"\\00b7\"; padding: 0 .5ex}\n",
       "</style>\n",
       "<ol class=list-inline><li>'_'</li><li>'A'</li><li>'B'</li><li>'C'</li><li>'D'</li><li>'E'</li><li>'F'</li><li>'AB'</li><li>'AC'</li><li>'AD'</li><li>'AE'</li><li>'AF'</li><li>'BC'</li><li>'BD'</li><li>'BE'</li><li>'BF'</li><li>'CD'</li><li>'CE'</li><li>'CF'</li><li>'DE'</li><li>'DF'</li><li>'EF'</li><li>'ABC'</li><li>'ABD'</li><li>'ABE'</li><li>'ABF'</li><li>'ACD'</li><li>'ACE'</li><li>'ACF'</li><li>'ADE'</li><li>'ADF'</li><li>'AEF'</li><li>'BCD'</li><li>'BCE'</li><li>'BCF'</li><li>'BDE'</li><li>'BDF'</li><li>'BEF'</li><li>'CDE'</li><li>'CDF'</li><li>'CEF'</li><li>'DEF'</li><li>'ABCD'</li><li>'ABCE'</li><li>'ABCF'</li><li>'ABDE'</li><li>'ABDF'</li><li>'ABEF'</li><li>'ACDE'</li><li>'ACDF'</li><li>'ACEF'</li><li>'ADEF'</li><li>'BCDE'</li><li>'BCDF'</li><li>'BCEF'</li><li>'BDEF'</li><li>'CDEF'</li><li>'ABCDE'</li><li>'ABCDF'</li><li>'ABCEF'</li><li>'ABDEF'</li><li>'ACDEF'</li><li>'BCDEF'</li></ol>\n"
      ],
      "text/latex": [
       "\\begin{enumerate*}\n",
       "\\item '\\_'\n",
       "\\item 'A'\n",
       "\\item 'B'\n",
       "\\item 'C'\n",
       "\\item 'D'\n",
       "\\item 'E'\n",
       "\\item 'F'\n",
       "\\item 'AB'\n",
       "\\item 'AC'\n",
       "\\item 'AD'\n",
       "\\item 'AE'\n",
       "\\item 'AF'\n",
       "\\item 'BC'\n",
       "\\item 'BD'\n",
       "\\item 'BE'\n",
       "\\item 'BF'\n",
       "\\item 'CD'\n",
       "\\item 'CE'\n",
       "\\item 'CF'\n",
       "\\item 'DE'\n",
       "\\item 'DF'\n",
       "\\item 'EF'\n",
       "\\item 'ABC'\n",
       "\\item 'ABD'\n",
       "\\item 'ABE'\n",
       "\\item 'ABF'\n",
       "\\item 'ACD'\n",
       "\\item 'ACE'\n",
       "\\item 'ACF'\n",
       "\\item 'ADE'\n",
       "\\item 'ADF'\n",
       "\\item 'AEF'\n",
       "\\item 'BCD'\n",
       "\\item 'BCE'\n",
       "\\item 'BCF'\n",
       "\\item 'BDE'\n",
       "\\item 'BDF'\n",
       "\\item 'BEF'\n",
       "\\item 'CDE'\n",
       "\\item 'CDF'\n",
       "\\item 'CEF'\n",
       "\\item 'DEF'\n",
       "\\item 'ABCD'\n",
       "\\item 'ABCE'\n",
       "\\item 'ABCF'\n",
       "\\item 'ABDE'\n",
       "\\item 'ABDF'\n",
       "\\item 'ABEF'\n",
       "\\item 'ACDE'\n",
       "\\item 'ACDF'\n",
       "\\item 'ACEF'\n",
       "\\item 'ADEF'\n",
       "\\item 'BCDE'\n",
       "\\item 'BCDF'\n",
       "\\item 'BCEF'\n",
       "\\item 'BDEF'\n",
       "\\item 'CDEF'\n",
       "\\item 'ABCDE'\n",
       "\\item 'ABCDF'\n",
       "\\item 'ABCEF'\n",
       "\\item 'ABDEF'\n",
       "\\item 'ACDEF'\n",
       "\\item 'BCDEF'\n",
       "\\end{enumerate*}\n"
      ],
      "text/markdown": [
       "1. '_'\n",
       "2. 'A'\n",
       "3. 'B'\n",
       "4. 'C'\n",
       "5. 'D'\n",
       "6. 'E'\n",
       "7. 'F'\n",
       "8. 'AB'\n",
       "9. 'AC'\n",
       "10. 'AD'\n",
       "11. 'AE'\n",
       "12. 'AF'\n",
       "13. 'BC'\n",
       "14. 'BD'\n",
       "15. 'BE'\n",
       "16. 'BF'\n",
       "17. 'CD'\n",
       "18. 'CE'\n",
       "19. 'CF'\n",
       "20. 'DE'\n",
       "21. 'DF'\n",
       "22. 'EF'\n",
       "23. 'ABC'\n",
       "24. 'ABD'\n",
       "25. 'ABE'\n",
       "26. 'ABF'\n",
       "27. 'ACD'\n",
       "28. 'ACE'\n",
       "29. 'ACF'\n",
       "30. 'ADE'\n",
       "31. 'ADF'\n",
       "32. 'AEF'\n",
       "33. 'BCD'\n",
       "34. 'BCE'\n",
       "35. 'BCF'\n",
       "36. 'BDE'\n",
       "37. 'BDF'\n",
       "38. 'BEF'\n",
       "39. 'CDE'\n",
       "40. 'CDF'\n",
       "41. 'CEF'\n",
       "42. 'DEF'\n",
       "43. 'ABCD'\n",
       "44. 'ABCE'\n",
       "45. 'ABCF'\n",
       "46. 'ABDE'\n",
       "47. 'ABDF'\n",
       "48. 'ABEF'\n",
       "49. 'ACDE'\n",
       "50. 'ACDF'\n",
       "51. 'ACEF'\n",
       "52. 'ADEF'\n",
       "53. 'BCDE'\n",
       "54. 'BCDF'\n",
       "55. 'BCEF'\n",
       "56. 'BDEF'\n",
       "57. 'CDEF'\n",
       "58. 'ABCDE'\n",
       "59. 'ABCDF'\n",
       "60. 'ABCEF'\n",
       "61. 'ABDEF'\n",
       "62. 'ACDEF'\n",
       "63. 'BCDEF'\n",
       "\n",
       "\n"
      ],
      "text/plain": [
       " [1] \"_\"     \"A\"     \"B\"     \"C\"     \"D\"     \"E\"     \"F\"     \"AB\"    \"AC\"   \n",
       "[10] \"AD\"    \"AE\"    \"AF\"    \"BC\"    \"BD\"    \"BE\"    \"BF\"    \"CD\"    \"CE\"   \n",
       "[19] \"CF\"    \"DE\"    \"DF\"    \"EF\"    \"ABC\"   \"ABD\"   \"ABE\"   \"ABF\"   \"ACD\"  \n",
       "[28] \"ACE\"   \"ACF\"   \"ADE\"   \"ADF\"   \"AEF\"   \"BCD\"   \"BCE\"   \"BCF\"   \"BDE\"  \n",
       "[37] \"BDF\"   \"BEF\"   \"CDE\"   \"CDF\"   \"CEF\"   \"DEF\"   \"ABCD\"  \"ABCE\"  \"ABCF\" \n",
       "[46] \"ABDE\"  \"ABDF\"  \"ABEF\"  \"ACDE\"  \"ACDF\"  \"ACEF\"  \"ADEF\"  \"BCDE\"  \"BCDF\" \n",
       "[55] \"BCEF\"  \"BDEF\"  \"CDEF\"  \"ABCDE\" \"ABCDF\" \"ABCEF\" \"ABDEF\" \"ACDEF\" \"BCDEF\""
      ]
     },
     "metadata": {},
     "output_type": "display_data"
    },
    {
     "data": {
      "text/html": [
       "63"
      ],
      "text/latex": [
       "63"
      ],
      "text/markdown": [
       "63"
      ],
      "text/plain": [
       "[1] 63"
      ]
     },
     "metadata": {},
     "output_type": "display_data"
    },
    {
     "data": {
      "text/html": [
       "57"
      ],
      "text/latex": [
       "57"
      ],
      "text/markdown": [
       "57"
      ],
      "text/plain": [
       "[1] 57"
      ]
     },
     "metadata": {},
     "output_type": "display_data"
    },
    {
     "data": {
      "text/html": [
       "57"
      ],
      "text/latex": [
       "57"
      ],
      "text/markdown": [
       "57"
      ],
      "text/plain": [
       "[1] 57"
      ]
     },
     "metadata": {},
     "output_type": "display_data"
    },
    {
     "data": {
      "text/html": [
       "58"
      ],
      "text/latex": [
       "58"
      ],
      "text/markdown": [
       "58"
      ],
      "text/plain": [
       "[1] 58"
      ]
     },
     "metadata": {},
     "output_type": "display_data"
    },
    {
     "data": {
      "text/html": [
       "61"
      ],
      "text/latex": [
       "61"
      ],
      "text/markdown": [
       "61"
      ],
      "text/plain": [
       "[1] 61"
      ]
     },
     "metadata": {},
     "output_type": "display_data"
    }
   ],
   "source": [
    "# Look at the ranges list\n",
    "ranges_list\n",
    "\n",
    "# How many states/ranges, by default: 163\n",
    "length(ranges_list)\n",
    "\n",
    "# Let's remove some non-adjacent ranges\n",
    "\n",
    "# STRATUM 1 (youngest)\n",
    "nonadjacent1=c(\"AC\",\"AD\",\"AE\",\"AF\",\"AG\",\"AH\",\"BE\",\"BG\",\"BH\",\"CG\",\"CH\",\"DF\",\"DG\",\"DH\",\"EH\")\n",
    "keepTF1 = ranges_list %in% nonadjacent1 == FALSE\n",
    "ranges_list_NEW1 = ranges_list[keepTF1]\n",
    "length(ranges_list_NEW1)     # now 148\n",
    "\n",
    "# STRATUM 2\n",
    "nonadjacent2=c(\"AC\",\"AD\",\"AE\",\"AF\",\"AG\",\"AH\",\"BE\",\"BG\",\"BH\",\"CG\",\"CH\",\"DF\",\"DG\")\n",
    "keepTF2 = ranges_list %in% nonadjacent2 == FALSE\n",
    "ranges_list_NEW2 = ranges_list[keepTF2]\n",
    "length(ranges_list_NEW2)\n",
    "\n",
    "# STRATUM 3 (oldest)\n",
    "nonadjacent3=c(\"AC\",\"AD\",\"AE\",\"AF\",\"AG\",\"AH\",\"BE\",\"BG\",\"BH\",\"CG\",\"CH\")\n",
    "keepTF3 = ranges_list %in% nonadjacent3 == FALSE\n",
    "ranges_list_NEW3 = ranges_list[keepTF3]\n",
    "length(ranges_list_NEW3)\n",
    "\n",
    "\n",
    "# STRATUM 4 (oldest)\n",
    "nonadjacent4=c(\"A\", \"B\", \"C\", \"D\", \"E\", \"F\")\n",
    "keepTF4 = ranges_list %in% nonadjacent4 == FALSE\n",
    "ranges_list_NEW4 = ranges_list[keepTF4]\n",
    "length(ranges_list_NEW4)\n",
    "\n",
    "# Make the stratum-specific states list\n",
    "states_list_0based_NEW1 = states_list_0based[keepTF1]\n",
    "states_list_0based_NEW2 = states_list_0based[keepTF2]\n",
    "states_list_0based_NEW3 = states_list_0based[keepTF3]\n",
    "states_list_0based_NEW4 = states_list_0based[keepTF4]\n",
    "\n",
    "# INPUT the NEW states list into the BioGeoBEARS_run_object, STRATIFIED\n",
    "DEC_orectolobiformes$lists_of_states_lists_[[1]] = states_list_0based\n",
    "DEC_orectolobiformes$lists_of_states_lists[[2]] = states_list_0based_NEW2\n",
    "DEC_orectolobiformes$lists_of_states_lists[[3]] = states_list_0based_NEW3\n",
    "DEC_orectolobiformes$lists_of_states_lists[[4]] = states_list_0based_NEW1\n",
    "DEC_orectolobiformes$lists_of_states_lists[[5]] = states_list_0based_NEW2\n",
    "DEC_orectolobiformes$lists_of_states_lists[[6]] = states_list_0based_NEW3\n",
    "DEC_orectolobiformes$lists_of_states_lists[[7]] = states_list_0based_NEW1\n",
    "DEC_orectolobiformes$lists_of_states_lists[[8]] = states_list_0based_NEW2\n",
    "DEC_orectolobiformes$lists_of_states_lists[[9]] = states_list_0based_NEW3\n",
    "DEC_orectolobiformes$lists_of_states_lists[[10]] = states_list_0based_NEW1\n",
    "DEC_orectolobiformes$lists_of_states_lists[[11]] = states_list_0based_NEW2\n",
    "DEC_orectolobiformes$lists_of_states_lists[[12]] = states_list_0based_NEW3\n",
    "DEC_orectolobiformes$lists_of_states_lists[[13]] = states_list_0based_NEW1\n",
    "DEC_orectolobiformes$lists_of_states_lists[[14]] = states_list_0based_NEW2\n",
    "DEC_orectolobiformes$lists_of_states_lists[[15]] = states_list_0based_NEW3\n",
    "DEC_orectolobiformes$lists_of_states_lists[[16]] = states_list_0based_NEW4"
   ]
  },
  {
   "cell_type": "markdown",
   "metadata": {},
   "source": [
    "#### Ancestral state estimation"
   ]
  },
  {
   "cell_type": "markdown",
   "metadata": {},
   "source": [
    "#### Finalize settings"
   ]
  },
  {
   "cell_type": "code",
   "execution_count": 20,
   "metadata": {},
   "outputs": [],
   "source": [
    "DEC_orectolobiformes = readfiles_BioGeoBEARS_run(DEC_orectolobiformes)"
   ]
  },
  {
   "cell_type": "markdown",
   "metadata": {},
   "source": [
    "### Check inputs"
   ]
  },
  {
   "cell_type": "code",
   "execution_count": 21,
   "metadata": {},
   "outputs": [
    {
     "data": {
      "text/html": [
       "TRUE"
      ],
      "text/latex": [
       "TRUE"
      ],
      "text/markdown": [
       "TRUE"
      ],
      "text/plain": [
       "[1] TRUE"
      ]
     },
     "metadata": {},
     "output_type": "display_data"
    }
   ],
   "source": [
    "check_BioGeoBEARS_run(DEC_orectolobiformes)"
   ]
  },
  {
   "cell_type": "markdown",
   "metadata": {},
   "source": [
    "## Running the DEC analysis"
   ]
  },
  {
   "cell_type": "code",
   "execution_count": 22,
   "metadata": {},
   "outputs": [],
   "source": [
    "runslow = TRUE\n",
    "run_results = \"Orecto_DEC.Rdata\"\n",
    "if (runslow){\n",
    "    res = bears_optim_run(DEC_orectolobiformes)\n",
    "    res    \n",
    "    save(res, file=run_results)\n",
    "    resDEC = res\n",
    "} else {\n",
    "    # Loads to \"res\"\n",
    "    load(run_results)\n",
    "    resDEC = res\n",
    "}"
   ]
  },
  {
   "cell_type": "markdown",
   "metadata": {},
   "source": [
    "## Plotting Ancestral state estimates"
   ]
  },
  {
   "cell_type": "code",
   "execution_count": null,
   "metadata": {
    "scrolled": true
   },
   "outputs": [],
   "source": [
    "prepare_df_plot <- function(data_bgb){\n",
    "     data_plot_0 <- data.frame(matrix(nrow = nrow(data_bgb$relative_probs_of_each_state_at_branch_bottom_below_node_UPPASS),\n",
    "                                ncol = 8))\n",
    "      colnames(data_plot_0) <- c(\"end_state_1\", \"end_state_2\", \"end_state_3\", \n",
    "                              \"end_state_1_pp\", \"end_state_2_pp\", \"end_state_3_pp\", \n",
    "                              \"end_state_other_pp\", \"node\")\n",
    "\n",
    "    for (i in 1:nrow(data_bgb$ML_marginal_prob_each_state_at_branch_top_AT_node)) {\n",
    "        row <- data_bgb$ML_marginal_prob_each_state_at_branch_top_AT_node[i,]\n",
    "        data_plot_0[i, 1] <- order(row,decreasing=T)[1]\n",
    "        data_plot_0[i, 2] <- order(row,decreasing=T)[2]\n",
    "        data_plot_0[i, 3] <- order(row,decreasing=T)[3]\n",
    "        data_plot_0[i, 4] <- row[order(row,decreasing=T)[1]]\n",
    "        data_plot_0[i, 5] <- row[order(row,decreasing=T)[2]]\n",
    "        data_plot_0[i, 6] <- row[order(row,decreasing=T)[3]]\n",
    "        data_plot_0[i, 7] <- sum(row[order(row,decreasing=T)[4:length(row)]]) \n",
    "        data_plot_0[i, 8] <- i\n",
    "    }\n",
    "    \n",
    "    states_plot <- sort(unique(c(data_plot_0$end_state_1,data_plot_0$end_state_2, data_plot_0$end_state_3)))\n",
    "    full_data <- c()\n",
    "    for( i in 1:nrow(data_plot_0)){\n",
    "        temp_row <- rep(0, length(states_plot))\n",
    "        temp_row[which(states_plot == data_plot_0[i,1])] <- data_plot_0[i, 4]\n",
    "        temp_row[which(states_plot == data_plot_0[i,2])] <- data_plot_0[i, 5]\n",
    "        temp_row[which(states_plot == data_plot_0[i,3])] <- data_plot_0[i, 6]\n",
    "        temp_row[1] <- temp_row[1] + data_plot_0[i, 7]\n",
    "        full_data <- rbind(full_data, temp_row)\n",
    "    }\n",
    "    full_data <- as.data.frame(cbind(full_data, data_plot_0$node))\n",
    "    colnames(full_data) <- c(as.character(states_plot), \"node\")\n",
    "    rownames(full_data) <- data_plot_0$node\n",
    "return(full_data)\n",
    "}"
   ]
  },
  {
   "cell_type": "code",
   "execution_count": null,
   "metadata": {},
   "outputs": [],
   "source": [
    "saveRDS(prepare_df_plot(resDEC), \"ancestral_state.rds\")"
   ]
  }
 ],
 "metadata": {
  "kernelspec": {
   "display_name": "R",
   "language": "R",
   "name": "ir"
  },
  "language_info": {
   "codemirror_mode": "r",
   "file_extension": ".r",
   "mimetype": "text/x-r-source",
   "name": "R",
   "pygments_lexer": "r",
   "version": "4.3.3"
  }
 },
 "nbformat": 4,
 "nbformat_minor": 5
}
