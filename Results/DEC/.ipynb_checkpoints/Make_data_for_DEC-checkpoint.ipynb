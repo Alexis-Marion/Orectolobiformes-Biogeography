{
 "cells": [
  {
   "cell_type": "markdown",
   "metadata": {},
   "source": [
    "# Make data for DEC"
   ]
  },
  {
   "cell_type": "markdown",
   "metadata": {},
   "source": [
    "## Loading packages"
   ]
  },
  {
   "cell_type": "code",
   "execution_count": 11,
   "metadata": {},
   "outputs": [],
   "source": [
    "library(\"tidygraph\")\n",
    "library(\"igraph\")\n",
    "library(\"ggraph\")\n",
    "library(\"tidyverse\")\n",
    "library(\"ape\")"
   ]
  },
  {
   "cell_type": "markdown",
   "metadata": {},
   "source": [
    "## Loading data"
   ]
  },
  {
   "cell_type": "code",
   "execution_count": 2,
   "metadata": {},
   "outputs": [],
   "source": [
    "table <- read.table(\"../Data_orectolobiformes/Time_periods.tsv\", sep =\"\\t\", header = TRUE)"
   ]
  },
  {
   "cell_type": "code",
   "execution_count": 3,
   "metadata": {},
   "outputs": [],
   "source": [
    "table_biogeo <- read.table(\"../Data_orectolobiformes/Biogeography_extant.tsv\", sep =\"\\t\", header = TRUE)"
   ]
  },
  {
   "cell_type": "code",
   "execution_count": 4,
   "metadata": {},
   "outputs": [],
   "source": [
    "phy <- read.tree(\"../Data_orectolobiformes/tree_orecto.tree\")"
   ]
  },
  {
   "cell_type": "markdown",
   "metadata": {},
   "source": [
    "## Prepare biogeographic data for extant taxa"
   ]
  },
  {
   "cell_type": "code",
   "execution_count": 5,
   "metadata": {
    "scrolled": true
   },
   "outputs": [],
   "source": [
    "table_biogeo <- table_biogeo[gsub(\" \", \"_\", table_biogeo$Species) %in% phy$tip.label, ]\n",
    "table_biogeo$Species <- gsub(\" \", \"_\", table_biogeo$Species)\n",
    "table_DEC_biogeo <- rbind(c(length(phy$tip.label), 7), cbind(table_biogeo$Species, as.matrix((apply(X = table_biogeo[,c(4:10)], MARGIN = 1, FUN = paste, collapse = \"\")))))\n",
    "\n",
    "write.table(table_DEC_biogeo, \"7_area_biogeography_Orecto.txt\", sep =\"\\t\", row.names = FALSE, col.names = FALSE, quote = FALSE)"
   ]
  },
  {
   "cell_type": "markdown",
   "metadata": {},
   "source": [
    "## Creating function to clean and save data"
   ]
  },
  {
   "cell_type": "code",
   "execution_count": 6,
   "metadata": {},
   "outputs": [],
   "source": [
    "make_table_BioGeoBEARS <- function(time_periods_table, prefix){\n",
    "    temp_length <- (ncol(time_periods_table) - 2)\n",
    "    table_adjacency <- c()\n",
    "    table_dispersal <- c()\n",
    "    temp_mat_adj <- matrix(0, temp_length, temp_length)\n",
    "    for(i in 1:nrow(time_periods_table)){\n",
    "        temp_mat_adj <- matrix(0, temp_length, temp_length)\n",
    "        temp_period_table <- time_periods_table[i, c(3:ncol(time_periods_table))]\n",
    "        from <- c()\n",
    "        to <- c()\n",
    "        \n",
    "        for(j in 1:temp_length){\n",
    "            if(temp_period_table[j] != \"0\"){\n",
    "                temp_mat_adj[j,eval(parse(text = temp_period_table[j]))] <- 1\n",
    "                from <- c(from, rep(j,length(eval(parse(text = temp_period_table[j])))))\n",
    "                to <- c(to, eval(parse(text = temp_period_table[j])))\n",
    "            }\n",
    "        }\n",
    "        \n",
    "        nodes <- tibble(id = 1:temp_length)\n",
    "        edges <- tibble(from = from, to = to)\n",
    "        \n",
    "        temp_data_from <- edges[edges[,1] != edges[,2],]\n",
    "\n",
    "        temp_data_to_1 <- edges[edges[,1] != edges[,2],]\n",
    "\n",
    "        temp_data_to_2 <- edges[edges[,1] != edges[,2],]\n",
    "\n",
    "        colnames(temp_data_to_1) <- c(\"to\", \"to_2\")\n",
    "\n",
    "        colnames(temp_data_to_2) <- c(\"to_2\", \"to_3\")\n",
    "\n",
    "        temp_data_03 <- merge(temp_data_from, temp_data_to_1, by = \"to\")\n",
    "        temp_data_03 <- temp_data_03[temp_data_03[,2] != temp_data_03[,3],]\n",
    "\n",
    "        temp_data_04 <- merge(temp_data_03, temp_data_to_1, by = \"to_2\")\n",
    "        temp_data_04 <- temp_data_04[temp_data_04[,3] != temp_data_04[,4],]\n",
    "\n",
    "        temp_mat_dispersal <- matrix(0.001, 7, 7)\n",
    "        \n",
    "        temp_data_direct <- as.matrix(edges)\n",
    "        \n",
    "        for(k in 1:nrow(temp_data_direct)){\n",
    "            if(temp_data_direct[k,1] == temp_data_direct[k,2]){\n",
    "                temp_mat_dispersal[temp_data_direct[k,1], temp_data_direct[k,2]] <- 1 \n",
    "            }\n",
    "            if(temp_data_direct[k,1] != temp_data_direct[k,2]){\n",
    "                temp_mat_dispersal[temp_data_direct[k,1], temp_data_direct[k,2]] <- 0.5\n",
    "            }\n",
    "        \n",
    "        }\n",
    "\n",
    "        for(k in 1:nrow(temp_data_03)){\n",
    "            if(temp_mat_dispersal[temp_data_03[k,2], temp_data_03[k,3]] == 0.0000001){\n",
    "                temp_mat_dispersal[temp_data_03[k,2], temp_data_03[k,3]] <- 0.25\n",
    "            }\n",
    "        }\n",
    "\n",
    "        for(k in 1:nrow(temp_data_04)){\n",
    "            if(temp_mat_dispersal[temp_data_04[k,3], temp_data_04[k,4]] == 0.0000001){\n",
    "                temp_mat_dispersal[temp_data_04[k,3], temp_data_04[k,4]] <- 0.125\n",
    "            }\n",
    "        }\n",
    "        \n",
    "        table_adjacency <- rbind(table_adjacency, LETTERS[1:7], temp_mat_adj, matrix(data=\" \", ncol=7, nrow=1))\n",
    "        \n",
    "        table_dispersal <- rbind(table_dispersal, LETTERS[1:7], temp_mat_dispersal, matrix(data=\" \", ncol=7, nrow=1))\n",
    "    }\n",
    "    table_adjacency <- rbind(table_adjacency, cbind(\"END\", matrix(data = \" \", ncol=6, nrow=1)))\n",
    "    table_dispersal <- rbind(table_dispersal, cbind(\"END\", matrix(data = \" \", ncol=6, nrow=1)))\n",
    "    write.table(time_periods_table[,2], paste(prefix, \"_time_period.txt\", sep = \"\"), sep =\"\\t\", row.names = FALSE, col.names = FALSE, quote = FALSE)\n",
    "    write.table(table_adjacency, paste(prefix, \"_area_matrix.txt\", sep = \"\"), sep =\"\\t\", row.names = FALSE, col.names = FALSE, quote = FALSE)\n",
    "    write.table(table_dispersal, paste(prefix, \"_dispersal_matrix.txt\", sep = \"\"), sep =\"\\t\", row.names = FALSE, col.names = FALSE, quote = FALSE)\n",
    "}"
   ]
  },
  {
   "cell_type": "markdown",
   "metadata": {},
   "source": [
    "## Execute function"
   ]
  },
  {
   "cell_type": "code",
   "execution_count": 7,
   "metadata": {
    "scrolled": true
   },
   "outputs": [
    {
     "name": "stderr",
     "output_type": "stream",
     "text": [
      "\u001b[1m\u001b[22mSaving 6.67 x 6.67 in image\n",
      "\u001b[1m\u001b[22mSaving 6.67 x 6.67 in image\n",
      "\u001b[1m\u001b[22mSaving 6.67 x 6.67 in image\n",
      "\u001b[1m\u001b[22mSaving 6.67 x 6.67 in image\n",
      "\u001b[1m\u001b[22mSaving 6.67 x 6.67 in image\n",
      "\u001b[1m\u001b[22mSaving 6.67 x 6.67 in image\n",
      "\u001b[1m\u001b[22mSaving 6.67 x 6.67 in image\n"
     ]
    }
   ],
   "source": [
    "data <- make_table_BioGeoBEARS(table, \"7_area\")"
   ]
  },
  {
   "cell_type": "markdown",
   "metadata": {},
   "source": [
    "## RevBayes"
   ]
  },
  {
   "cell_type": "code",
   "execution_count": 8,
   "metadata": {},
   "outputs": [],
   "source": [
    "tab<-read.table(\"DEC_BGB/7_area_biogeography_Orecto.txt\", header = TRUE, colClasses=c('character','character'))"
   ]
  },
  {
   "cell_type": "markdown",
   "metadata": {},
   "source": [
    "### Cleaning data"
   ]
  },
  {
   "cell_type": "code",
   "execution_count": 9,
   "metadata": {},
   "outputs": [],
   "source": [
    "tab_vec<-tab[,2]\n",
    "names(tab_vec)<-tab[,1]"
   ]
  },
  {
   "cell_type": "markdown",
   "metadata": {},
   "source": [
    "### Saving data"
   ]
  },
  {
   "cell_type": "code",
   "execution_count": 10,
   "metadata": {},
   "outputs": [],
   "source": [
    "write.nexus.data(tab_vec, \"DEC_RevBayes/Orectolobiformes_range.nex\", format = \"standard\", datablock = TRUE,\n",
    "                 interleaved = TRUE, charsperline = NULL,\n",
    "                 gap = NULL, missing = NULL)"
   ]
  }
 ],
 "metadata": {
  "kernelspec": {
   "display_name": "R",
   "language": "R",
   "name": "ir"
  },
  "language_info": {
   "codemirror_mode": "r",
   "file_extension": ".r",
   "mimetype": "text/x-r-source",
   "name": "R",
   "pygments_lexer": "r",
   "version": "4.3.3"
  }
 },
 "nbformat": 4,
 "nbformat_minor": 4
}
