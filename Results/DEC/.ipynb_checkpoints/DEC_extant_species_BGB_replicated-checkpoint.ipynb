{
 "cells": [
  {
   "cell_type": "markdown",
   "metadata": {},
   "source": [
    "# DEC (BGB) extant species replicated"
   ]
  },
  {
   "cell_type": "markdown",
   "metadata": {},
   "source": [
    "## Loading data"
   ]
  },
  {
   "cell_type": "code",
   "execution_count": 3,
   "metadata": {
    "scrolled": false
   },
   "outputs": [],
   "source": [
    "library(\"ape\")\n",
    "library(\"optimx\")\n",
    "library(\"GenSA\")\n",
    "library(\"rexpokit\")\n",
    "library(\"cladoRcpp\")\n",
    "library(\"snow\") \n",
    "library(\"parallel\")\n",
    "library(\"BioGeoBEARS\")"
   ]
  },
  {
   "cell_type": "markdown",
   "metadata": {},
   "source": [
    "## Loading arguments"
   ]
  },
  {
   "cell_type": "code",
   "execution_count": 1,
   "metadata": {},
   "outputs": [],
   "source": [
    "args<-commandArgs(trailingOnly = TRUE)"
   ]
  },
  {
   "cell_type": "markdown",
   "metadata": {},
   "source": [
    "### Loading Tree"
   ]
  },
  {
   "cell_type": "code",
   "execution_count": 21,
   "metadata": {},
   "outputs": [],
   "source": [
    "phy = paste(\"../Data_orectolobiformes/BGB/tree_orecto_\", args[1], \".tree\", sep =\"\")"
   ]
  },
  {
   "cell_type": "markdown",
   "metadata": {},
   "source": [
    "### Loading presence-absence matrix"
   ]
  },
  {
   "cell_type": "code",
   "execution_count": 5,
   "metadata": {},
   "outputs": [],
   "source": [
    "table_geo = \"DEC_BGB/7_area_biogeography_Orecto.txt\""
   ]
  },
  {
   "cell_type": "markdown",
   "metadata": {},
   "source": [
    "### Loading time period file"
   ]
  },
  {
   "cell_type": "code",
   "execution_count": 6,
   "metadata": {},
   "outputs": [],
   "source": [
    "time_period = \"DEC_BGB/7_area_time_period.txt\""
   ]
  },
  {
   "cell_type": "markdown",
   "metadata": {},
   "source": [
    "### Loading connectivity matrix"
   ]
  },
  {
   "cell_type": "code",
   "execution_count": 7,
   "metadata": {},
   "outputs": [],
   "source": [
    "connectivity_matrix = \"DEC_BGB/7_area_area_matrix.txt\""
   ]
  },
  {
   "cell_type": "markdown",
   "metadata": {},
   "source": [
    "### Loading dispersal matrix"
   ]
  },
  {
   "cell_type": "code",
   "execution_count": 8,
   "metadata": {},
   "outputs": [],
   "source": [
    "dispersal_matrix = \"DEC_BGB/7_area_dispersal_matrix.txt\""
   ]
  },
  {
   "cell_type": "markdown",
   "metadata": {},
   "source": [
    "## Setting up DEC"
   ]
  },
  {
   "cell_type": "markdown",
   "metadata": {},
   "source": [
    "### Intitialize DEC model"
   ]
  },
  {
   "cell_type": "code",
   "execution_count": 9,
   "metadata": {},
   "outputs": [],
   "source": [
    "DEC_orectolobiformes = define_BioGeoBEARS_run()"
   ]
  },
  {
   "cell_type": "markdown",
   "metadata": {},
   "source": [
    "### Setting up DEC input data"
   ]
  },
  {
   "cell_type": "markdown",
   "metadata": {},
   "source": [
    "#### Phylogeny"
   ]
  },
  {
   "cell_type": "code",
   "execution_count": 10,
   "metadata": {},
   "outputs": [],
   "source": [
    "DEC_orectolobiformes$trfn = phy"
   ]
  },
  {
   "cell_type": "markdown",
   "metadata": {},
   "source": [
    "#### Presence-absence matrix"
   ]
  },
  {
   "cell_type": "code",
   "execution_count": 11,
   "metadata": {},
   "outputs": [],
   "source": [
    "DEC_orectolobiformes$geogfn = table_geo"
   ]
  },
  {
   "cell_type": "markdown",
   "metadata": {},
   "source": [
    "#### Tip range"
   ]
  },
  {
   "cell_type": "code",
   "execution_count": 12,
   "metadata": {},
   "outputs": [],
   "source": [
    "tipranges = getranges_from_LagrangePHYLIP(lgdata_fn=table_geo)"
   ]
  },
  {
   "cell_type": "markdown",
   "metadata": {},
   "source": [
    "#### Maximum range size"
   ]
  },
  {
   "cell_type": "code",
   "execution_count": 13,
   "metadata": {},
   "outputs": [],
   "source": [
    "max_range_size = 6\n",
    "DEC_orectolobiformes$max_range_size = max_range_size"
   ]
  },
  {
   "cell_type": "markdown",
   "metadata": {},
   "source": [
    "#### State list"
   ]
  },
  {
   "cell_type": "code",
   "execution_count": 14,
   "metadata": {},
   "outputs": [],
   "source": [
    "areas = getareas_from_tipranges_object(tipranges)\n",
    "states_area_list = rcpp_areas_list_to_states_list(areas=areas, maxareas=max_range_size, include_null_range=TRUE)\n",
    "DEC_orectolobiformes$states_list = states_area_list"
   ]
  },
  {
   "cell_type": "markdown",
   "metadata": {},
   "source": [
    "#### Time periods"
   ]
  },
  {
   "cell_type": "code",
   "execution_count": 15,
   "metadata": {},
   "outputs": [],
   "source": [
    "DEC_orectolobiformes$timesfn = time_period"
   ]
  },
  {
   "cell_type": "code",
   "execution_count": 16,
   "metadata": {},
   "outputs": [],
   "source": [
    "DEC_orectolobiformes$timeperiods = unlist((unname(c(read.table(time_period)))))"
   ]
  },
  {
   "cell_type": "markdown",
   "metadata": {},
   "source": [
    "#### Dispersal matrix"
   ]
  },
  {
   "cell_type": "code",
   "execution_count": 17,
   "metadata": {},
   "outputs": [],
   "source": [
    "DEC_orectolobiformes$dispersal_multipliers_fn = dispersal_matrix"
   ]
  },
  {
   "cell_type": "markdown",
   "metadata": {},
   "source": [
    "#### Optimization parameters"
   ]
  },
  {
   "cell_type": "code",
   "execution_count": 18,
   "metadata": {},
   "outputs": [],
   "source": [
    "DEC_orectolobiformes$force_sparse = FALSE\n",
    "DEC_orectolobiformes$on_NaN_error = -1e50\n",
    "DEC_orectolobiformes$speedup = FALSE        \n",
    "DEC_orectolobiformes$use_optimx = TRUE    \n",
    "DEC_orectolobiformes$num_cores_to_use = 24"
   ]
  },
  {
   "cell_type": "markdown",
   "metadata": {},
   "source": [
    "#### Dividing the tree per time periods"
   ]
  },
  {
   "cell_type": "code",
   "execution_count": 19,
   "metadata": {},
   "outputs": [],
   "source": [
    "DEC_orectolobiformes$return_condlikes_table = TRUE\n",
    "DEC_orectolobiformes$calc_TTL_loglike_from_condlikes_table = TRUE\n",
    "DEC_orectolobiformes$calc_ancprobs = TRUE"
   ]
  },
  {
   "cell_type": "code",
   "execution_count": 20,
   "metadata": {},
   "outputs": [
    {
     "name": "stdout",
     "output_type": "stream",
     "text": [
      "Error in scan(file = file, what = \"\", sep = \"\\n\", quiet = TRUE, skip = skip,  : \n",
      "  'file' doit être une chîne de caractères ou une connection\n"
     ]
    },
    {
     "ename": "ERROR",
     "evalue": "Error in check_trfn(trfn = inputs$trfn): objet 'inputs' introuvable\n",
     "output_type": "error",
     "traceback": [
      "Error in check_trfn(trfn = inputs$trfn): objet 'inputs' introuvable\nTraceback:\n",
      "1. section_the_tree(inputs = DEC_orectolobiformes, make_master_table = TRUE, \n .     plot_pieces = FALSE, fossils_older_than = 0.001, cut_fossils = FALSE)",
      "2. check_trfn(trfn = inputs$trfn)",
      "3. paste0(\"STOP ERROR in check_BioGeoBEARS_run() or check_trfn(): There was an error in reading the tree file. You specified the trfn (TRee FileName) as '\", \n .     inputs$trfn, \"'.  Options to try:\\n\\n1. Read the error message to see if you can figure out what went wrong.\\n\\n.2. Try typing, in the R window, 'read.tree(trfn)', and see if this works.\\n\\n\")"
     ]
    }
   ],
   "source": [
    "section_the_tree(inputs=DEC_orectolobiformes, make_master_table=TRUE, plot_pieces=FALSE, fossils_older_than=0.001, cut_fossils=FALSE)"
   ]
  },
  {
   "cell_type": "code",
   "execution_count": 19,
   "metadata": {
    "scrolled": true
   },
   "outputs": [
    {
     "name": "stdout",
     "output_type": "stream",
     "text": [
      "\n",
      "1- top: 0, bot: 3.1, rel_bot: 3.1\n",
      "\n",
      "2- top: 3.1, bot: 15.97, rel_bot: 12.87\n",
      "\n",
      "3- top: 15.97, bot: 33.9, rel_bot: 17.93\n",
      "\n",
      "4- top: 33.9, bot: 56, rel_bot: 22.1\n",
      "\n",
      "5- top: 56, bot: 100.5, rel_bot: 44.5\n",
      "\n",
      "6- top: 100.5, bot: 174.1, rel_bot: 73.6\n",
      "\n",
      "7- top: 174.1, bot: 264.28, rel_bot: 90.18\n"
     ]
    }
   ],
   "source": [
    "DEC_orectolobiformes = section_the_tree(inputs=DEC_orectolobiformes, make_master_table=TRUE, plot_pieces=FALSE, fossils_older_than=0.001, cut_fossils=FALSE)"
   ]
  },
  {
   "cell_type": "markdown",
   "metadata": {},
   "source": [
    "#### Ancestral state estimation"
   ]
  },
  {
   "cell_type": "markdown",
   "metadata": {},
   "source": [
    "#### Finalize settings"
   ]
  },
  {
   "cell_type": "code",
   "execution_count": 20,
   "metadata": {},
   "outputs": [],
   "source": [
    "DEC_orectolobiformes = readfiles_BioGeoBEARS_run(DEC_orectolobiformes)"
   ]
  },
  {
   "cell_type": "markdown",
   "metadata": {},
   "source": [
    "### Check inputs"
   ]
  },
  {
   "cell_type": "code",
   "execution_count": 21,
   "metadata": {},
   "outputs": [
    {
     "data": {
      "text/html": [
       "TRUE"
      ],
      "text/latex": [
       "TRUE"
      ],
      "text/markdown": [
       "TRUE"
      ],
      "text/plain": [
       "[1] TRUE"
      ]
     },
     "metadata": {},
     "output_type": "display_data"
    }
   ],
   "source": [
    "check_BioGeoBEARS_run(DEC_orectolobiformes)"
   ]
  },
  {
   "cell_type": "markdown",
   "metadata": {},
   "source": [
    "## Running the DEC analysis"
   ]
  },
  {
   "cell_type": "code",
   "execution_count": 22,
   "metadata": {},
   "outputs": [
    {
     "name": "stdout",
     "output_type": "stream",
     "text": [
      "[1] \"Note: tipranges_to_tip_condlikes_of_data_on_each_state() is converting a states_list with (0-based) numbers to the equivalent areanames\"\n",
      "\n",
      "Your computer has 48 cores.\n",
      "\n",
      "Your computer has 48 cores. You have chosen to use:\n",
      "num_cores_to_use = 24 cores for the matrix exponentiations in the likelihood calculations.\n",
      "Started cluster with 24 cores.\n",
      "\n",
      "\n",
      "\n",
      "NOTE: Before running optimx(), here is a test calculation of the data likelihood\n",
      "using calc_loglike_for_optim_stratified() on initial parameter values, with printlevel=2...\n",
      "if this crashes, the error messages are more helpful\n",
      "than those from inside optimx().\n",
      "\n",
      "     d    e a b x n w u j ysv ys y s v mx01 mx01j mx01y mx01s mx01v mx01r  mf\n",
      "1 0.01 0.01 0 1 0 0 1 0 0   3  2 1 1 1    0     0     0     0     0   0.5 0.1\n",
      "  dp fdp     LnL\n",
      "1  1   0 -84.292\n",
      "\n",
      "calc_loglike_for_optim_stratified() on initial parameters loglike=-84.29178\n",
      "\n",
      "\n",
      "\n",
      "Calculation of likelihood on initial parameters: successful.\n",
      "\n",
      "Now starting Maximum Likelihood (ML) parameter optimization with optimx()...\n",
      "\n",
      "\n",
      "\n",
      "Printing any warnings() that occurred during calc_loglike_for_optim_stratified():\n",
      "\n",
      "NULL\n",
      "\n",
      "\n",
      "Results of optimx_scalecheck() below. Note: sometimes rescaling parameters may be helpful for ML searches, when the parameters have much different absolute sizes. This can be attempted by setting BioGeoBEARS_run_object$rescale_params = TRUE.\n",
      "\n",
      "$lpratio\n",
      "[1] 0\n",
      "\n",
      "$lbratio\n",
      "[1] 0\n",
      "\n",
      "Maximizing -- use negfn and neggr\n",
      "     d    e a b x n w u j ysv ys y s v mx01 mx01j mx01y mx01s mx01v mx01r  mf\n",
      "1 0.01 0.01 0 1 0 0 1 0 0   3  2 1 1 1    0     0     0     0     0   0.5 0.1\n",
      "  dp fdp     LnL\n",
      "1  1   0 -84.292\n",
      "     d    e a b x n w u j ysv ys y s v mx01 mx01j mx01y mx01s mx01v mx01r  mf\n",
      "1 0.01 0.01 0 1 0 0 1 0 0   3  2 1 1 1    0     0     0     0     0   0.5 0.1\n",
      "  dp fdp     LnL\n",
      "1  1   0 -84.292\n",
      "     d    e a b x n w u j ysv ys y s v mx01 mx01j mx01y mx01s mx01v mx01r  mf\n",
      "1 0.01 0.01 0 1 0 0 1 0 0   3  2 1 1 1    0     0     0     0     0   0.5 0.1\n",
      "  dp fdp     LnL\n",
      "1  1   0 -84.292\n",
      "      d    e a b x n w u j ysv ys y s v mx01 mx01j mx01y mx01s mx01v mx01r  mf\n",
      "1 0.012 0.01 0 1 0 0 1 0 0   3  2 1 1 1    0     0     0     0     0   0.5 0.1\n",
      "  dp fdp     LnL\n",
      "1  1   0 -81.887\n",
      "     d     e a b x n w u j ysv ys y s v mx01 mx01j mx01y mx01s mx01v mx01r  mf\n",
      "1 0.01 0.012 0 1 0 0 1 0 0   3  2 1 1 1    0     0     0     0     0   0.5 0.1\n",
      "  dp fdp     LnL\n",
      "1  1   0 -88.088\n",
      "      d    e a b x n w u j ysv ys y s v mx01 mx01j mx01y mx01s mx01v mx01r  mf\n",
      "1 0.008 0.01 0 1 0 0 1 0 0   3  2 1 1 1    0     0     0     0     0   0.5 0.1\n",
      "  dp fdp     LnL\n",
      "1  1   0 -87.542\n",
      "      d     e a b x n w u j ysv ys y s v mx01 mx01j mx01y mx01s mx01v mx01r  mf\n",
      "1 0.013 0.008 0 1 0 0 1 0 0   3  2 1 1 1    0     0     0     0     0   0.5 0.1\n",
      "  dp fdp     LnL\n",
      "1  1   0 -78.025\n",
      "      d     e a b x n w u j ysv ys y s v mx01 mx01j mx01y mx01s mx01v mx01r  mf\n",
      "1 0.014 0.004 0 1 0 0 1 0 0   3  2 1 1 1    0     0     0     0     0   0.5 0.1\n",
      "  dp fdp     LnL\n",
      "1  1   0 -71.757\n",
      "      d e a b x n w u j ysv ys y s v mx01 mx01j mx01y mx01s mx01v mx01r  mf dp\n",
      "1 0.015 0 0 1 0 0 1 0 0   3  2 1 1 1    0     0     0     0     0   0.5 0.1  1\n",
      "  fdp     LnL\n",
      "1   0 -69.177\n",
      "      d e a b x n w u j ysv ys y s v mx01 mx01j mx01y mx01s mx01v mx01r  mf dp\n",
      "1 0.013 0 0 1 0 0 1 0 0   3  2 1 1 1    0     0     0     0     0   0.5 0.1  1\n",
      "  fdp     LnL\n",
      "1   0 -69.329\n",
      "      d e a b x n w u j ysv ys y s v mx01 mx01j mx01y mx01s mx01v mx01r  mf dp\n",
      "1 0.014 0 0 1 0 0 1 0 0   3  2 1 1 1    0     0     0     0     0   0.5 0.1  1\n",
      "  fdp     LnL\n",
      "1   0 -69.174\n",
      "      d e a b x n w u j ysv ys y s v mx01 mx01j mx01y mx01s mx01v mx01r  mf dp\n",
      "1 0.014 0 0 1 0 0 1 0 0   3  2 1 1 1    0     0     0     0     0   0.5 0.1  1\n",
      "  fdp     LnL\n",
      "1   0 -68.902\n",
      "      d     e a b x n w u j ysv ys y s v mx01 mx01j mx01y mx01s mx01v mx01r  mf\n",
      "1 0.014 0.001 0 1 0 0 1 0 0   3  2 1 1 1    0     0     0     0     0   0.5 0.1\n",
      "  dp fdp    LnL\n",
      "1  1   0 -68.89\n",
      "      d     e a b x n w u j ysv ys y s v mx01 mx01j mx01y mx01s mx01v mx01r  mf\n",
      "1 0.014 0.001 0 1 0 0 1 0 0   3  2 1 1 1    0     0     0     0     0   0.5 0.1\n",
      "  dp fdp     LnL\n",
      "1  1   0 -68.902\n",
      "      d     e a b x n w u j ysv ys y s v mx01 mx01j mx01y mx01s mx01v mx01r  mf\n",
      "1 0.014 0.001 0 1 0 0 1 0 0   3  2 1 1 1    0     0     0     0     0   0.5 0.1\n",
      "  dp fdp     LnL\n",
      "1  1   0 -68.865\n",
      "      d     e a b x n w u j ysv ys y s v mx01 mx01j mx01y mx01s mx01v mx01r  mf\n",
      "1 0.014 0.001 0 1 0 0 1 0 0   3  2 1 1 1    0     0     0     0     0   0.5 0.1\n",
      "  dp fdp     LnL\n",
      "1  1   0 -68.826\n",
      "      d     e a b x n w u j ysv ys y s v mx01 mx01j mx01y mx01s mx01v mx01r  mf\n",
      "1 0.015 0.001 0 1 0 0 1 0 0   3  2 1 1 1    0     0     0     0     0   0.5 0.1\n",
      "  dp fdp     LnL\n",
      "1  1   0 -68.772\n",
      "      d     e a b x n w u j ysv ys y s v mx01 mx01j mx01y mx01s mx01v mx01r  mf\n",
      "1 0.016 0.001 0 1 0 0 1 0 0   3  2 1 1 1    0     0     0     0     0   0.5 0.1\n",
      "  dp fdp     LnL\n",
      "1  1   0 -68.703\n",
      "      d     e a b x n w u j ysv ys y s v mx01 mx01j mx01y mx01s mx01v mx01r  mf\n",
      "1 0.016 0.001 0 1 0 0 1 0 0   3  2 1 1 1    0     0     0     0     0   0.5 0.1\n",
      "  dp fdp     LnL\n",
      "1  1   0 -68.673\n",
      "      d     e a b x n w u j ysv ys y s v mx01 mx01j mx01y mx01s mx01v mx01r  mf\n",
      "1 0.016 0.001 0 1 0 0 1 0 0   3  2 1 1 1    0     0     0     0     0   0.5 0.1\n",
      "  dp fdp     LnL\n",
      "1  1   0 -68.672\n",
      "      d     e a b x n w u j ysv ys y s v mx01 mx01j mx01y mx01s mx01v mx01r  mf\n",
      "1 0.016 0.001 0 1 0 0 1 0 0   3  2 1 1 1    0     0     0     0     0   0.5 0.1\n",
      "  dp fdp     LnL\n",
      "1  1   0 -68.672\n",
      "      d     e a b x n w u j ysv ys y s v mx01 mx01j mx01y mx01s mx01v mx01r  mf\n",
      "1 0.016 0.001 0 1 0 0 1 0 0   3  2 1 1 1    0     0     0     0     0   0.5 0.1\n",
      "  dp fdp    LnL\n",
      "1  1   0 -68.67\n",
      "      d     e a b x n w u j ysv ys y s v mx01 mx01j mx01y mx01s mx01v mx01r  mf\n",
      "1 0.017 0.001 0 1 0 0 1 0 0   3  2 1 1 1    0     0     0     0     0   0.5 0.1\n",
      "  dp fdp    LnL\n",
      "1  1   0 -68.67\n",
      "      d     e a b x n w u j ysv ys y s v mx01 mx01j mx01y mx01s mx01v mx01r  mf\n",
      "1 0.017 0.001 0 1 0 0 1 0 0   3  2 1 1 1    0     0     0     0     0   0.5 0.1\n",
      "  dp fdp     LnL\n",
      "1  1   0 -68.669\n",
      "      d     e a b x n w u j ysv ys y s v mx01 mx01j mx01y mx01s mx01v mx01r  mf\n",
      "1 0.017 0.001 0 1 0 0 1 0 0   3  2 1 1 1    0     0     0     0     0   0.5 0.1\n",
      "  dp fdp     LnL\n",
      "1  1   0 -68.669\n",
      "      d     e a b x n w u j ysv ys y s v mx01 mx01j mx01y mx01s mx01v mx01r  mf\n",
      "1 0.017 0.001 0 1 0 0 1 0 0   3  2 1 1 1    0     0     0     0     0   0.5 0.1\n",
      "  dp fdp     LnL\n",
      "1  1   0 -68.669\n",
      "      d     e a b x n w u j ysv ys y s v mx01 mx01j mx01y mx01s mx01v mx01r  mf\n",
      "1 0.017 0.001 0 1 0 0 1 0 0   3  2 1 1 1    0     0     0     0     0   0.5 0.1\n",
      "  dp fdp     LnL\n",
      "1  1   0 -68.669\n",
      "      d     e a b x n w u j ysv ys y s v mx01 mx01j mx01y mx01s mx01v mx01r  mf\n",
      "1 0.017 0.001 0 1 0 0 1 0 0   3  2 1 1 1    0     0     0     0     0   0.5 0.1\n",
      "  dp fdp     LnL\n",
      "1  1   0 -68.669\n",
      "      d     e a b x n w u j ysv ys y s v mx01 mx01j mx01y mx01s mx01v mx01r  mf\n",
      "1 0.017 0.001 0 1 0 0 1 0 0   3  2 1 1 1    0     0     0     0     0   0.5 0.1\n",
      "  dp fdp     LnL\n",
      "1  1   0 -68.669\n",
      "      d     e a b x n w u j ysv ys y s v mx01 mx01j mx01y mx01s mx01v mx01r  mf\n",
      "1 0.017 0.001 0 1 0 0 1 0 0   3  2 1 1 1    0     0     0     0     0   0.5 0.1\n",
      "  dp fdp     LnL\n",
      "1  1   0 -68.669\n",
      "      d     e a b x n w u j ysv ys y s v mx01 mx01j mx01y mx01s mx01v mx01r  mf\n",
      "1 0.017 0.001 0 1 0 0 1 0 0   3  2 1 1 1    0     0     0     0     0   0.5 0.1\n",
      "  dp fdp     LnL\n",
      "1  1   0 -68.669\n",
      "      d     e a b x n w u j ysv ys y s v mx01 mx01j mx01y mx01s mx01v mx01r  mf\n",
      "1 0.017 0.001 0 1 0 0 1 0 0   3  2 1 1 1    0     0     0     0     0   0.5 0.1\n",
      "  dp fdp     LnL\n",
      "1  1   0 -68.669\n",
      "      d     e a b x n w u j ysv ys y s v mx01 mx01j mx01y mx01s mx01v mx01r  mf\n",
      "1 0.017 0.001 0 1 0 0 1 0 0   3  2 1 1 1    0     0     0     0     0   0.5 0.1\n",
      "  dp fdp     LnL\n",
      "1  1   0 -68.669\n",
      "      d     e a b x n w u j ysv ys y s v mx01 mx01j mx01y mx01s mx01v mx01r  mf\n",
      "1 0.017 0.001 0 1 0 0 1 0 0   3  2 1 1 1    0     0     0     0     0   0.5 0.1\n",
      "  dp fdp     LnL\n",
      "1  1   0 -68.669\n",
      "      d     e a b x n w u j ysv ys y s v mx01 mx01j mx01y mx01s mx01v mx01r  mf\n",
      "1 0.017 0.001 0 1 0 0 1 0 0   3  2 1 1 1    0     0     0     0     0   0.5 0.1\n",
      "  dp fdp     LnL\n",
      "1  1   0 -68.669\n",
      "      d     e a b x n w u j ysv ys y s v mx01 mx01j mx01y mx01s mx01v mx01r  mf\n",
      "1 0.017 0.001 0 1 0 0 1 0 0   3  2 1 1 1    0     0     0     0     0   0.5 0.1\n",
      "  dp fdp     LnL\n",
      "1  1   0 -68.669\n",
      "      d     e a b x n w u j ysv ys y s v mx01 mx01j mx01y mx01s mx01v mx01r  mf\n",
      "1 0.017 0.001 0 1 0 0 1 0 0   3  2 1 1 1    0     0     0     0     0   0.5 0.1\n",
      "  dp fdp     LnL\n",
      "1  1   0 -68.669\n",
      "      d     e a b x n w u j ysv ys y s v mx01 mx01j mx01y mx01s mx01v mx01r  mf\n",
      "1 0.017 0.001 0 1 0 0 1 0 0   3  2 1 1 1    0     0     0     0     0   0.5 0.1\n",
      "  dp fdp     LnL\n",
      "1  1   0 -68.669\n",
      "      d     e a b x n w u j ysv ys y s v mx01 mx01j mx01y mx01s mx01v mx01r  mf\n",
      "1 0.017 0.001 0 1 0 0 1 0 0   3  2 1 1 1    0     0     0     0     0   0.5 0.1\n",
      "  dp fdp     LnL\n",
      "1  1   0 -68.669\n",
      "      d     e a b x n w u j ysv ys y s v mx01 mx01j mx01y mx01s mx01v mx01r  mf\n",
      "1 0.017 0.001 0 1 0 0 1 0 0   3  2 1 1 1    0     0     0     0     0   0.5 0.1\n",
      "  dp fdp     LnL\n",
      "1  1   0 -68.669\n",
      "      d     e a b x n w u j ysv ys y s v mx01 mx01j mx01y mx01s mx01v mx01r  mf\n",
      "1 0.017 0.001 0 1 0 0 1 0 0   3  2 1 1 1    0     0     0     0     0   0.5 0.1\n",
      "  dp fdp     LnL\n",
      "1  1   0 -68.669\n",
      "      d     e a b x n w u j ysv ys y s v mx01 mx01j mx01y mx01s mx01v mx01r  mf\n",
      "1 0.017 0.001 0 1 0 0 1 0 0   3  2 1 1 1    0     0     0     0     0   0.5 0.1\n",
      "  dp fdp     LnL\n",
      "1  1   0 -68.669\n",
      "      d     e a b x n w u j ysv ys y s v mx01 mx01j mx01y mx01s mx01v mx01r  mf\n",
      "1 0.017 0.001 0 1 0 0 1 0 0   3  2 1 1 1    0     0     0     0     0   0.5 0.1\n",
      "  dp fdp     LnL\n",
      "1  1   0 -68.669\n",
      "      d     e a b x n w u j ysv ys y s v mx01 mx01j mx01y mx01s mx01v mx01r  mf\n",
      "1 0.017 0.001 0 1 0 0 1 0 0   3  2 1 1 1    0     0     0     0     0   0.5 0.1\n",
      "  dp fdp     LnL\n",
      "1  1   0 -68.669\n",
      "      d     e a b x n w u j ysv ys y s v mx01 mx01j mx01y mx01s mx01v mx01r  mf\n",
      "1 0.017 0.001 0 1 0 0 1 0 0   3  2 1 1 1    0     0     0     0     0   0.5 0.1\n",
      "  dp fdp     LnL\n",
      "1  1   0 -68.669\n",
      "      d     e a b x n w u j ysv ys y s v mx01 mx01j mx01y mx01s mx01v mx01r  mf\n",
      "1 0.017 0.001 0 1 0 0 1 0 0   3  2 1 1 1    0     0     0     0     0   0.5 0.1\n",
      "  dp fdp     LnL\n",
      "1  1   0 -68.669\n",
      "      d     e a b x n w u j ysv ys y s v mx01 mx01j mx01y mx01s mx01v mx01r  mf\n",
      "1 0.018 0.001 0 1 0 0 1 0 0   3  2 1 1 1    0     0     0     0     0   0.5 0.1\n",
      "  dp fdp     LnL\n",
      "1  1   0 -68.753\n",
      "      d     e a b x n w u j ysv ys y s v mx01 mx01j mx01y mx01s mx01v mx01r  mf\n",
      "1 0.015 0.001 0 1 0 0 1 0 0   3  2 1 1 1    0     0     0     0     0   0.5 0.1\n",
      "  dp fdp     LnL\n",
      "1  1   0 -68.766\n",
      "      d     e a b x n w u j ysv ys y s v mx01 mx01j mx01y mx01s mx01v mx01r  mf\n",
      "1 0.017 0.001 0 1 0 0 1 0 0   3  2 1 1 1    0     0     0     0     0   0.5 0.1\n",
      "  dp fdp     LnL\n",
      "1  1   0 -68.691\n",
      "      d     e a b x n w u j ysv ys y s v mx01 mx01j mx01y mx01s mx01v mx01r  mf\n",
      "1 0.016 0.001 0 1 0 0 1 0 0   3  2 1 1 1    0     0     0     0     0   0.5 0.1\n",
      "  dp fdp     LnL\n",
      "1  1   0 -68.693\n",
      "      d     e a b x n w u j ysv ys y s v mx01 mx01j mx01y mx01s mx01v mx01r  mf\n",
      "1 0.017 0.001 0 1 0 0 1 0 0   3  2 1 1 1    0     0     0     0     0   0.5 0.1\n",
      "  dp fdp     LnL\n",
      "1  1   0 -68.675\n",
      "      d     e a b x n w u j ysv ys y s v mx01 mx01j mx01y mx01s mx01v mx01r  mf\n",
      "1 0.016 0.001 0 1 0 0 1 0 0   3  2 1 1 1    0     0     0     0     0   0.5 0.1\n",
      "  dp fdp     LnL\n",
      "1  1   0 -68.675\n",
      "      d     e a b x n w u j ysv ys y s v mx01 mx01j mx01y mx01s mx01v mx01r  mf\n",
      "1 0.017 0.001 0 1 0 0 1 0 0   3  2 1 1 1    0     0     0     0     0   0.5 0.1\n",
      "  dp fdp     LnL\n",
      "1  1   0 -68.671\n",
      "      d     e a b x n w u j ysv ys y s v mx01 mx01j mx01y mx01s mx01v mx01r  mf\n",
      "1 0.016 0.001 0 1 0 0 1 0 0   3  2 1 1 1    0     0     0     0     0   0.5 0.1\n",
      "  dp fdp     LnL\n",
      "1  1   0 -68.671\n",
      "      d     e a b x n w u j ysv ys y s v mx01 mx01j mx01y mx01s mx01v mx01r  mf\n",
      "1 0.017 0.001 0 1 0 0 1 0 0   3  2 1 1 1    0     0     0     0     0   0.5 0.1\n",
      "  dp fdp     LnL\n",
      "1  1   0 -68.673\n",
      "      d     e a b x n w u j ysv ys y s v mx01 mx01j mx01y mx01s mx01v mx01r  mf\n",
      "1 0.017 0.001 0 1 0 0 1 0 0   3  2 1 1 1    0     0     0     0     0   0.5 0.1\n",
      "  dp fdp     LnL\n",
      "1  1   0 -68.673\n",
      "      d     e a b x n w u j ysv ys y s v mx01 mx01j mx01y mx01s mx01v mx01r  mf\n",
      "1 0.017 0.001 0 1 0 0 1 0 0   3  2 1 1 1    0     0     0     0     0   0.5 0.1\n",
      "  dp fdp    LnL\n",
      "1  1   0 -68.67\n",
      "      d     e a b x n w u j ysv ys y s v mx01 mx01j mx01y mx01s mx01v mx01r  mf\n",
      "1 0.017 0.001 0 1 0 0 1 0 0   3  2 1 1 1    0     0     0     0     0   0.5 0.1\n",
      "  dp fdp    LnL\n",
      "1  1   0 -68.67\n",
      "      d     e a b x n w u j ysv ys y s v mx01 mx01j mx01y mx01s mx01v mx01r  mf\n",
      "1 0.017 0.001 0 1 0 0 1 0 0   3  2 1 1 1    0     0     0     0     0   0.5 0.1\n",
      "  dp fdp     LnL\n",
      "1  1   0 -68.669\n",
      "      d     e a b x n w u j ysv ys y s v mx01 mx01j mx01y mx01s mx01v mx01r  mf\n",
      "1 0.017 0.001 0 1 0 0 1 0 0   3  2 1 1 1    0     0     0     0     0   0.5 0.1\n",
      "  dp fdp     LnL\n",
      "1  1   0 -68.669\n",
      "      d     e a b x n w u j ysv ys y s v mx01 mx01j mx01y mx01s mx01v mx01r  mf\n",
      "1 0.017 0.001 0 1 0 0 1 0 0   3  2 1 1 1    0     0     0     0     0   0.5 0.1\n",
      "  dp fdp     LnL\n",
      "1  1   0 -68.669\n",
      "      d     e a b x n w u j ysv ys y s v mx01 mx01j mx01y mx01s mx01v mx01r  mf\n",
      "1 0.017 0.001 0 1 0 0 1 0 0   3  2 1 1 1    0     0     0     0     0   0.5 0.1\n",
      "  dp fdp     LnL\n",
      "1  1   0 -68.669\n",
      "      d     e a b x n w u j ysv ys y s v mx01 mx01j mx01y mx01s mx01v mx01r  mf\n",
      "1 0.018 0.001 0 1 0 0 1 0 0   3  2 1 1 1    0     0     0     0     0   0.5 0.1\n",
      "  dp fdp     LnL\n",
      "1  1   0 -68.742\n",
      "      d     e a b x n w u j ysv ys y s v mx01 mx01j mx01y mx01s mx01v mx01r  mf\n",
      "1 0.015 0.001 0 1 0 0 1 0 0   3  2 1 1 1    0     0     0     0     0   0.5 0.1\n",
      "  dp fdp     LnL\n",
      "1  1   0 -68.754\n",
      "      d     e a b x n w u j ysv ys y s v mx01 mx01j mx01y mx01s mx01v mx01r  mf\n",
      "1 0.017 0.001 0 1 0 0 1 0 0   3  2 1 1 1    0     0     0     0     0   0.5 0.1\n",
      "  dp fdp     LnL\n",
      "1  1   0 -68.688\n",
      "      d     e a b x n w u j ysv ys y s v mx01 mx01j mx01y mx01s mx01v mx01r  mf\n",
      "1 0.016 0.001 0 1 0 0 1 0 0   3  2 1 1 1    0     0     0     0     0   0.5 0.1\n",
      "  dp fdp    LnL\n",
      "1  1   0 -68.69\n",
      "      d     e a b x n w u j ysv ys y s v mx01 mx01j mx01y mx01s mx01v mx01r  mf\n",
      "1 0.017 0.001 0 1 0 0 1 0 0   3  2 1 1 1    0     0     0     0     0   0.5 0.1\n",
      "  dp fdp     LnL\n",
      "1  1   0 -68.674\n",
      "      d     e a b x n w u j ysv ys y s v mx01 mx01j mx01y mx01s mx01v mx01r  mf\n",
      "1 0.016 0.001 0 1 0 0 1 0 0   3  2 1 1 1    0     0     0     0     0   0.5 0.1\n",
      "  dp fdp     LnL\n",
      "1  1   0 -68.674\n",
      "      d     e a b x n w u j ysv ys y s v mx01 mx01j mx01y mx01s mx01v mx01r  mf\n",
      "1 0.017 0.001 0 1 0 0 1 0 0   3  2 1 1 1    0     0     0     0     0   0.5 0.1\n",
      "  dp fdp    LnL\n",
      "1  1   0 -68.67\n",
      "      d     e a b x n w u j ysv ys y s v mx01 mx01j mx01y mx01s mx01v mx01r  mf\n",
      "1 0.016 0.001 0 1 0 0 1 0 0   3  2 1 1 1    0     0     0     0     0   0.5 0.1\n",
      "  dp fdp    LnL\n",
      "1  1   0 -68.67\n",
      "      d     e a b x n w u j ysv ys y s v mx01 mx01j mx01y mx01s mx01v mx01r  mf\n",
      "1 0.017 0.001 0 1 0 0 1 0 0   3  2 1 1 1    0     0     0     0     0   0.5 0.1\n",
      "  dp fdp     LnL\n",
      "1  1   0 -68.669\n",
      "      d     e a b x n w u j ysv ys y s v mx01 mx01j mx01y mx01s mx01v mx01r  mf\n",
      "1 0.017 0.001 0 1 0 0 1 0 0   3  2 1 1 1    0     0     0     0     0   0.5 0.1\n",
      "  dp fdp     LnL\n",
      "1  1   0 -68.669\n",
      "      d     e a b x n w u j ysv ys y s v mx01 mx01j mx01y mx01s mx01v mx01r  mf\n",
      "1 0.017 0.001 0 1 0 0 1 0 0   3  2 1 1 1    0     0     0     0     0   0.5 0.1\n",
      "  dp fdp     LnL\n",
      "1  1   0 -68.669\n",
      "      d     e a b x n w u j ysv ys y s v mx01 mx01j mx01y mx01s mx01v mx01r  mf\n",
      "1 0.017 0.001 0 1 0 0 1 0 0   3  2 1 1 1    0     0     0     0     0   0.5 0.1\n",
      "  dp fdp     LnL\n",
      "1  1   0 -68.669\n",
      "      d     e a b x n w u j ysv ys y s v mx01 mx01j mx01y mx01s mx01v mx01r  mf\n",
      "1 0.017 0.001 0 1 0 0 1 0 0   3  2 1 1 1    0     0     0     0     0   0.5 0.1\n",
      "  dp fdp     LnL\n",
      "1  1   0 -68.669\n",
      "      d     e a b x n w u j ysv ys y s v mx01 mx01j mx01y mx01s mx01v mx01r  mf\n",
      "1 0.017 0.001 0 1 0 0 1 0 0   3  2 1 1 1    0     0     0     0     0   0.5 0.1\n",
      "  dp fdp     LnL\n",
      "1  1   0 -68.669\n",
      "      d     e a b x n w u j ysv ys y s v mx01 mx01j mx01y mx01s mx01v mx01r  mf\n",
      "1 0.017 0.001 0 1 0 0 1 0 0   3  2 1 1 1    0     0     0     0     0   0.5 0.1\n",
      "  dp fdp     LnL\n",
      "1  1   0 -68.669\n",
      "      d     e a b x n w u j ysv ys y s v mx01 mx01j mx01y mx01s mx01v mx01r  mf\n",
      "1 0.017 0.001 0 1 0 0 1 0 0   3  2 1 1 1    0     0     0     0     0   0.5 0.1\n",
      "  dp fdp     LnL\n",
      "1  1   0 -68.669\n",
      "      d     e a b x n w u j ysv ys y s v mx01 mx01j mx01y mx01s mx01v mx01r  mf\n",
      "1 0.017 0.001 0 1 0 0 1 0 0   3  2 1 1 1    0     0     0     0     0   0.5 0.1\n",
      "  dp fdp     LnL\n",
      "1  1   0 -68.669\n",
      "      d     e a b x n w u j ysv ys y s v mx01 mx01j mx01y mx01s mx01v mx01r  mf\n",
      "1 0.017 0.001 0 1 0 0 1 0 0   3  2 1 1 1    0     0     0     0     0   0.5 0.1\n",
      "  dp fdp     LnL\n",
      "1  1   0 -68.669\n",
      "      d     e a b x n w u j ysv ys y s v mx01 mx01j mx01y mx01s mx01v mx01r  mf\n",
      "1 0.017 0.001 0 1 0 0 1 0 0   3  2 1 1 1    0     0     0     0     0   0.5 0.1\n",
      "  dp fdp     LnL\n",
      "1  1   0 -68.669\n",
      "      d     e a b x n w u j ysv ys y s v mx01 mx01j mx01y mx01s mx01v mx01r  mf\n",
      "1 0.017 0.001 0 1 0 0 1 0 0   3  2 1 1 1    0     0     0     0     0   0.5 0.1\n",
      "  dp fdp     LnL\n",
      "1  1   0 -68.669\n",
      "      d     e a b x n w u j ysv ys y s v mx01 mx01j mx01y mx01s mx01v mx01r  mf\n",
      "1 0.017 0.001 0 1 0 0 1 0 0   3  2 1 1 1    0     0     0     0     0   0.5 0.1\n",
      "  dp fdp     LnL\n",
      "1  1   0 -68.669\n",
      "      d     e a b x n w u j ysv ys y s v mx01 mx01j mx01y mx01s mx01v mx01r  mf\n",
      "1 0.017 0.001 0 1 0 0 1 0 0   3  2 1 1 1    0     0     0     0     0   0.5 0.1\n",
      "  dp fdp     LnL\n",
      "1  1   0 -68.669\n",
      "      d     e a b x n w u j ysv ys y s v mx01 mx01j mx01y mx01s mx01v mx01r  mf\n",
      "1 0.017 0.001 0 1 0 0 1 0 0   3  2 1 1 1    0     0     0     0     0   0.5 0.1\n",
      "  dp fdp     LnL\n",
      "1  1   0 -68.669\n",
      "      d     e a b x n w u j ysv ys y s v mx01 mx01j mx01y mx01s mx01v mx01r  mf\n",
      "1 0.017 0.001 0 1 0 0 1 0 0   3  2 1 1 1    0     0     0     0     0   0.5 0.1\n",
      "  dp fdp     LnL\n",
      "1  1   0 -68.669\n",
      "      d     e a b x n w u j ysv ys y s v mx01 mx01j mx01y mx01s mx01v mx01r  mf\n",
      "1 0.017 0.001 0 1 0 0 1 0 0   3  2 1 1 1    0     0     0     0     0   0.5 0.1\n",
      "  dp fdp     LnL\n",
      "1  1   0 -68.669\n",
      "\n",
      "\n",
      "This is the output from optim, optimx, or GenSA. Check the help on those functions to\n",
      "interpret this output and check for convergence issues:\n",
      "\n",
      "               p1          p2     value fevals gevals niter convcode  kkt1 kkt2\n",
      "bobyqa 0.01663987 0.001010369 -68.66918     41     NA    NA        0 FALSE TRUE\n",
      "        xtime\n",
      "bobyqa 67.612\n",
      "\n",
      "Uppass started for (STRATIFIED) marginal ancestral states estimation!\n",
      "\n",
      "Uppass completed for (STRATIFIED) marginal ancestral states estimation!\n",
      "\n",
      "\n",
      "Stopping cluster with 24 cores.\n",
      "\n"
     ]
    }
   ],
   "source": [
    "runslow = TRUE\n",
    "run_results = \"Orecto_DEC.Rdata\"\n",
    "if (runslow){\n",
    "    res = bears_optim_run(DEC_orectolobiformes)\n",
    "    res    \n",
    "    save(res, file=run_results)\n",
    "    resDEC = res\n",
    "} else {\n",
    "    # Loads to \"res\"\n",
    "    load(run_results)\n",
    "    resDEC = res\n",
    "}"
   ]
  },
  {
   "cell_type": "markdown",
   "metadata": {},
   "source": [
    "## Plotting Ancestral state estimates"
   ]
  },
  {
   "cell_type": "code",
   "execution_count": 23,
   "metadata": {
    "scrolled": true
   },
   "outputs": [],
   "source": [
    "prepare_df_plot <- function(data_bgb){\n",
    "     data_plot_0 <- data.frame(matrix(nrow = nrow(data_bgb$relative_probs_of_each_state_at_branch_bottom_below_node_UPPASS),\n",
    "                                ncol = 8))\n",
    "      colnames(data_plot_0) <- c(\"end_state_1\", \"end_state_2\", \"end_state_3\", \n",
    "                              \"end_state_1_pp\", \"end_state_2_pp\", \"end_state_3_pp\", \n",
    "                              \"end_state_other_pp\", \"node\")\n",
    "\n",
    "    for (i in 1:nrow(data_bgb$ML_marginal_prob_each_state_at_branch_top_AT_node)) {\n",
    "        row <- data_bgb$ML_marginal_prob_each_state_at_branch_top_AT_node[i,]\n",
    "        data_plot_0[i, 1] <- order(row,decreasing=T)[1]\n",
    "        data_plot_0[i, 2] <- order(row,decreasing=T)[2]\n",
    "        data_plot_0[i, 3] <- order(row,decreasing=T)[3]\n",
    "        data_plot_0[i, 4] <- row[order(row,decreasing=T)[1]]\n",
    "        data_plot_0[i, 5] <- row[order(row,decreasing=T)[2]]\n",
    "        data_plot_0[i, 6] <- row[order(row,decreasing=T)[3]]\n",
    "        data_plot_0[i, 7] <- sum(row[order(row,decreasing=T)[4:length(row)]]) \n",
    "        data_plot_0[i, 8] <- i\n",
    "    }\n",
    "    \n",
    "    states_plot <- sort(unique(c(data_plot_0$end_state_1,data_plot_0$end_state_2, data_plot_0$end_state_3)))\n",
    "    full_data <- c()\n",
    "    for( i in 1:nrow(data_plot_0)){\n",
    "        temp_row <- rep(0, length(states_plot))\n",
    "        temp_row[which(states_plot == data_plot_0[i,1])] <- data_plot_0[i, 4]\n",
    "        temp_row[which(states_plot == data_plot_0[i,2])] <- data_plot_0[i, 5]\n",
    "        temp_row[which(states_plot == data_plot_0[i,3])] <- data_plot_0[i, 6]\n",
    "        temp_row[1] <- temp_row[1] + data_plot_0[i, 7]\n",
    "        full_data <- rbind(full_data, temp_row)\n",
    "    }\n",
    "    full_data <- as.data.frame(cbind(full_data, data_plot_0$node))\n",
    "    colnames(full_data) <- c(as.character(states_plot), \"node\")\n",
    "    rownames(full_data) <- data_plot_0$node\n",
    "return(full_data)\n",
    "}"
   ]
  },
  {
   "cell_type": "code",
   "execution_count": 24,
   "metadata": {},
   "outputs": [],
   "source": [
    "saveRDS(prepare_df_plot(resDEC), paste(\"DEC_BGB/Output/ancestral_state\", args[1], \".rds\"))"
   ]
  }
 ],
 "metadata": {
  "kernelspec": {
   "display_name": "R",
   "language": "R",
   "name": "ir"
  },
  "language_info": {
   "codemirror_mode": "r",
   "file_extension": ".r",
   "mimetype": "text/x-r-source",
   "name": "R",
   "pygments_lexer": "r",
   "version": "4.3.3"
  }
 },
 "nbformat": 4,
 "nbformat_minor": 5
}
