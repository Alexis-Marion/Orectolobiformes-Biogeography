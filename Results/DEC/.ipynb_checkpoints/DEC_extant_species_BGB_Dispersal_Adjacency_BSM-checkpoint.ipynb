{
 "cells": [
  {
   "cell_type": "markdown",
   "metadata": {},
   "source": [
    "# DEC (BGB) extant species"
   ]
  },
  {
   "cell_type": "markdown",
   "metadata": {},
   "source": [
    "## Loading data"
   ]
  },
  {
   "cell_type": "code",
   "execution_count": null,
   "metadata": {
    "scrolled": false
   },
   "outputs": [
    {
     "name": "stderr",
     "output_type": "stream",
     "text": [
      "\n",
      "Attachement du package : ‘parallel’\n",
      "\n",
      "\n",
      "Les objets suivants sont masqués depuis ‘package:snow’:\n",
      "\n",
      "    clusterApply, clusterApplyLB, clusterCall, clusterEvalQ,\n",
      "    clusterExport, clusterMap, clusterSplit, makeCluster, parApply,\n",
      "    parCapply, parLapply, parRapply, parSapply, splitIndices,\n",
      "    stopCluster\n",
      "\n",
      "\n"
     ]
    }
   ],
   "source": [
    "library(\"ape\")\n",
    "library(\"optimx\")\n",
    "library(\"GenSA\")\n",
    "library(\"rexpokit\")\n",
    "library(\"cladoRcpp\")\n",
    "library(\"snow\") \n",
    "library(\"parallel\")\n",
    "library(\"BioGeoBEARS\")"
   ]
  },
  {
   "cell_type": "code",
   "execution_count": null,
   "metadata": {},
   "outputs": [],
   "source": [
    "args = commandArgs(trailingOnly=TRUE)"
   ]
  },
  {
   "cell_type": "markdown",
   "metadata": {},
   "source": [
    "### Loading Tree"
   ]
  },
  {
   "cell_type": "code",
   "execution_count": null,
   "metadata": {},
   "outputs": [],
   "source": [
    "phy = paste(\"../Data_orectolobiformes/Tree_distribution/posterior_distribution_\", args[1], \".tree\", sep = \"\")"
   ]
  },
  {
   "cell_type": "markdown",
   "metadata": {},
   "source": [
    "### Loading presence-absence matrix"
   ]
  },
  {
   "cell_type": "code",
   "execution_count": null,
   "metadata": {},
   "outputs": [],
   "source": [
    "table_geo = \"DEC_BGB/7_area_biogeography_Orecto.txt\""
   ]
  },
  {
   "cell_type": "markdown",
   "metadata": {},
   "source": [
    "### Loading time period file"
   ]
  },
  {
   "cell_type": "code",
   "execution_count": null,
   "metadata": {},
   "outputs": [],
   "source": [
    "time_period= \"DEC_BGB/7_area_time_period.txt\""
   ]
  },
  {
   "cell_type": "markdown",
   "metadata": {},
   "source": [
    "### Loading connectivity matrix"
   ]
  },
  {
   "cell_type": "code",
   "execution_count": null,
   "metadata": {},
   "outputs": [],
   "source": [
    "connectivity_matrix = \"DEC_BGB/7_area_area_matrix.txt\""
   ]
  },
  {
   "cell_type": "markdown",
   "metadata": {},
   "source": [
    "### Loading dispersal matrix"
   ]
  },
  {
   "cell_type": "code",
   "execution_count": null,
   "metadata": {},
   "outputs": [],
   "source": [
    "dispersal_matrix = \"DEC_BGB/7_area_dispersal_matrix.txt\""
   ]
  },
  {
   "cell_type": "markdown",
   "metadata": {},
   "source": [
    "## Setting up DEC"
   ]
  },
  {
   "cell_type": "markdown",
   "metadata": {},
   "source": [
    "### Intitialize DEC model"
   ]
  },
  {
   "cell_type": "code",
   "execution_count": null,
   "metadata": {},
   "outputs": [],
   "source": [
    "DEC_orectolobiformes = define_BioGeoBEARS_run()"
   ]
  },
  {
   "cell_type": "markdown",
   "metadata": {},
   "source": [
    "### Setting up DEC input data"
   ]
  },
  {
   "cell_type": "markdown",
   "metadata": {},
   "source": [
    "#### Phylogeny"
   ]
  },
  {
   "cell_type": "code",
   "execution_count": null,
   "metadata": {},
   "outputs": [],
   "source": [
    "DEC_orectolobiformes$trfn = phy"
   ]
  },
  {
   "cell_type": "markdown",
   "metadata": {},
   "source": [
    "#### Presence-absence matrix"
   ]
  },
  {
   "cell_type": "code",
   "execution_count": null,
   "metadata": {},
   "outputs": [],
   "source": [
    "DEC_orectolobiformes$geogfn = table_geo"
   ]
  },
  {
   "cell_type": "markdown",
   "metadata": {},
   "source": [
    "#### Tip range"
   ]
  },
  {
   "cell_type": "code",
   "execution_count": null,
   "metadata": {},
   "outputs": [],
   "source": [
    "tipranges = getranges_from_LagrangePHYLIP(lgdata_fn=table_geo)"
   ]
  },
  {
   "cell_type": "markdown",
   "metadata": {},
   "source": [
    "#### Maximum range size"
   ]
  },
  {
   "cell_type": "code",
   "execution_count": null,
   "metadata": {},
   "outputs": [],
   "source": [
    "max_range_size = 6\n",
    "DEC_orectolobiformes$max_range_size = max_range_size"
   ]
  },
  {
   "cell_type": "markdown",
   "metadata": {},
   "source": [
    "#### State list"
   ]
  },
  {
   "cell_type": "code",
   "execution_count": null,
   "metadata": {},
   "outputs": [],
   "source": [
    "areas = getareas_from_tipranges_object(tipranges)\n",
    "states_area_list = rcpp_areas_list_to_states_list(areas=areas, maxareas=max_range_size, include_null_range=FALSE)\n",
    "DEC_orectolobiformes$states_list = states_area_list"
   ]
  },
  {
   "cell_type": "markdown",
   "metadata": {},
   "source": [
    "#### Time periods"
   ]
  },
  {
   "cell_type": "code",
   "execution_count": null,
   "metadata": {},
   "outputs": [],
   "source": [
    "DEC_orectolobiformes$timesfn = time_period"
   ]
  },
  {
   "cell_type": "code",
   "execution_count": null,
   "metadata": {},
   "outputs": [],
   "source": [
    "DEC_orectolobiformes$timeperiods = unlist((unname(c(read.table(time_period)))))"
   ]
  },
  {
   "cell_type": "markdown",
   "metadata": {},
   "source": [
    "#### Connectivity matrix"
   ]
  },
  {
   "cell_type": "code",
   "execution_count": null,
   "metadata": {},
   "outputs": [],
   "source": [
    "DEC_orectolobiformes$areas_adjacency_fn = connectivity_matrix"
   ]
  },
  {
   "cell_type": "markdown",
   "metadata": {},
   "source": [
    "#### Dispersal matrix"
   ]
  },
  {
   "cell_type": "code",
   "execution_count": null,
   "metadata": {},
   "outputs": [],
   "source": [
    "DEC_orectolobiformes$dispersal_multipliers_fn = dispersal_matrix"
   ]
  },
  {
   "cell_type": "markdown",
   "metadata": {},
   "source": [
    "#### Optimization parameters"
   ]
  },
  {
   "cell_type": "code",
   "execution_count": null,
   "metadata": {},
   "outputs": [],
   "source": [
    "DEC_orectolobiformes$force_sparse = FALSE\n",
    "DEC_orectolobiformes$on_NaN_error = -1e50\n",
    "DEC_orectolobiformes$speedup = FALSE        \n",
    "DEC_orectolobiformes$use_optimx = TRUE    \n",
    "DEC_orectolobiformes$num_cores_to_use = 24"
   ]
  },
  {
   "cell_type": "markdown",
   "metadata": {},
   "source": [
    "#### Dividing the tree per time periods"
   ]
  },
  {
   "cell_type": "code",
   "execution_count": null,
   "metadata": {},
   "outputs": [],
   "source": [
    "DEC_orectolobiformes$return_condlikes_table = TRUE\n",
    "DEC_orectolobiformes$calc_TTL_loglike_from_condlikes_table = TRUE\n",
    "DEC_orectolobiformes$calc_ancprobs = TRUE"
   ]
  },
  {
   "cell_type": "code",
   "execution_count": null,
   "metadata": {
    "scrolled": true
   },
   "outputs": [],
   "source": [
    "DEC_orectolobiformes = section_the_tree(inputs=DEC_orectolobiformes, make_master_table=TRUE, plot_pieces=FALSE, fossils_older_than=0.001, cut_fossils=FALSE)"
   ]
  },
  {
   "cell_type": "markdown",
   "metadata": {},
   "source": [
    "#### Ancestral state estimation"
   ]
  },
  {
   "cell_type": "markdown",
   "metadata": {},
   "source": [
    "#### Finalize settings"
   ]
  },
  {
   "cell_type": "code",
   "execution_count": null,
   "metadata": {},
   "outputs": [],
   "source": [
    "DEC_orectolobiformes = readfiles_BioGeoBEARS_run(DEC_orectolobiformes)"
   ]
  },
  {
   "cell_type": "markdown",
   "metadata": {},
   "source": [
    "### Check inputs"
   ]
  },
  {
   "cell_type": "code",
   "execution_count": null,
   "metadata": {},
   "outputs": [],
   "source": [
    "check_BioGeoBEARS_run(DEC_orectolobiformes)"
   ]
  },
  {
   "cell_type": "markdown",
   "metadata": {},
   "source": [
    "## Running the DEC analysis"
   ]
  },
  {
   "cell_type": "code",
   "execution_count": null,
   "metadata": {
    "scrolled": true
   },
   "outputs": [],
   "source": [
    "runslow = TRUE\n",
    "run_results = paste(\"DEC_BGB/\", \"Adjacency_Dispersal/\", \"Adjacency_Dispersal_\", args[1], \".Rdata\", sep =\"\")\n",
    "if (runslow){\n",
    "    res = bears_optim_run(DEC_orectolobiformes)\n",
    "    res    \n",
    "    save(res, file=run_results)\n",
    "    resDEC = res\n",
    "} else {\n",
    "    # Loads to \"res\"\n",
    "    load(run_results)\n",
    "    resDEC = res\n",
    "}"
   ]
  },
  {
   "cell_type": "code",
   "execution_count": null,
   "metadata": {},
   "outputs": [],
   "source": [
    "BSM_inputs_fn = paste(\"BSM/\", \"Adjacency_Dispersal/\", \"BSM_inputs_file_\", args[1], \".Rdata\", sep =\"\")\n",
    "runInputsSlow = TRUE\n",
    "if (runInputsSlow){\n",
    "    stochastic_mapping_inputs_list = get_inputs_for_stochastic_mapping(res=res)\n",
    "    save(stochastic_mapping_inputs_list, file=BSM_inputs_fn)\n",
    "    } else {\n",
    "    load(BSM_inputs_fn)\n",
    "}\n",
    "\n",
    "runBSMslow = TRUE\n",
    "if (runBSMslow == TRUE)\n",
    "    {\n",
    "    BSM_output = runBSM(res, stochastic_mapping_inputs_list=stochastic_mapping_inputs_list, maxnum_maps_to_try=1, nummaps_goal=1, maxtries_per_branch=40000, save_after_every_try=TRUE, savedir=getwd(), seedval=12345, wait_before_save=0.01, master_nodenum_toPrint=0)\n",
    "\n",
    "    saveRDS(BSM_output$RES_clado_events_tables, paste(\"BSM/\", \"Adjacency_Dispersal/\", \"BSM_clado_\", args[1], \".Rdata\", sep =\"\"))\n",
    "    saveRDS(BSM_output$RES_ana_events_tables, paste(\"BSM/\", \"Adjacency_Dispersal/\", \"BSM_ana_\", args[1], \".Rdata\", sep =\"\"))\n",
    "\n",
    "}"
   ]
  }
 ],
 "metadata": {
  "kernelspec": {
   "display_name": "R",
   "language": "R",
   "name": "ir"
  },
  "language_info": {
   "codemirror_mode": "r",
   "file_extension": ".r",
   "mimetype": "text/x-r-source",
   "name": "R",
   "pygments_lexer": "r",
   "version": "4.3.3"
  }
 },
 "nbformat": 4,
 "nbformat_minor": 5
}
