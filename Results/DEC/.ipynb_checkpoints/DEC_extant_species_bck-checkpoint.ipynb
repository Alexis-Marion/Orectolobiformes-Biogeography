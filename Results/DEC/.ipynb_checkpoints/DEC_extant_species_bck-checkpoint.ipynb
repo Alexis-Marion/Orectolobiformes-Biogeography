{
 "cells": [
  {
   "cell_type": "markdown",
   "metadata": {},
   "source": [
    "# DEC extant species"
   ]
  },
  {
   "cell_type": "markdown",
   "metadata": {},
   "source": [
    "## Loading data"
   ]
  },
  {
   "cell_type": "code",
   "execution_count": 1,
   "metadata": {
    "scrolled": true
   },
   "outputs": [],
   "source": [
    "library(\"ape\")\n",
    "library(\"optimx\")\n",
    "library(\"GenSA\")\n",
    "library(\"rexpokit\")\n",
    "library(\"cladoRcpp\")\n",
    "library(\"snow\") \n",
    "library(\"parallel\")\n",
    "library(\"BioGeoBEARS\")"
   ]
  },
  {
   "cell_type": "markdown",
   "metadata": {},
   "source": [
    "### Loading Tree"
   ]
  },
  {
   "cell_type": "code",
   "execution_count": 2,
   "metadata": {},
   "outputs": [],
   "source": [
    "phy = \"Input/tree_orecto.tree\""
   ]
  },
  {
   "cell_type": "markdown",
   "metadata": {},
   "source": [
    "### Loading presence-absence matrix"
   ]
  },
  {
   "cell_type": "code",
   "execution_count": 3,
   "metadata": {},
   "outputs": [],
   "source": [
    "table_geo = \"7_area_biogeography_Orecto.txt\""
   ]
  },
  {
   "cell_type": "markdown",
   "metadata": {},
   "source": [
    "### Loading time period file"
   ]
  },
  {
   "cell_type": "code",
   "execution_count": 4,
   "metadata": {},
   "outputs": [],
   "source": [
    "time_period= \"7_area_time_period.txt\""
   ]
  },
  {
   "cell_type": "markdown",
   "metadata": {},
   "source": [
    "### Loading connectivity matrix"
   ]
  },
  {
   "cell_type": "code",
   "execution_count": 5,
   "metadata": {},
   "outputs": [],
   "source": [
    "connectivity_matrix = \"7_area_area_matrix.txt\""
   ]
  },
  {
   "cell_type": "markdown",
   "metadata": {},
   "source": [
    "### Loading dispersal matrix"
   ]
  },
  {
   "cell_type": "code",
   "execution_count": 6,
   "metadata": {},
   "outputs": [],
   "source": [
    "dispersal_matrix = \"7_area_dispersal_matrix.txt\""
   ]
  },
  {
   "cell_type": "markdown",
   "metadata": {},
   "source": [
    "## Setting up DEC"
   ]
  },
  {
   "cell_type": "markdown",
   "metadata": {},
   "source": [
    "### Intitialize DEC model"
   ]
  },
  {
   "cell_type": "code",
   "execution_count": 7,
   "metadata": {},
   "outputs": [],
   "source": [
    "DEC_orectolobiformes = define_BioGeoBEARS_run()"
   ]
  },
  {
   "cell_type": "markdown",
   "metadata": {},
   "source": [
    "### Setting up DEC input data"
   ]
  },
  {
   "cell_type": "markdown",
   "metadata": {},
   "source": [
    "#### Phylogeny"
   ]
  },
  {
   "cell_type": "code",
   "execution_count": 8,
   "metadata": {},
   "outputs": [],
   "source": [
    "DEC_orectolobiformes$trfn = phy"
   ]
  },
  {
   "cell_type": "markdown",
   "metadata": {},
   "source": [
    "#### Presence-absence matrix"
   ]
  },
  {
   "cell_type": "code",
   "execution_count": 9,
   "metadata": {},
   "outputs": [],
   "source": [
    "DEC_orectolobiformes$geogfn = table_geo"
   ]
  },
  {
   "cell_type": "markdown",
   "metadata": {},
   "source": [
    "#### Tip range"
   ]
  },
  {
   "cell_type": "code",
   "execution_count": 10,
   "metadata": {},
   "outputs": [],
   "source": [
    "tipranges = getranges_from_LagrangePHYLIP(lgdata_fn=table_geo)"
   ]
  },
  {
   "cell_type": "markdown",
   "metadata": {},
   "source": [
    "#### Maximum range size"
   ]
  },
  {
   "cell_type": "code",
   "execution_count": 11,
   "metadata": {},
   "outputs": [],
   "source": [
    "max_range_size = 6\n",
    "DEC_orectolobiformes$max_range_size = max_range_size"
   ]
  },
  {
   "cell_type": "markdown",
   "metadata": {},
   "source": [
    "#### State list"
   ]
  },
  {
   "cell_type": "code",
   "execution_count": 12,
   "metadata": {},
   "outputs": [],
   "source": [
    "areas = getareas_from_tipranges_object(tipranges)\n",
    "states_area_list = rcpp_areas_list_to_states_list(areas=areas, maxareas=max_range_size, include_null_range=TRUE)\n",
    "DEC_orectolobiformes$states_list = states_area_list"
   ]
  },
  {
   "cell_type": "markdown",
   "metadata": {},
   "source": [
    "#### Time periods"
   ]
  },
  {
   "cell_type": "code",
   "execution_count": 13,
   "metadata": {},
   "outputs": [],
   "source": [
    "DEC_orectolobiformes$timesfn = time_period"
   ]
  },
  {
   "cell_type": "code",
   "execution_count": 14,
   "metadata": {},
   "outputs": [],
   "source": [
    "DEC_orectolobiformes$timeperiods = unlist((unname(c(read.table(time_period)))))"
   ]
  },
  {
   "cell_type": "markdown",
   "metadata": {},
   "source": [
    "#### Connectivity matrix"
   ]
  },
  {
   "cell_type": "code",
   "execution_count": 15,
   "metadata": {},
   "outputs": [],
   "source": [
    "#DEC_orectolobiformes$areas_adjacency_fn = connectivity_matrix"
   ]
  },
  {
   "cell_type": "markdown",
   "metadata": {},
   "source": [
    "#### Dispersal matrix"
   ]
  },
  {
   "cell_type": "code",
   "execution_count": 16,
   "metadata": {},
   "outputs": [],
   "source": [
    "DEC_orectolobiformes$dispersal_multipliers_fn = dispersal_matrix"
   ]
  },
  {
   "cell_type": "markdown",
   "metadata": {},
   "source": [
    "#### Forced nodes"
   ]
  },
  {
   "cell_type": "code",
   "execution_count": 17,
   "metadata": {},
   "outputs": [],
   "source": [
    "#DEC_orectolobiformes$fixnode = c(43,63,64,75)\n",
    "#DEC_orectolobiformes$fixlikes = matrix(c(0,0,0,0,0,0,1,0,0,0,0,1,0,0,0,1,0,0,1,0,1,1,0,0,0,1,0,0,1,0,1,1,0,0,1,0,1,1,0,1,1,1,0,0,1,0,1,1,0,1,1,1,0,1,1,1,1,0,1,1,1,1,1,0,0,0,0,0,0,1,0,0,0,0,1,0,0,0,1,0,0,1,0,1,1,0,0,0,1,0,0,1,0,1,1,0,0,1,0,1,1,0,1,1,1,0,0,1,0,1,1,0,1,1,1,0,1,1,1,1,0,1,1,1,1,1,0,0,1,1,0,0,1,1,1,1,1,1,1,1,1,1,1,1,1,1,1,1,1,1,1,1,1,1,1,1,1,1,1,1,1,1,1,1,1,1,1,1,1,1,1,1,1,1,1,1,1,1,1,1,1,1,1,1,1,1,1,1,1,0,0,1,1,0,0,1,1,1,1,1,1,1,1,1,1,1,1,1,1,1,1,1,1,1,1,1,1,1,1,1,1,1,1,1,1,1,1,1,1,1,1,1,1,1,1,1,1,1,1,1,1,1,1,1,1,1,1,1,1,1,1,1),ncol=63,nrow=4,byrow=TRUE)"
   ]
  },
  {
   "cell_type": "markdown",
   "metadata": {},
   "source": [
    "#### Optimization parameters"
   ]
  },
  {
   "cell_type": "code",
   "execution_count": 18,
   "metadata": {},
   "outputs": [],
   "source": [
    "DEC_orectolobiformes$force_sparse = FALSE\n",
    "DEC_orectolobiformes$on_NaN_error = -1e50\n",
    "DEC_orectolobiformes$speedup = FALSE        \n",
    "DEC_orectolobiformes$use_optimx = TRUE    \n",
    "DEC_orectolobiformes$num_cores_to_use = 24"
   ]
  },
  {
   "cell_type": "markdown",
   "metadata": {},
   "source": [
    "#### Dividing the tree per time periods"
   ]
  },
  {
   "cell_type": "code",
   "execution_count": 19,
   "metadata": {},
   "outputs": [],
   "source": [
    "DEC_orectolobiformes$return_condlikes_table = TRUE\n",
    "DEC_orectolobiformes$calc_TTL_loglike_from_condlikes_table = TRUE\n",
    "DEC_orectolobiformes$calc_ancprobs = TRUE"
   ]
  },
  {
   "cell_type": "code",
   "execution_count": 20,
   "metadata": {},
   "outputs": [],
   "source": [
    "section_the_tree(inputs=DEC_orectolobiformes, make_master_table=TRUE, plot_pieces=FALSE, fossils_older_than=0.001, cut_fossils=FALSE)"
   ]
  },
  {
   "cell_type": "code",
   "execution_count": 21,
   "metadata": {
    "scrolled": true
   },
   "outputs": [],
   "source": [
    "DEC_orectolobiformes = section_the_tree(inputs=DEC_orectolobiformes, make_master_table=TRUE, plot_pieces=FALSE, fossils_older_than=0.001, cut_fossils=FALSE)"
   ]
  },
  {
   "cell_type": "markdown",
   "metadata": {},
   "source": [
    "#### Ancestral state estimation"
   ]
  },
  {
   "cell_type": "markdown",
   "metadata": {},
   "source": [
    "#### Finalize settings"
   ]
  },
  {
   "cell_type": "code",
   "execution_count": 22,
   "metadata": {},
   "outputs": [],
   "source": [
    "DEC_orectolobiformes = readfiles_BioGeoBEARS_run(DEC_orectolobiformes)"
   ]
  },
  {
   "cell_type": "markdown",
   "metadata": {},
   "source": [
    "### Check inputs"
   ]
  },
  {
   "cell_type": "code",
   "execution_count": 23,
   "metadata": {},
   "outputs": [],
   "source": [
    "check_BioGeoBEARS_run(DEC_orectolobiformes)"
   ]
  },
  {
   "cell_type": "markdown",
   "metadata": {},
   "source": [
    "## Running the DEC analysis"
   ]
  },
  {
   "cell_type": "code",
   "execution_count": 24,
   "metadata": {},
   "outputs": [],
   "source": [
    "runslow = TRUE\n",
    "run_results = \"Orecto_DEC.Rdata\"\n",
    "if (runslow){\n",
    "    res = bears_optim_run(DEC_orectolobiformes)\n",
    "    res    \n",
    "    save(res, file=run_results)\n",
    "    resDEC = res\n",
    "} else {\n",
    "    # Loads to \"res\"\n",
    "    load(run_results)\n",
    "    resDEC = res\n",
    "}"
   ]
  },
  {
   "cell_type": "markdown",
   "metadata": {},
   "source": [
    "## Plotting Ancestral state estimates"
   ]
  },
  {
   "cell_type": "code",
   "execution_count": 25,
   "metadata": {
    "scrolled": true
   },
   "outputs": [],
   "source": [
    "prepare_df_plot <- function(data_bgb){\n",
    "     data_plot_0 <- data.frame(matrix(nrow = nrow(data_bgb$relative_probs_of_each_state_at_branch_bottom_below_node_UPPASS),\n",
    "                                ncol = 8))\n",
    "      colnames(data_plot_0) <- c(\"end_state_1\", \"end_state_2\", \"end_state_3\", \n",
    "                              \"end_state_1_pp\", \"end_state_2_pp\", \"end_state_3_pp\", \n",
    "                              \"end_state_other_pp\", \"node\")\n",
    "\n",
    "    for (i in 1:nrow(data_bgb$ML_marginal_prob_each_state_at_branch_top_AT_node)) {\n",
    "        row <- data_bgb$ML_marginal_prob_each_state_at_branch_top_AT_node[i,]\n",
    "        data_plot_0[i, 1] <- order(row,decreasing=T)[1]\n",
    "        data_plot_0[i, 2] <- order(row,decreasing=T)[2]\n",
    "        data_plot_0[i, 3] <- order(row,decreasing=T)[3]\n",
    "        data_plot_0[i, 4] <- row[order(row,decreasing=T)[1]]\n",
    "        data_plot_0[i, 5] <- row[order(row,decreasing=T)[2]]\n",
    "        data_plot_0[i, 6] <- row[order(row,decreasing=T)[3]]\n",
    "        data_plot_0[i, 7] <- sum(row[order(row,decreasing=T)[4:length(row)]]) \n",
    "        data_plot_0[i, 8] <- i\n",
    "    }\n",
    "    \n",
    "    states_plot <- sort(unique(c(data_plot_0$end_state_1,data_plot_0$end_state_2, data_plot_0$end_state_3)))\n",
    "    full_data <- c()\n",
    "    for( i in 1:nrow(data_plot_0)){\n",
    "        temp_row <- rep(0, length(states_plot))\n",
    "        temp_row[which(states_plot == data_plot_0[i,1])] <- data_plot_0[i, 4]\n",
    "        temp_row[which(states_plot == data_plot_0[i,2])] <- data_plot_0[i, 5]\n",
    "        temp_row[which(states_plot == data_plot_0[i,3])] <- data_plot_0[i, 6]\n",
    "        temp_row[1] <- temp_row[1] + data_plot_0[i, 7]\n",
    "        full_data <- rbind(full_data, temp_row)\n",
    "    }\n",
    "    full_data <- as.data.frame(cbind(full_data, data_plot_0$node))\n",
    "    colnames(full_data) <- c(as.character(states_plot), \"node\")\n",
    "    rownames(full_data) <- data_plot_0$node\n",
    "return(full_data)\n",
    "}"
   ]
  },
  {
   "cell_type": "code",
   "execution_count": 26,
   "metadata": {},
   "outputs": [],
   "source": [
    "saveRDS(prepare_df_plot(resDEC), \"ancestral_state.rds\")"
   ]
  }
 ],
 "metadata": {
  "kernelspec": {
   "display_name": "R",
   "language": "R",
   "name": "ir"
  },
  "language_info": {
   "codemirror_mode": "r",
   "file_extension": ".r",
   "mimetype": "text/x-r-source",
   "name": "R",
   "pygments_lexer": "r",
   "version": "4.3.3"
  }
 },
 "nbformat": 4,
 "nbformat_minor": 5
}
