{
 "cells": [
  {
   "cell_type": "markdown",
   "metadata": {},
   "source": [
    "# DES model selection (ML-Simulation)"
   ]
  },
  {
   "cell_type": "markdown",
   "metadata": {},
   "source": [
    "## Loading packages"
   ]
  },
  {
   "cell_type": "code",
   "execution_count": null,
   "metadata": {
    "scrolled": false
   },
   "outputs": [],
   "source": [
    "library(\"stringr\")\n",
    "library(\"tidyverse\")\n",
    "library(\"ggpubr\")\n",
    "library(\"rstatix\")\n",
    "library(\"ggplot2\")"
   ]
  },
  {
   "cell_type": "markdown",
   "metadata": {},
   "source": [
    "## Creating useful functions"
   ]
  },
  {
   "cell_type": "markdown",
   "metadata": {},
   "source": [
    "### List append"
   ]
  },
  {
   "cell_type": "code",
   "execution_count": null,
   "metadata": {},
   "outputs": [],
   "source": [
    "lappend <- function (lst, ...){\n",
    "lst <- c(lst, list(...))\n",
    "  return(lst)\n",
    "}"
   ]
  },
  {
   "cell_type": "markdown",
   "metadata": {},
   "source": [
    "### Plot fancy histogram"
   ]
  },
  {
   "cell_type": "code",
   "execution_count": null,
   "metadata": {},
   "outputs": [],
   "source": [
    "fancy_hist = function(x, \n",
    "                      xlim,\n",
    "                      xlab = '',\n",
    "                      main = '',\n",
    "                      breaks = 100,\n",
    "                      vline = 0.5,\n",
    "                      col_hist = \"#A25050\"){\n",
    "  if(missing(xlim)){\n",
    "    xlim <- range(x)\n",
    "  }\n",
    "  \n",
    "  hist(x, \n",
    "       xlim = xlim,\n",
    "       xlab = xlab,\n",
    "       ylab = \"Number of runs\",\n",
    "       col = col_hist,\n",
    "       border = 'white',\n",
    "       lwd = 2,\n",
    "       breaks = breaks,\n",
    "       main = main)\n",
    "    abline(v = vline, , col= \"#7393B3\", lwd = 5, lty = 1)\n",
    "}\n"
   ]
  },
  {
   "cell_type": "markdown",
   "metadata": {},
   "source": [
    "### Compute proportion of best fit model"
   ]
  },
  {
   "cell_type": "code",
   "execution_count": null,
   "metadata": {},
   "outputs": [],
   "source": [
    "make_prop <- function(list_all_dir){\n",
    "    list_prop <- list()\n",
    "    dir_name <- c(\"1_none\", \"1_one\", \"1_two\")\n",
    "    for (dir in list_all_dir){\n",
    "        list_all_files <- list.files(dir, pattern = \"Mlsbplx.log\", full.names = TRUE)\n",
    "        AICc <- c()\n",
    "        for (files in list_all_files){\n",
    "            temp_tab <- read.table(files, sep =\"\\t\", header = TRUE)\n",
    "            AICc <- c(AICc, temp_tab$AICc)\n",
    "        }\n",
    "    \n",
    "    splt_1 <- str_split_fixed(list_all_files, pattern = \"_DES_\", 2)[,2]\n",
    "    splt_2_1 <- str_split_fixed(splt_1, pattern = \"_\", 2)[,1]\n",
    "    splt_2_2 <- str_split_fixed(splt_1, pattern = \"_\", 2)[,2]\n",
    "    splt_3 <- str_split_fixed(splt_2_2, pattern = \"0_q_\", 2)[,2]\n",
    "    splt_4 <- str_split_fixed(splt_3, pattern = \"_TdD_TdE_G_Mlsbplx.log\", 2)[,1]\n",
    "    splt_4[splt_4 == \"\"] <- \"0\"\n",
    "    Replicate <- splt_2_1\n",
    "    Model <- splt_4\n",
    "        \n",
    "    df<-as.data.frame(cbind(Model, AICc, Replicate))\n",
    "\n",
    "    df$AICc <- as.numeric(AICc)\n",
    "    print(df)\n",
    "    nb_rep <- 0\n",
    "    nb_best_model <- rep(0,3)\n",
    "    for( i in unique((Replicate))){\n",
    "        temp_df <- df[df$Replicate == i,]\n",
    "            \n",
    "        if(nrow(temp_df) == 3){\n",
    "            nb_rep <- nb_rep + 1\n",
    "            nb_best_model[which.min(temp_df$AICc)] <- nb_best_model[which.min(temp_df$AICc)] + 1\n",
    "        }\n",
    "    }\n",
    "    print(nb_rep)\n",
    "    prop_best_model <- nb_best_model/nb_rep\n",
    "    names(prop_best_model) <- rev(c(\"No shift\",  \"One shift (33.9)\", \"Two shifts\"))\n",
    "    list_prop <- lappend(list_prop, prop_best_model)\n",
    "}\n",
    "    names(list_prop) <- dir_name\n",
    "return(list_prop)\n",
    "}"
   ]
  },
  {
   "cell_type": "markdown",
   "metadata": {},
   "source": [
    "### Prepare table for confusion plot"
   ]
  },
  {
   "cell_type": "code",
   "execution_count": null,
   "metadata": {},
   "outputs": [],
   "source": [
    "transfo_prop <- function(list_prop){\n",
    "    Var_1 <- c(rep(\"No shift\", 3), rep(\"One shift (33.9)\", 3), rep(\"Two shifts\", 3))\n",
    "    Var_2 <- c()\n",
    "    Freq <- c()\n",
    "    for(i in 1:length(list_prop)){\n",
    "        Var_2 <- c(Var_2, (names(list_prop[[i]])))\n",
    "        Freq <- c(Freq, list_prop[[i]])\n",
    "    }\n",
    "    return(data.frame(Var_1, Var_2, Freq, stringsAsFactors = TRUE))\n",
    "}"
   ]
  },
  {
   "cell_type": "markdown",
   "metadata": {},
   "source": [
    "### Listing directory"
   ]
  },
  {
   "cell_type": "code",
   "execution_count": null,
   "metadata": {},
   "outputs": [],
   "source": [
    "list_all_dir_low <- c(\"../Simulation/Input/No_shift_low/\", \"../Simulation/Input/One_shift_low/\", \"../Simulation/Input/Two_shifts_low/\")"
   ]
  },
  {
   "cell_type": "code",
   "execution_count": null,
   "metadata": {},
   "outputs": [],
   "source": [
    "list_all_dir_mid <- c(\"../Simulation/Input/No_shift_mid/\", \"../Simulation/Input/One_shift_mid/\", \"../Simulation/Input/Two_shifts_mid/\")"
   ]
  },
  {
   "cell_type": "code",
   "execution_count": null,
   "metadata": {},
   "outputs": [],
   "source": [
    "list_all_dir_combined <- c(\"../Simulation/Input/No_shift_combined/\", \"../Simulation/Input/One_shift_combined/\", \"../Simulation/Input/Two_shifts_combined/\")"
   ]
  },
  {
   "cell_type": "markdown",
   "metadata": {},
   "source": [
    "### Plot and save confusion plot for low dataset"
   ]
  },
  {
   "cell_type": "code",
   "execution_count": null,
   "metadata": {
    "scrolled": true
   },
   "outputs": [],
   "source": [
    "list_prop_low <- make_prop(list_all_dir_low)\n",
    "tab_low <- transfo_prop(list_prop_low)\n",
    "tab_low$Var_1 <- factor(tab_low$Var_1, c(\"No shift\", \"One shift (33.9)\",\"Two shifts\"))\n",
    "tab_low$Var_2 <- factor(tab_low$Var_2, c(\"No shift\", \"One shift (33.9)\",\"Two shifts\"))"
   ]
  },
  {
   "cell_type": "code",
   "execution_count": null,
   "metadata": {
    "scrolled": true
   },
   "outputs": [],
   "source": [
    "pdf(\"../Simulation/Plot/Confusion_plots/Confusion_plot_low.pdf\")\n",
    "ggplot(tab_low, aes(Var_2,  Var_1, fill = Freq)) +\n",
    "  geom_tile() +\n",
    "  geom_text(aes(label = scales::percent(Freq))) +\n",
    "  scale_fill_gradient(low = \"white\", high = \"#3575b5\") +\n",
    "  labs(x = \"Best model\", y = \"Generating model\", title = \"ML model selection for small dataset\",\n",
    "       fill = \"Proportion\") +\n",
    "  theme(plot.title = element_text(size = 25, hjust = 0.5, \n",
    "                                  margin = margin(20, 0, 20, 0)),\n",
    "        legend.title = element_text(size = 14, margin = margin(0, 20, 10, 0)),\n",
    "        axis.title.x = element_text(margin = margin(20, 20, 20, 20), size = 18),\n",
    "        axis.title.y = element_text(margin = margin(0, 20, 0, 10), size = 18))\n",
    "dev.off()"
   ]
  },
  {
   "cell_type": "markdown",
   "metadata": {},
   "source": [
    "### Plot and save confusion plot for moderate dataset"
   ]
  },
  {
   "cell_type": "code",
   "execution_count": null,
   "metadata": {},
   "outputs": [],
   "source": [
    "list_prop_mid <- make_prop(list_all_dir_mid)\n",
    "tab_mid <- transfo_prop(list_prop_mid)\n",
    "tab_mid$Var_1 <- factor(tab_mid$Var_1, c(\"No shift\", \"One shift (33.9)\",\"Two shifts\"))\n",
    "tab_mid$Var_2 <- factor(tab_mid$Var_2, c(\"No shift\", \"One shift (33.9)\",\"Two shifts\"))"
   ]
  },
  {
   "cell_type": "code",
   "execution_count": null,
   "metadata": {},
   "outputs": [],
   "source": [
    "pdf(\"../Simulation/Plot/Confusion_plots/Confusion_plot_mid.pdf\")\n",
    "ggplot(tab_mid, aes(Var_2,  Var_1, fill = Freq)) +\n",
    "  geom_tile() +\n",
    "  geom_text(aes(label = scales::percent(Freq))) +\n",
    "  scale_fill_gradient(low = \"white\", high = \"#3575b5\") +\n",
    "  labs(x = \"Best model\", y = \"Generating model\", title = \"ML model selection for moderate dataset\",\n",
    "       fill = \"Proportion\") +\n",
    "  theme(plot.title = element_text(size = 25, hjust = 0.5, \n",
    "                                  margin = margin(20, 0, 20, 0)),\n",
    "        legend.title = element_text(size = 14, margin = margin(0, 20, 10, 0)),\n",
    "        axis.title.x = element_text(margin = margin(20, 20, 20, 20), size = 18),\n",
    "        axis.title.y = element_text(margin = margin(0, 20, 0, 10), size = 18))\n",
    "dev.off()"
   ]
  },
  {
   "cell_type": "markdown",
   "metadata": {},
   "source": [
    "### Plot and save confusion plot for combined dataset"
   ]
  },
  {
   "cell_type": "code",
   "execution_count": null,
   "metadata": {},
   "outputs": [],
   "source": [
    "list_prop_combined <- make_prop(list_all_dir_combined)\n",
    "tab_combined <- transfo_prop(list_prop_combined)\n",
    "tab_combined$Var_1 <- factor(tab_combined$Var_1, c(\"No shift\", \"One shift (33.9)\",\"Two shifts\"))\n",
    "tab_combined$Var_2 <- factor(tab_combined$Var_2, c(\"No shift\", \"One shift (33.9)\",\"Two shifts\"))"
   ]
  },
  {
   "cell_type": "code",
   "execution_count": null,
   "metadata": {},
   "outputs": [],
   "source": [
    "pdf(\"../Simulation/Plot/Confusion_plots/Confusion_plot_combined.pdf\")\n",
    "ggplot(tab_combined, aes(Var_2,  Var_1, fill = Freq)) +\n",
    "  geom_tile() +\n",
    "  geom_text(aes(label = scales::percent(Freq))) +\n",
    "  scale_fill_gradient(low = \"white\", high = \"#3575b5\") +\n",
    "  labs(x = \"Best model\", y = \"Generating model\", title = \"ML model selection for combined dataset\",\n",
    "       fill = \"Proportion\") +\n",
    "  theme(plot.title = element_text(size = 25, hjust = 0.5, \n",
    "                                  margin = margin(20, 0, 20, 0)),\n",
    "        legend.title = element_text(size = 14, margin = margin(0, 20, 10, 0)),\n",
    "        axis.title.x = element_text(margin = margin(20, 20, 20, 20), size = 18),\n",
    "        axis.title.y = element_text(margin = margin(0, 20, 0, 10), size = 18))\n",
    "dev.off()"
   ]
  },
  {
   "cell_type": "markdown",
   "metadata": {},
   "source": [
    "## Rate comparaison (small-sized dataset)"
   ]
  },
  {
   "cell_type": "markdown",
   "metadata": {},
   "source": [
    "### All shifts"
   ]
  },
  {
   "cell_type": "code",
   "execution_count": null,
   "metadata": {},
   "outputs": [],
   "source": [
    "for (dir in list_all_dir_low[[3]]){\n",
    "    list_all_files <- list.files(dir, pattern = \"33.9_66.0_TdD_TdE_G_Mlsbplx.log\", full.names = TRUE)   \n",
    "\n",
    "    d12_t66.0 <-c()\n",
    "    d21_t66.0 <-c()\n",
    "    d12_t33.9 <-c()\n",
    "    d21_t33.9 <-c()\n",
    "    d12_t0.0 <-c()\n",
    "    d21_t0.0 <-c()\n",
    "    e1_t66.0 <-c()\n",
    "    e2_t66.0 <-c()\n",
    "    e1_t33.9 <-c()\n",
    "    e2_t33.9 <-c()\n",
    "    e1_t0.0 <-c()\n",
    "    e2_t0.0 <-c()\n",
    "    \n",
    "    for (files in list_all_files){\n",
    "        temp_tab <- read.table(files, sep =\"\\t\", header = TRUE)\n",
    "            d12_t66.0 <- c(d12_t66.0, temp_tab$d12_t66.0)\n",
    "            d21_t66.0 <- c(d21_t66.0, temp_tab$d21_t66.0)\n",
    "            d12_t33.9 <- c(d12_t33.9, temp_tab$d12_t33.9)\n",
    "            d21_t33.9 <- c(d21_t33.9, temp_tab$d21_t33.9)\n",
    "            d12_t0.0 <- c(d12_t0.0, temp_tab$d12_t0.0)\n",
    "            d21_t0.0 <- c(d21_t0.0, temp_tab$d21_t0.0)\n",
    "            e1_t66.0 <- c(e1_t66.0, temp_tab$e1_t66.0)\n",
    "            e2_t66.0 <- c(e2_t66.0, temp_tab$e2_t66.0)\n",
    "            e1_t33.9 <- c(e1_t33.9, temp_tab$e1_t33.9)\n",
    "            e2_t33.9 <- c(e2_t33.9, temp_tab$e2_t33.9)\n",
    "            e1_t0.0 <- c(e1_t0.0, temp_tab$e1_t0.0)\n",
    "            e2_t0.0 <- c(e2_t0.0, temp_tab$e2_t0.0)\n",
    "        }\n",
    "    \n",
    "\n",
    "}"
   ]
  },
  {
   "cell_type": "code",
   "execution_count": null,
   "metadata": {},
   "outputs": [],
   "source": [
    "pdf(\"../Simulation/Plot/Rate_estimates/Extinction_two_small.pdf\", height = 10)\n",
    "par(mfrow= c(3,2))\n",
    "\n",
    "fancy_hist(e1_t66.0, xlim = c(0, 2), breaks = 20, main = \"Extinction rates (1 : 66 Myr)\", xlab = \"Extinction rate (event/lineage/Myr)\", vline = 0.25, col_hist = \"#BFD4D8\")\n",
    "fancy_hist(e2_t66.0, xlim = c(0, 2), breaks = 15, main = \"Extinction rates (2 : 66 Myr)\", xlab = \"Extinction rate (event/lineage/Myr)\", vline = 0.5, col_hist = \"#BFD4D8\")\n",
    "\n",
    "fancy_hist(e1_t33.9, xlim = c(0, 2), breaks = 20, main = \"Extinction rates (1 : 33.9 Myr)\", xlab = \"Extinction rate (event/lineage/Myr)\", vline = 0.5, col_hist = \"#BFD4D8\")\n",
    "fancy_hist(e2_t33.9, xlim = c(0, 2), breaks = 10, main = \"Extinction rates (2 : 33.9 Myr)\", xlab = \"Extinction rate (event/lineage/Myr)\", vline = 0.25, col_hist = \"#BFD4D8\")\n",
    "\n",
    "fancy_hist(e1_t0.0, xlim = c(0, 2), breaks = 750, main = \"Extinction rates (1 : 0 Myr)\", xlab = \"Extinction rate (event/lineage/Myr)\", vline = 0.25, col_hist = \"#BFD4D8\")\n",
    "fancy_hist(e2_t0.0, xlim = c(0, 2), breaks = 750, main = \"Extinction rates (2 : 0 Myr)\", xlab = \"Extinction rate (event/lineage/Myr)\", vline = 0.5, col_hist = \"#BFD4D8\")\n",
    "\n",
    "dev.off()"
   ]
  },
  {
   "cell_type": "code",
   "execution_count": null,
   "metadata": {},
   "outputs": [],
   "source": [
    "pdf(\"../Simulation/Plot/Rate_estimates/Dispersal_two_small.pdf\", height = 10)\n",
    "par(mfrow= c(3,2))\n",
    "\n",
    "fancy_hist(d12_t66.0, xlim = c(0, 2), breaks = 25, main = \"Dispersal rates (1 -> 2 : 66 Myr)\", xlab = \"Dispersal rate (event/lineage/Myr)\", vline = 0.25)\n",
    "fancy_hist(d21_t66.0, xlim = c(0, 2), breaks = 1000, main = \"Dispersal rates (2 -> 1 : 66 Myr)\", xlab = \"Dispersal rate (event/lineage/Myr)\", vline = 0.5)\n",
    "\n",
    "fancy_hist(d12_t33.9, xlim = c(0, 2), breaks = 750, main = \"Dispersal rates (1 -> 2 : 33.9 Myr)\", xlab = \"Dispersal rate (event/lineage/Myr)\", vline = 0.5)\n",
    "fancy_hist(d21_t33.9, xlim = c(0, 2), breaks = 25, main = \"Dispersal rates (2 -> 1 : 33.9 Myr)\", xlab = \"Dispersal rate (event/lineage/Myr)\", vline = 0.25)\n",
    "\n",
    "fancy_hist(d12_t0.0, xlim = c(0, 2), breaks = 750, main = \"Dispersal rates (1 -> 2 : 0 Myr)\", xlab = \"Dispersal rate (event/lineage/Myr)\", vline = 0.25)\n",
    "fancy_hist(d21_t0.0, xlim = c(0, 2), breaks = 1000, main = \"Dispersal rates (2 -> 1 : 0 Myr)\", xlab = \"Dispersal rate (event/lineage/Myr)\", vline = 0.5)\n",
    "\n",
    "dev.off()"
   ]
  },
  {
   "cell_type": "markdown",
   "metadata": {},
   "source": [
    "### One shift (33.9 Myr)"
   ]
  },
  {
   "cell_type": "code",
   "execution_count": null,
   "metadata": {},
   "outputs": [],
   "source": [
    "for (dir in list_all_dir_low[[2]]){\n",
    "    list_all_files <- list.files(dir, pattern = \"33.9_TdD_TdE_G_Mlsbplx.log\", full.names = TRUE)\n",
    "    \n",
    "    d12_t33.9 <-c()\n",
    "    d21_t33.9 <-c()\n",
    "    d12_t0.0 <-c()\n",
    "    d21_t0.0 <-c()\n",
    "    e1_t33.9 <-c()\n",
    "    e2_t33.9 <-c()\n",
    "    e1_t0.0 <-c()\n",
    "    e2_t0.0 <-c()\n",
    "    \n",
    "    for (files in list_all_files){\n",
    "        temp_tab <- read.table(files, sep =\"\\t\", header = TRUE)\n",
    "            d12_t33.9 <- c(d12_t33.9, temp_tab$d12_t33.9)\n",
    "            d21_t33.9 <- c(d21_t33.9, temp_tab$d21_t33.9)\n",
    "            d12_t0.0 <- c(d12_t0.0, temp_tab$d12_t0.0)\n",
    "            d21_t0.0 <- c(d21_t0.0, temp_tab$d21_t0.0)\n",
    "            e1_t33.9 <- c(e1_t33.9, temp_tab$e1_t33.9)\n",
    "            e2_t33.9 <- c(e2_t33.9, temp_tab$e2_t33.9)\n",
    "            e1_t0.0 <- c(e1_t0.0, temp_tab$e1_t0.0)\n",
    "            e2_t0.0 <- c(e2_t0.0, temp_tab$e2_t0.0)\n",
    "        }\n",
    "    \n",
    "\n",
    "}"
   ]
  },
  {
   "cell_type": "code",
   "execution_count": null,
   "metadata": {},
   "outputs": [],
   "source": [
    "pdf(\"../Simulation/Plot/Rate_estimates/Extinction_one_small.pdf\", height = 10)\n",
    "par(mfrow= c(2,2))\n",
    "\n",
    "fancy_hist(e1_t33.9, xlim = c(0, 2), breaks = 5, main = \"Extinction rates (1 : 33.9 Myr)\", xlab = \"Extinction rate (event/lineage/Myr)\", vline = 0.25, col_hist = \"#BFD4D8\")\n",
    "fancy_hist(e2_t33.9, xlim = c(0, 2), breaks = 10, main = \"Extinction rates (2 : 33.9 Myr)\", xlab = \"Extinction rate (event/lineage/Myr)\", vline = 0.5, col_hist = \"#BFD4D8\")\n",
    "\n",
    "fancy_hist(e1_t0.0, xlim = c(0, 2), breaks = 750, main = \"Extinction rates (1 : 0 Myr)\", xlab = \"Extinction rate (event/lineage/Myr)\", vline = 0.5, col_hist = \"#BFD4D8\")\n",
    "fancy_hist(e2_t0.0, xlim = c(0, 2), breaks = 750, main = \"Extinction rates (2 : 0 Myr)\", xlab = \"Extinction rate (event/lineage/Myr)\", vline = 0.25, col_hist = \"#BFD4D8\")\n",
    "\n",
    "dev.off()"
   ]
  },
  {
   "cell_type": "code",
   "execution_count": null,
   "metadata": {},
   "outputs": [],
   "source": [
    "pdf(\"../Simulation/Plot/Rate_estimates/Dispersal_one_small.pdf\", height = 10)\n",
    "par(mfrow= c(2,2))\n",
    "\n",
    "fancy_hist(d12_t33.9, xlim = c(0, 2), breaks = 5, main = \"Dispersal rates (1 -> 2 : 33.9 Myr)\", xlab = \"Dispersal rate (event/lineage/Myr)\", vline = 0.25)\n",
    "fancy_hist(d21_t33.9, xlim = c(0, 2), breaks = 50, main = \"Dispersal rates (2 -> 1 : 33.9 Myr)\", xlab = \"Dispersal rate (event/lineage/Myr)\", vline = 0.5)\n",
    "\n",
    "fancy_hist(d12_t0.0, xlim = c(0, 2), breaks = 500, main = \"Dispersal rates (1 -> 2 : 0 Myr)\", xlab = \"Dispersal rate (event/lineage/Myr)\", vline = 0.5)\n",
    "fancy_hist(d21_t0.0, xlim = c(0, 2), breaks = 500, main = \"Dispersal rates (2 -> 1 : 0 Myr)\", xlab = \"Dispersal rate (event/lineage/Myr)\", vline = 0.25)\n",
    "\n",
    "dev.off()"
   ]
  },
  {
   "cell_type": "markdown",
   "metadata": {},
   "source": [
    "### No shift"
   ]
  },
  {
   "cell_type": "code",
   "execution_count": null,
   "metadata": {},
   "outputs": [],
   "source": [
    "for (dir in list_all_dir_low[[1]]){\n",
    "    list_all_files <- list.files(dir, pattern = \"_0_TdD_TdE_G_Mlsbplx.log\", full.names = TRUE)\n",
    "    \n",
    "\n",
    "    d12_t0.0 <-c()\n",
    "    d21_t0.0 <-c()\n",
    "    e1_t0.0 <-c()\n",
    "    e2_t0.0 <-c()\n",
    "    \n",
    "    for (files in list_all_files){\n",
    "        temp_tab <- read.table(files, sep =\"\\t\", header = TRUE)\n",
    "            d12_t0.0 <- c(d12_t0.0, temp_tab$d12_t0.0)\n",
    "            d21_t0.0 <- c(d21_t0.0, temp_tab$d21_t0.0)\n",
    "            e1_t0.0 <- c(e1_t0.0, temp_tab$e1_t0.0)\n",
    "            e2_t0.0 <- c(e2_t0.0, temp_tab$e2_t0.0)\n",
    "        }\n",
    "    \n",
    "\n",
    "}"
   ]
  },
  {
   "cell_type": "code",
   "execution_count": null,
   "metadata": {},
   "outputs": [],
   "source": [
    "pdf(\"../Simulation/Plot/Rate_estimates/Extinction_none_small.pdf\", height = 5)\n",
    "par(mfrow= c(1,2))\n",
    "\n",
    "fancy_hist(e1_t0.0, xlim = c(0, 2), breaks = 5, main = \"Extinction rates (1 : 0 Myr)\", xlab = \"Extinction rate (event/lineage/Myr)\", vline = 0.25, col_hist = \"#BFD4D8\")\n",
    "fancy_hist(e2_t0.0, xlim = c(0, 2), breaks = 10, main = \"Extinction rates (2 : 0 Myr)\", xlab = \"Extinction rate (event/lineage/Myr)\", vline = 0.5, col_hist = \"#BFD4D8\")\n",
    "\n",
    "dev.off()"
   ]
  },
  {
   "cell_type": "code",
   "execution_count": null,
   "metadata": {},
   "outputs": [],
   "source": [
    "pdf(\"../Simulation/Plot/Rate_estimates/Dispersal_none_small.pdf\", height = 5)\n",
    "par(mfrow= c(1,2))\n",
    "\n",
    "fancy_hist(d12_t0.0, xlim = c(0, 2), breaks = 5, main = \"Dispersal rates (1 -> 2 : 0 Myr)\", xlab = \"Dispersal rate (event/lineage/Myr)\", vline = 0.25)\n",
    "fancy_hist(d21_t0.0, xlim = c(0, 2), breaks = 15, main = \"Dispersal rates (2 -> 1 : 0 Myr)\", xlab = \"Dispersal rate (event/lineage/Myr)\", vline = 0.5)\n",
    "\n",
    "dev.off()"
   ]
  },
  {
   "cell_type": "markdown",
   "metadata": {},
   "source": [
    "## Rate comparaison (middle-sized dataset)"
   ]
  },
  {
   "cell_type": "markdown",
   "metadata": {},
   "source": [
    "### Two shifts"
   ]
  },
  {
   "cell_type": "code",
   "execution_count": null,
   "metadata": {},
   "outputs": [],
   "source": [
    "for (dir in list_all_dir_mid[[3]]){\n",
    "    list_all_files <- list.files(dir, pattern = \"33.9_66.0_TdD_TdE_G_Mlsbplx.log\", full.names = TRUE)\n",
    "    \n",
    "\n",
    "    d12_t66.0 <-c()\n",
    "    d21_t66.0 <-c()\n",
    "    d12_t33.9 <-c()\n",
    "    d21_t33.9 <-c()\n",
    "    d12_t0.0 <-c()\n",
    "    d21_t0.0 <-c()\n",
    "    e1_t66.0 <-c()\n",
    "    e2_t66.0 <-c()\n",
    "    e1_t33.9 <-c()\n",
    "    e2_t33.9 <-c()\n",
    "    e1_t0.0 <-c()\n",
    "    e2_t0.0 <-c()\n",
    "    \n",
    "    for (files in list_all_files){\n",
    "        temp_tab <- read.table(files, sep =\"\\t\", header = TRUE)\n",
    "            d12_t66.0 <- c(d12_t66.0, temp_tab$d12_t66.0)\n",
    "            d21_t66.0 <- c(d21_t66.0, temp_tab$d21_t66.0)\n",
    "            d12_t33.9 <- c(d12_t33.9, temp_tab$d12_t33.9)\n",
    "            d21_t33.9 <- c(d21_t33.9, temp_tab$d21_t33.9)\n",
    "            d12_t0.0 <- c(d12_t0.0, temp_tab$d12_t0.0)\n",
    "            d21_t0.0 <- c(d21_t0.0, temp_tab$d21_t0.0)\n",
    "            e1_t66.0 <- c(e1_t66.0, temp_tab$e1_t66.0)\n",
    "            e2_t66.0 <- c(e2_t66.0, temp_tab$e2_t66.0)\n",
    "            e1_t33.9 <- c(e1_t33.9, temp_tab$e1_t33.9)\n",
    "            e2_t33.9 <- c(e2_t33.9, temp_tab$e2_t33.9)\n",
    "            e1_t0.0 <- c(e1_t0.0, temp_tab$e1_t0.0)\n",
    "            e2_t0.0 <- c(e2_t0.0, temp_tab$e2_t0.0)\n",
    "        }\n",
    "    \n",
    "\n",
    "}"
   ]
  },
  {
   "cell_type": "code",
   "execution_count": null,
   "metadata": {},
   "outputs": [],
   "source": [
    "pdf(\"../Simulation/Plot/Rate_estimates/Extinction_two_medium.pdf\", height = 10)\n",
    "par(mfrow= c(3,2))\n",
    "\n",
    "fancy_hist(e1_t66.0, xlim = c(0, 2), breaks = 5, main = \"Extinction rates (1 : 66 Myr)\", xlab = \"Extinction rate (event/lineage/Myr)\", vline = 0.25, col_hist = \"#BFD4D8\")\n",
    "fancy_hist(e2_t66.0, xlim = c(0, 2), breaks = 10, main = \"Extinction rates (2 : 66 Myr)\", xlab = \"Extinction rate (event/lineage/Myr)\", vline = 0.5, col_hist = \"#BFD4D8\")\n",
    "\n",
    "fancy_hist(e1_t33.9, xlim = c(0, 2), breaks = 10, main = \"Extinction rates (1 : 33.9 Myr)\", xlab = \"Extinction rate (event/lineage/Myr)\", vline = 0.5, col_hist = \"#BFD4D8\")\n",
    "fancy_hist(e2_t33.9, xlim = c(0, 2), breaks = 5, main = \"Extinction rates (2 : 33.9 Myr)\", xlab = \"Extinction rate (event/lineage/Myr)\", vline = 0.25, col_hist = \"#BFD4D8\")\n",
    "\n",
    "fancy_hist(e1_t0.0, xlim = c(0, 2), breaks = 25, main = \"Extinction rates (1 : 0 Myr)\", xlab = \"Extinction rate (event/lineage/Myr)\", vline = 0.25, col_hist = \"#BFD4D8\")\n",
    "fancy_hist(e2_t0.0, xlim = c(0, 2), breaks = 100, main = \"Extinction rates (2 : 0 Myr)\", xlab = \"Extinction rate (event/lineage/Myr)\", vline = 0.5, col_hist = \"#BFD4D8\")\n",
    "\n",
    "dev.off()"
   ]
  },
  {
   "cell_type": "code",
   "execution_count": null,
   "metadata": {
    "scrolled": true
   },
   "outputs": [],
   "source": [
    "pdf(\"../Simulation/Plot/Rate_estimates/Dispersal_two_medium.pdf\", height = 10)\n",
    "par(mfrow= c(3,2))\n",
    "\n",
    "fancy_hist(d12_t66.0, xlim = c(0, 2), breaks = 15, main = \"Dispersal rates (1 -> 2 : 66 Myr)\", xlab = \"Dispersal rate (event/lineage/Myr)\", vline = 0.25)\n",
    "fancy_hist(d21_t66.0, xlim = c(0, 2), breaks = 250, main = \"Dispersal rates (2 -> 1 : 66 Myr)\", xlab = \"Dispersal rate (event/lineage/Myr)\", vline = 0.5)\n",
    "\n",
    "fancy_hist(d12_t33.9, xlim = c(0, 2), breaks = 50, main = \"Dispersal rates (1 -> 2 : 33.9 Myr)\", xlab = \"Dispersal rate (event/lineage/Myr)\", vline = 0.5)\n",
    "fancy_hist(d21_t33.9, xlim = c(0, 2), breaks = 10, main = \"Dispersal rates (2 -> 1 : 33.9 Myr)\", xlab = \"Dispersal rate (event/lineage/Myr)\", vline = 0.25)\n",
    "\n",
    "fancy_hist(d12_t0.0, xlim = c(0, 2), breaks = 750, main = \"Dispersal rates (1 -> 2 : 0 Myr)\", xlab = \"Dispersal rate (event/lineage/Myr)\", vline = 0.25)\n",
    "fancy_hist(d21_t0.0, xlim = c(0, 2), breaks = 1000, main = \"Dispersal rates (2 -> 1 : 0 Myr)\", xlab = \"Dispersal rate (event/lineage/Myr)\", vline = 0.5)\n",
    "\n",
    "dev.off()"
   ]
  },
  {
   "cell_type": "markdown",
   "metadata": {},
   "source": [
    "### One shift (33.9 Myr)"
   ]
  },
  {
   "cell_type": "code",
   "execution_count": null,
   "metadata": {},
   "outputs": [],
   "source": [
    "for (dir in list_all_dir_mid[[2]]){\n",
    "    list_all_files <- list.files(dir, pattern = \"33.9_TdD_TdE_G_Mlsbplx.log\", full.names = TRUE)\n",
    "    \n",
    "    d12_t33.9 <-c()\n",
    "    d21_t33.9 <-c()\n",
    "    d12_t0.0 <-c()\n",
    "    d21_t0.0 <-c()\n",
    "    e1_t33.9 <-c()\n",
    "    e2_t33.9 <-c()\n",
    "    e1_t0.0 <-c()\n",
    "    e2_t0.0 <-c()\n",
    "    \n",
    "    for (files in list_all_files){\n",
    "        temp_tab <- read.table(files, sep =\"\\t\", header = TRUE)\n",
    "            d12_t33.9 <- c(d12_t33.9, temp_tab$d12_t33.9)\n",
    "            d21_t33.9 <- c(d21_t33.9, temp_tab$d21_t33.9)\n",
    "            d12_t0.0 <- c(d12_t0.0, temp_tab$d12_t0.0)\n",
    "            d21_t0.0 <- c(d21_t0.0, temp_tab$d21_t0.0)\n",
    "            e1_t33.9 <- c(e1_t33.9, temp_tab$e1_t33.9)\n",
    "            e2_t33.9 <- c(e2_t33.9, temp_tab$e2_t33.9)\n",
    "            e1_t0.0 <- c(e1_t0.0, temp_tab$e1_t0.0)\n",
    "            e2_t0.0 <- c(e2_t0.0, temp_tab$e2_t0.0)\n",
    "        }\n",
    "    \n",
    "\n",
    "}"
   ]
  },
  {
   "cell_type": "code",
   "execution_count": null,
   "metadata": {},
   "outputs": [],
   "source": [
    "pdf(\"../Simulation/Plot/Rate_estimates/Extinction_one_medium.pdf\", height = 10)\n",
    "par(mfrow= c(2,2))\n",
    "\n",
    "fancy_hist(e1_t33.9, xlim = c(0, 2), breaks = 3, main = \"Extinction rates (1 : 33.9 Myr)\", xlab = \"Extinction rate (event/lineage/Myr)\", vline = 0.25, col_hist = \"#BFD4D8\")\n",
    "fancy_hist(e2_t33.9, xlim = c(0, 2), breaks = 5, main = \"Extinction rates (2 : 33.9 Myr)\", xlab = \"Extinction rate (event/lineage/Myr)\", vline = 0.5, col_hist = \"#BFD4D8\")\n",
    "\n",
    "fancy_hist(e1_t0.0, xlim = c(0, 2), breaks = 500, main = \"Extinction rates (1 : 0 Myr)\", xlab = \"Extinction rate (event/lineage/Myr)\", vline = 0.5, col_hist = \"#BFD4D8\")\n",
    "fancy_hist(e2_t0.0, xlim = c(0, 2), breaks = 100, main = \"Extinction rates (2 : 0 Myr)\", xlab = \"Extinction rate (event/lineage/Myr)\", vline = 0.25, col_hist = \"#BFD4D8\")\n",
    "\n",
    "dev.off()"
   ]
  },
  {
   "cell_type": "code",
   "execution_count": null,
   "metadata": {},
   "outputs": [],
   "source": [
    "pdf(\"../Simulation/Plot/Rate_estimates/Dispersal_one_medium.pdf\", height = 10)\n",
    "par(mfrow= c(2,2))\n",
    "\n",
    "fancy_hist(d12_t33.9, xlim = c(0, 2), breaks = 5, main = \"Dispersal rates (1 -> 2 : 33.9 Myr)\", xlab = \"Dispersal rate (event/lineage/Myr)\", vline = 0.25)\n",
    "fancy_hist(d21_t33.9, xlim = c(0, 2), breaks = 20, main = \"Dispersal rates (2 -> 1 : 33.9 Myr)\", xlab = \"Dispersal rate (event/lineage/Myr)\", vline = 0.5)\n",
    "\n",
    "fancy_hist(d12_t0.0, xlim = c(0, 2), breaks = 750, main = \"Dispersal rates (1 -> 2 : 0 Myr)\", xlab = \"Dispersal rate (event/lineage/Myr)\", vline = 0.5)\n",
    "fancy_hist(d21_t0.0, xlim = c(0, 2), breaks = 750, main = \"Dispersal rates (2 -> 1 : 0 Myr)\", xlab = \"Dispersal rate (event/lineage/Myr)\", vline = 0.25)\n",
    "\n",
    "dev.off()"
   ]
  },
  {
   "cell_type": "markdown",
   "metadata": {},
   "source": [
    "### No shift"
   ]
  },
  {
   "cell_type": "code",
   "execution_count": null,
   "metadata": {},
   "outputs": [],
   "source": [
    "for (dir in list_all_dir_mid[[1]]){\n",
    "    list_all_files <- list.files(dir, pattern = \"_0_TdD_TdE_G_Mlsbplx.log\", full.names = TRUE)\n",
    "    \n",
    "\n",
    "    d12_t0.0 <-c()\n",
    "    d21_t0.0 <-c()\n",
    "    e1_t0.0 <-c()\n",
    "    e2_t0.0 <-c()\n",
    "    \n",
    "    for (files in list_all_files){\n",
    "        temp_tab <- read.table(files, sep =\"\\t\", header = TRUE)\n",
    "            d12_t0.0 <- c(d12_t0.0, temp_tab$d12_t0.0)\n",
    "            d21_t0.0 <- c(d21_t0.0, temp_tab$d21_t0.0)\n",
    "            e1_t0.0 <- c(e1_t0.0, temp_tab$e1_t0.0)\n",
    "            e2_t0.0 <- c(e2_t0.0, temp_tab$e2_t0.0)\n",
    "        }\n",
    "    \n",
    "\n",
    "}"
   ]
  },
  {
   "cell_type": "code",
   "execution_count": null,
   "metadata": {},
   "outputs": [],
   "source": [
    "pdf(\"../Simulation/Plot/Rate_estimates/Extinction_none_medium.pdf\", height = 5)\n",
    "par(mfrow= c(1,2))\n",
    "\n",
    "fancy_hist(e1_t0.0, xlim = c(0, 2), breaks = 2, main = \"Extinction rates (1 : 0 Myr)\", xlab = \"Extinction rate (event/lineage/Myr)\", vline = 0.25, col_hist = \"#BFD4D8\")\n",
    "fancy_hist(e2_t0.0, xlim = c(0, 2), breaks = 5, main = \"Extinction rates (2 : 0 Myr)\", xlab = \"Extinction rate (event/lineage/Myr)\", vline = 0.5, col_hist = \"#BFD4D8\")\n",
    "\n",
    "dev.off()"
   ]
  },
  {
   "cell_type": "code",
   "execution_count": null,
   "metadata": {},
   "outputs": [],
   "source": [
    "pdf(\"../Simulation/Plot/Rate_estimates/Dispersal_none_medium.pdf\", height = 5)\n",
    "par(mfrow= c(1,2))\n",
    "\n",
    "fancy_hist(d12_t0.0, xlim = c(0, 2), breaks = 3, main = \"Dispersal rates (1 -> 2 : 0 Myr)\", xlab = \"Dispersal rate (event/lineage/Myr)\", vline = 0.25)\n",
    "fancy_hist(d21_t0.0, xlim = c(0, 2), breaks = 10, main = \"Dispersal rates (2 -> 1 : 0 Myr)\", xlab = \"Dispersal rate (event/lineage/Myr)\", vline = 0.5)\n",
    "\n",
    "dev.off()"
   ]
  },
  {
   "cell_type": "markdown",
   "metadata": {},
   "source": [
    "## Rate comparaison (combined dataset)"
   ]
  },
  {
   "cell_type": "markdown",
   "metadata": {},
   "source": [
    "### Two shifts"
   ]
  },
  {
   "cell_type": "code",
   "execution_count": null,
   "metadata": {},
   "outputs": [],
   "source": [
    "for (dir in list_all_dir_combined[[3]]){\n",
    "    list_all_files <- list.files(dir, pattern = \"33.9_66.0_TdD_TdE_G_Mlsbplx.log\", full.names = TRUE)\n",
    "    \n",
    "\n",
    "    d12_t66.0 <-c()\n",
    "    d21_t66.0 <-c()\n",
    "    d12_t33.9 <-c()\n",
    "    d21_t33.9 <-c()\n",
    "    d12_t0.0 <-c()\n",
    "    d21_t0.0 <-c()\n",
    "    e1_t66.0 <-c()\n",
    "    e2_t66.0 <-c()\n",
    "    e1_t33.9 <-c()\n",
    "    e2_t33.9 <-c()\n",
    "    e1_t0.0 <-c()\n",
    "    e2_t0.0 <-c()\n",
    "    \n",
    "    for (files in list_all_files){\n",
    "        temp_tab <- read.table(files, sep =\"\\t\", header = TRUE)\n",
    "            d12_t66.0 <- c(d12_t66.0, temp_tab$d12_t66.0)\n",
    "            d21_t66.0 <- c(d21_t66.0, temp_tab$d21_t66.0)\n",
    "            d12_t33.9 <- c(d12_t33.9, temp_tab$d12_t33.9)\n",
    "            d21_t33.9 <- c(d21_t33.9, temp_tab$d21_t33.9)\n",
    "            d12_t0.0 <- c(d12_t0.0, temp_tab$d12_t0.0)\n",
    "            d21_t0.0 <- c(d21_t0.0, temp_tab$d21_t0.0)\n",
    "            e1_t66.0 <- c(e1_t66.0, temp_tab$e1_t66.0)\n",
    "            e2_t66.0 <- c(e2_t66.0, temp_tab$e2_t66.0)\n",
    "            e1_t33.9 <- c(e1_t33.9, temp_tab$e1_t33.9)\n",
    "            e2_t33.9 <- c(e2_t33.9, temp_tab$e2_t33.9)\n",
    "            e1_t0.0 <- c(e1_t0.0, temp_tab$e1_t0.0)\n",
    "            e2_t0.0 <- c(e2_t0.0, temp_tab$e2_t0.0)\n",
    "        }\n",
    "    \n",
    "\n",
    "}"
   ]
  },
  {
   "cell_type": "code",
   "execution_count": null,
   "metadata": {},
   "outputs": [],
   "source": [
    "pdf(\"../Simulation/Plot/Rate_estimates/Extinction_two_combined.pdf\", height = 10)\n",
    "par(mfrow= c(3,2))\n",
    "\n",
    "fancy_hist(e1_t66.0, xlim = c(0, 2), breaks = 5, main = \"Extinction rates (1 : 66 Myr)\", xlab = \"Extinction rate (event/lineage/Myr)\", vline = 0.25, col_hist = \"#BFD4D8\")\n",
    "fancy_hist(e2_t66.0, xlim = c(0, 2), breaks = 10, main = \"Extinction rates (2 : 66 Myr)\", xlab = \"Extinction rate (event/lineage/Myr)\", vline = 0.5, col_hist = \"#BFD4D8\")\n",
    "\n",
    "fancy_hist(e1_t33.9, xlim = c(0, 2), breaks = 10, main = \"Extinction rates (1 : 33.9 Myr)\", xlab = \"Extinction rate (event/lineage/Myr)\", vline = 0.5, col_hist = \"#BFD4D8\")\n",
    "fancy_hist(e2_t33.9, xlim = c(0, 2), breaks = 5, main = \"Extinction rates (2 : 33.9 Myr)\", xlab = \"Extinction rate (event/lineage/Myr)\", vline = 0.25, col_hist = \"#BFD4D8\")\n",
    "\n",
    "fancy_hist(e1_t0.0, xlim = c(0, 2), breaks = 5, main = \"Extinction rates (1 : 0 Myr)\", xlab = \"Extinction rate (event/lineage/Myr)\", vline = 0.25, col_hist = \"#BFD4D8\")\n",
    "fancy_hist(e2_t0.0, xlim = c(0, 2), breaks = 5, main = \"Extinction rates (2 : 0 Myr)\", xlab = \"Extinction rate (event/lineage/Myr)\", vline = 0.5, col_hist = \"#BFD4D8\")\n",
    "\n",
    "dev.off()\n"
   ]
  },
  {
   "cell_type": "code",
   "execution_count": null,
   "metadata": {},
   "outputs": [],
   "source": [
    "pdf(\"../Simulation/Plot/Rate_estimates/Dispersal_two_combined.pdf\", height = 10)\n",
    "par(mfrow= c(3,2))\n",
    "\n",
    "fancy_hist(d12_t66.0, xlim = c(0, 2), breaks = 10, main = \"Dispersal rates (1 -> 2 : 66 Myr)\", xlab = \"Dispersal rate (event/lineage/Myr)\", vline = 0.25)\n",
    "fancy_hist(d21_t66.0, xlim = c(0, 2), breaks = 25, main = \"Dispersal rates (2 -> 1 : 66 Myr)\", xlab = \"Dispersal rate (event/lineage/Myr)\", vline = 0.5)\n",
    "\n",
    "fancy_hist(d12_t33.9, xlim = c(0, 2), breaks = 25, main = \"Dispersal rates (1 -> 2 : 33.9 Myr)\", xlab = \"Dispersal rate (event/lineage/Myr)\", vline = 0.5)\n",
    "fancy_hist(d21_t33.9, xlim = c(0, 2), breaks = 10, main = \"Dispersal rates (2 -> 1 : 33.9 Myr)\", xlab = \"Dispersal rate (event/lineage/Myr)\", vline = 0.25)\n",
    "\n",
    "fancy_hist(d12_t0.0, xlim = c(0, 2), breaks = 10, main = \"Dispersal rates (1 -> 2 : 0 Myr)\", xlab = \"Dispersal rate (event/lineage/Myr)\", vline = 0.25)\n",
    "fancy_hist(d21_t0.0, xlim = c(0, 2), breaks = 25, main = \"Dispersal rates (2 -> 1 : 0 Myr)\", xlab = \"Dispersal rate (event/lineage/Myr)\", vline = 0.5)\n",
    "\n",
    "dev.off()"
   ]
  },
  {
   "cell_type": "markdown",
   "metadata": {},
   "source": [
    "### One shift (33.9 Myr)"
   ]
  },
  {
   "cell_type": "code",
   "execution_count": null,
   "metadata": {},
   "outputs": [],
   "source": [
    "for (dir in list_all_dir_combined[[2]]){\n",
    "    list_all_files <- list.files(dir, pattern = \"33.9_TdD_TdE_G_Mlsbplx.log\", full.names = TRUE)\n",
    "    \n",
    "    d12_t33.9 <-c()\n",
    "    d21_t33.9 <-c()\n",
    "    d12_t0.0 <-c()\n",
    "    d21_t0.0 <-c()\n",
    "    e1_t33.9 <-c()\n",
    "    e2_t33.9 <-c()\n",
    "    e1_t0.0 <-c()\n",
    "    e2_t0.0 <-c()\n",
    "    \n",
    "    for (files in list_all_files){\n",
    "        temp_tab <- read.table(files, sep =\"\\t\", header = TRUE)\n",
    "            d12_t33.9 <- c(d12_t33.9, temp_tab$d12_t33.9)\n",
    "            d21_t33.9 <- c(d21_t33.9, temp_tab$d21_t33.9)\n",
    "            d12_t0.0 <- c(d12_t0.0, temp_tab$d12_t0.0)\n",
    "            d21_t0.0 <- c(d21_t0.0, temp_tab$d21_t0.0)\n",
    "            e1_t33.9 <- c(e1_t33.9, temp_tab$e1_t33.9)\n",
    "            e2_t33.9 <- c(e2_t33.9, temp_tab$e2_t33.9)\n",
    "            e1_t0.0 <- c(e1_t0.0, temp_tab$e1_t0.0)\n",
    "            e2_t0.0 <- c(e2_t0.0, temp_tab$e2_t0.0)\n",
    "        }\n",
    "    \n",
    "\n",
    "}"
   ]
  },
  {
   "cell_type": "code",
   "execution_count": null,
   "metadata": {},
   "outputs": [],
   "source": [
    "pdf(\"../Simulation/Plot/Rate_estimates/Extinction_one_combined.pdf\", height = 10)\n",
    "par(mfrow= c(2,2))\n",
    "\n",
    "fancy_hist(e1_t33.9, xlim = c(0, 2), breaks = 3, main = \"Extinction rates (1 : 33.9 Myr)\", xlab = \"Extinction rate (event/lineage/Myr)\", vline = 0.25, col_hist = \"#BFD4D8\")\n",
    "fancy_hist(e2_t33.9, xlim = c(0, 2), breaks = 5, main = \"Extinction rates (2 : 33.9 Myr)\", xlab = \"Extinction rate (event/lineage/Myr)\", vline = 0.5, col_hist = \"#BFD4D8\")\n",
    "\n",
    "fancy_hist(e1_t0.0, xlim = c(0, 2), breaks = 5, main = \"Extinction rates (1 : 0 Myr)\", xlab = \"Extinction rate (event/lineage/Myr)\", vline = 0.5, col_hist = \"#BFD4D8\")\n",
    "fancy_hist(e2_t0.0, xlim = c(0, 2), breaks = 3, main = \"Extinction rates (2 : 0 Myr)\", xlab = \"Extinction rate (event/lineage/Myr)\", vline = 0.25, col_hist = \"#BFD4D8\")\n",
    "\n",
    "dev.off()"
   ]
  },
  {
   "cell_type": "code",
   "execution_count": null,
   "metadata": {},
   "outputs": [],
   "source": [
    "pdf(\"../Simulation/Plot/Rate_estimates/Dispersal_one_combined.pdf\", height = 10)\n",
    "par(mfrow= c(2,2))\n",
    "\n",
    "fancy_hist(d12_t33.9, xlim = c(0, 2), breaks = 5, main = \"Dispersal rates (1 -> 2 : 33.9 Myr)\", xlab = \"Dispersal rate (event/lineage/Myr)\", vline = 0.25)\n",
    "fancy_hist(d21_t33.9, xlim = c(0, 2), breaks = 10, main = \"Dispersal rates (2 -> 1 : 33.9 Myr)\", xlab = \"Dispersal rate (event/lineage/Myr)\", vline = 0.5)\n",
    "\n",
    "fancy_hist(d12_t0.0, xlim = c(0, 2), breaks = 10, main = \"Dispersal rates (1 -> 2 : 0 Myr)\", xlab = \"Dispersal rate (event/lineage/Myr)\", vline = 0.5)\n",
    "fancy_hist(d21_t0.0, xlim = c(0, 2), breaks = 5, main = \"Dispersal rates (2 -> 1 : 0 Myr)\", xlab = \"Dispersal rate (event/lineage/Myr)\", vline = 0.25)\n",
    "\n",
    "dev.off()"
   ]
  },
  {
   "cell_type": "markdown",
   "metadata": {},
   "source": [
    "### No shift"
   ]
  },
  {
   "cell_type": "code",
   "execution_count": null,
   "metadata": {},
   "outputs": [],
   "source": [
    "for (dir in list_all_dir_combined[[1]]){\n",
    "    list_all_files <- list.files(dir, pattern = \"_0_TdD_TdE_G_Mlsbplx.log\", full.names = TRUE)\n",
    "    \n",
    "\n",
    "    d12_t0.0 <-c()\n",
    "    d21_t0.0 <-c()\n",
    "    e1_t0.0 <-c()\n",
    "    e2_t0.0 <-c()\n",
    "    \n",
    "    for (files in list_all_files){\n",
    "        temp_tab <- read.table(files, sep =\"\\t\", header = TRUE)\n",
    "            d12_t0.0 <- c(d12_t0.0, temp_tab$d12_t0.0)\n",
    "            d21_t0.0 <- c(d21_t0.0, temp_tab$d21_t0.0)\n",
    "            e1_t0.0 <- c(e1_t0.0, temp_tab$e1_t0.0)\n",
    "            e2_t0.0 <- c(e2_t0.0, temp_tab$e2_t0.0)\n",
    "        }\n",
    "    \n",
    "\n",
    "}"
   ]
  },
  {
   "cell_type": "code",
   "execution_count": null,
   "metadata": {},
   "outputs": [],
   "source": [
    "pdf(\"../Simulation/Plot/Rate_estimates/Extinction_none_combined.pdf\", height = 5)\n",
    "par(mfrow= c(1,2))\n",
    "\n",
    "fancy_hist(e1_t0.0, xlim = c(0, 2), breaks = 1, main = \"Extinction rates (1 : 0 Myr)\", xlab = \"Extinction rate (event/lineage/Myr)\", vline = 0.25, col_hist = \"#BFD4D8\")\n",
    "fancy_hist(e2_t0.0, xlim = c(0, 2), breaks = 5, main = \"Extinction rates (2 : 0 Myr)\", xlab = \"Extinction rate (event/lineage/Myr)\", vline = 0.5, col_hist = \"#BFD4D8\")\n",
    "\n",
    "dev.off()"
   ]
  },
  {
   "cell_type": "code",
   "execution_count": null,
   "metadata": {},
   "outputs": [],
   "source": [
    "pdf(\"../Simulation/Plot/Rate_estimates/Dispersal_none_combined.pdf\", height = 5)\n",
    "par(mfrow= c(1,2))\n",
    "\n",
    "fancy_hist(d12_t0.0, xlim = c(0, 2), breaks = 3, main = \"Dispersal rates (1 -> 2 : 0 Myr)\", xlab = \"Dispersal rate (event/lineage/Myr)\", vline = 0.25)\n",
    "fancy_hist(d21_t0.0, xlim = c(0, 2), breaks = 5, main = \"Dispersal rates (2 -> 1 : 0 Myr)\", xlab = \"Dispersal rate (event/lineage/Myr)\", vline = 0.5)\n",
    "\n",
    "dev.off()"
   ]
  }
 ],
 "metadata": {
  "kernelspec": {
   "display_name": "R",
   "language": "R",
   "name": "ir"
  },
  "language_info": {
   "codemirror_mode": "r",
   "file_extension": ".r",
   "mimetype": "text/x-r-source",
   "name": "R",
   "pygments_lexer": "r",
   "version": "4.3.3"
  }
 },
 "nbformat": 4,
 "nbformat_minor": 4
}
