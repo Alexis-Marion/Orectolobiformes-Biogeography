{
 "cells": [
  {
   "cell_type": "markdown",
   "metadata": {},
   "source": [
    "# Plot DES rates"
   ]
  },
  {
   "cell_type": "markdown",
   "metadata": {},
   "source": [
    "## Loading packages"
   ]
  },
  {
   "cell_type": "code",
   "execution_count": null,
   "metadata": {
    "scrolled": true
   },
   "outputs": [],
   "source": [
    "library(\"ggplot2\")\n",
    "library(\"deeptime\")\n",
    "library(\"pammtools\")\n",
    "library(\"cowplot\")\n",
    "library(\"stringr\")\n",
    "library(\"palaeoverse\")\n",
    "library(\"ape\")\n",
    "library(\"ggstream\")"
   ]
  },
  {
   "cell_type": "code",
   "execution_count": null,
   "metadata": {},
   "outputs": [],
   "source": [
    "args <- commandArgs(trailingOnly = TRUE)"
   ]
  },
  {
   "cell_type": "markdown",
   "metadata": {},
   "source": [
    "## Intialisation"
   ]
  },
  {
   "cell_type": "markdown",
   "metadata": {},
   "source": [
    "#### Type 1 for genera, 2 for species, 3 for species combined (no correction), 4 for species combined (corrected)"
   ]
  },
  {
   "cell_type": "code",
   "execution_count": null,
   "metadata": {},
   "outputs": [],
   "source": [
    "type = args[1]"
   ]
  },
  {
   "cell_type": "markdown",
   "metadata": {},
   "source": [
    "## Create useful functions"
   ]
  },
  {
   "cell_type": "markdown",
   "metadata": {},
   "source": [
    "### Find if lineage is in intervall"
   ]
  },
  {
   "cell_type": "code",
   "execution_count": null,
   "metadata": {},
   "outputs": [],
   "source": [
    "is.in.interval<-function(age1, age2, interval1, interval2){\n",
    "    temp_vec<-(-seq(round(age1, 1), round(age2, 1), by = 0.1))\n",
    "    if(interval1 %in% temp_vec | interval2 %in% temp_vec){\n",
    "        return(TRUE)\n",
    "    }\n",
    "    else{\n",
    "        return(FALSE)\n",
    "    }\n",
    "}"
   ]
  },
  {
   "cell_type": "markdown",
   "metadata": {},
   "source": [
    "### Get age boundaries"
   ]
  },
  {
   "cell_type": "code",
   "execution_count": null,
   "metadata": {},
   "outputs": [],
   "source": [
    "get_age_bound <- function(data){\n",
    "mn <- as.numeric(rownames(deeptime::epochs[deeptime::epochs[,3]<=min(data$Age),][nrow(deeptime::epochs[deeptime::epochs[,3]<=min(data$Age),]),]))\n",
    "mx <- as.numeric(rownames(deeptime::epochs[deeptime::epochs[,3]<=max(data$Age),][nrow(deeptime::epochs[deeptime::epochs[,3]<=max(data$Age),]),]))\n",
    "  \n",
    "output <- list(deeptime::epochs[mn:mx,2],deeptime::epochs[mn:mx,])\n",
    "    return(output)\n",
    "}\n"
   ]
  },
  {
   "cell_type": "markdown",
   "metadata": {},
   "source": [
    "### Extract LTT"
   ]
  },
  {
   "cell_type": "code",
   "execution_count": null,
   "metadata": {},
   "outputs": [],
   "source": [
    "extract_ltt <- function(dir){\n",
    "  files <- Sys.glob(paste0(dir, \"*_ltt.txt\"))\n",
    "  files <- files[grepl(pattern = \"KEEP\", x = files)]\n",
    "  ltt <- read.table(files[1], header = TRUE)\n",
    "  ltt$time <- unlist(lapply(X = ltt$time, FUN = round, digits = 1))\n",
    "  if(length(which(ltt$time > 500)) > 0){\n",
    "    ltt <- ltt[-which(ltt$time > 500), c(\"time\", \"diversity\")]\n",
    "  }\n",
    "  else{\n",
    "    ltt <- ltt[, c(\"time\", \"diversity\")]\n",
    "  }\n",
    "  ltt <- ltt %>% rename(diversity_1 = \"diversity\")\n",
    "  i = 2\n",
    "  for(file in files[2:length(files)]){\n",
    "    f <- read.table(file, header = TRUE)\n",
    "    if(length(which(f$time > 500)) > 0){\n",
    "      f <- f[-which(f$time > 500), c(\"time\", \"diversity\")]\n",
    "    }\n",
    "    else{\n",
    "      f <- f[, c(\"time\", \"diversity\")]\n",
    "    }\n",
    "    f$time <- unlist(lapply(X = f$time, FUN = round, digits = 1))\n",
    "    colnames(f) <- c(\"time\", paste0(\"diversity_\", i))\n",
    "    ltt <- merge(ltt, f, by = \"time\", all = T)\n",
    "    i <- i+1\n",
    "  }\n",
    "  LTT <- data.frame(Age = ltt$time,\n",
    "                    Diversity = apply(X = ltt[,c(2:ncol(ltt))],\n",
    "                                      MARGIN = 1,\n",
    "                                      FUN = mean,\n",
    "                                      na.rm = TRUE),\n",
    "                    min_Diversity = apply(X = ltt[,c(2:ncol(ltt))],\n",
    "                                          MARGIN = 1,\n",
    "                                          FUN = min,\n",
    "                                          na.rm = TRUE),\n",
    "                    max_Diversity = apply(X = ltt[,c(2:ncol(ltt))],\n",
    "                                          MARGIN = 1,\n",
    "                                          FUN = max,\n",
    "                                          na.rm = TRUE))\n",
    "  \n",
    "  return(LTT)\n",
    "}"
   ]
  },
  {
   "cell_type": "markdown",
   "metadata": {},
   "source": [
    "### Data maker"
   ]
  },
  {
   "cell_type": "code",
   "execution_count": null,
   "metadata": {},
   "outputs": [],
   "source": [
    "data_maker<-function(ltt_OT, ltt_M, ltt_T){\n",
    "data<-c()\n",
    "for(i in 1:nrow(ltt_T)){\n",
    "    vec_T<-c(ltt_T[i,1], \"T\", ltt_T[i,2])\n",
    "    if(ltt_T[i,1] %in% ltt_OT[i,1]){\n",
    "        vec_S<-c(ltt_T[i,1], \"OT\", ltt_OT[i,2])  \n",
    "    }\n",
    "    else{\n",
    "        vec_S<-c(ltt_T[i,1], \"OT\", 0) \n",
    "    }\n",
    "    if(ltt_T[i,1] %in% ltt_M[i,1]){\n",
    "        vec_M<-c(ltt_T[i,1], \"C\", ltt_M[i,2])\n",
    "    }\n",
    "    else{\n",
    "        vec_M<-c(ltt_T[i,1], \"C\", 0) \n",
    "    }\n",
    "data<-rbind(data,vec_T, vec_S, vec_M)\n",
    "data<-as.data.frame(data)\n",
    "colnames(data)<-c(\"Age\", \"Geography\", \"Sample\")\n",
    "data$Sample<-as.numeric(data$Sample)\n",
    "data$Age<-(as.numeric(data$Age))   \n",
    "} \n",
    "return(data)\n",
    "} "
   ]
  },
  {
   "cell_type": "markdown",
   "metadata": {},
   "source": [
    "### Find geography"
   ]
  },
  {
   "cell_type": "code",
   "execution_count": null,
   "metadata": {},
   "outputs": [],
   "source": [
    "unique_geo <- function(df){\n",
    "    vec <- unique(unclass(df))\n",
    "    if(1 %in% vec){\n",
    "        x <- \"outside_tethys\"\n",
    "    }\n",
    "    if(2 %in% vec){\n",
    "        x <- \"tethys\"\n",
    "    }  \n",
    "    if(1 %in% vec & 2 %in% vec | 3 %in% vec){\n",
    "        x <- \"cosmopolitan\"\n",
    "    }\n",
    "    return(x)\n",
    "}"
   ]
  },
  {
   "cell_type": "markdown",
   "metadata": {},
   "source": [
    "### Make small breaks function"
   ]
  },
  {
   "cell_type": "code",
   "execution_count": null,
   "metadata": {},
   "outputs": [],
   "source": [
    "breaks_fun <- function(max_num){\n",
    "    tot_vec <- c(0.01, 0.02, 0.05, 0.1, 0.2, 0.5)\n",
    "    return(tot_vec[which.min(abs(c(length(seq(0, max_num, by = 0.01)), length(seq(0, max_num, by = 0.02)), length(seq(0, max_num, by = 0.05)),\n",
    "    length(seq(0, max_num, by = 0.1)), length(seq(0, max_num, by = 0.2)), length(seq(0, max_num, by = 0.5)))- 10))])\n",
    "}"
   ]
  },
  {
   "cell_type": "markdown",
   "metadata": {},
   "source": [
    "### Extract boundary age function"
   ]
  },
  {
   "cell_type": "code",
   "execution_count": null,
   "metadata": {},
   "outputs": [],
   "source": [
    "get_age_bound<-function(data, type = 1){\n",
    "    mn<-as.numeric(rownames(deeptime::epochs[deeptime::epochs[,3]<=min(data$Age),][nrow(deeptime::epochs[deeptime::epochs[,3]<=min(data$Age),]),]))\n",
    "    mx<-as.numeric(rownames(deeptime::epochs[deeptime::epochs[,3]<=max(data$Age),][nrow(deeptime::epochs[deeptime::epochs[,3]<=max(data$Age),]),])) \n",
    "    output<-list(deeptime::epochs[mn:mx,2],deeptime::epochs[mn:mx,])\n",
    "return(output)\n",
    "}"
   ]
  },
  {
   "cell_type": "markdown",
   "metadata": {},
   "source": [
    "### Extract rates functions\n",
    "\n",
    "#### DES"
   ]
  },
  {
   "cell_type": "code",
   "execution_count": null,
   "metadata": {},
   "outputs": [],
   "source": [
    "DES_rates <- function(list_files_DES_rates, burnin = 1000){\n",
    "    whole_tab_rates <- c()\n",
    "    tab_rates <- c()\n",
    "    for(i in list_files_DES_rates){\n",
    "        table <- read.table(i, sep =\"\\t\", header = TRUE)\n",
    "        table_burnin <- table[-c(1:burnin),]\n",
    "        whole_tab_rates <- rbind(whole_tab_rates, table_burnin)\n",
    "    }   \n",
    "    return(whole_tab_rates)\n",
    "}"
   ]
  },
  {
   "cell_type": "markdown",
   "metadata": {},
   "source": [
    "#### PyRate"
   ]
  },
  {
   "cell_type": "code",
   "execution_count": null,
   "metadata": {},
   "outputs": [],
   "source": [
    "PyRate_turnover_rates <- function(list_files_PyRate_rates, trimming = FALSE){\n",
    "    list_files_PyRate_rates <- list_files_PyRate_rates[grepl(pattern = \"KEEP\", x = list_files_PyRate_rates)]\n",
    "    whole_tab_PyRate_rates <- c()\n",
    "    for(i in list_files_PyRate_rates){\n",
    "        table_PyRate <- read.table(i, header = TRUE)\n",
    "        table_burnin <- table_PyRate[-c(1:100),]\n",
    "        if(trimming){\n",
    "            table_trimmed <- table_PyRate[, -c(2:17, \n",
    "                                        seq(2 + (ncol(table_burnin) - 1)/3, ((ncol(table_burnin) - 1)/3 + 17), by = 1),\n",
    "                                        seq(2 + 2*(ncol(table_burnin) - 1)/3, (2*(ncol(table_burnin) - 1)/3 + 17), by = 1)), ]\n",
    "            temp_table <- cbind(unique(as.vector(table_trimmed))[2], unique(as.vector(table_trimmed))[3], unique(as.vector(table_trimmed))[4],\n",
    "                           unique(as.vector(table_trimmed))[5], unique(as.vector(table_trimmed))[6], unique(as.vector(table_trimmed))[7])\n",
    "            whole_tab_PyRate_rates <- rbind(whole_tab_PyRate_rates, temp_table)\n",
    "            \n",
    "        }\n",
    "        else{\n",
    "            temp_table <- cbind(unique(as.vector(table_burnin))[2], unique(as.vector(table_burnin))[3], unique(as.vector(table_burnin))[4],\n",
    "                                unique(as.vector(table_burnin))[5], unique(as.vector(table_burnin))[6], unique(as.vector(table_burnin))[7])\n",
    "            whole_tab_PyRate_rates <- rbind(whole_tab_PyRate_rates, temp_table)  \n",
    "        }\n",
    "\n",
    "    }\n",
    "    turnover_rate_tab <- cbind(as.numeric(unlist(whole_tab_PyRate_rates[,1])) + as.numeric(unlist(whole_tab_PyRate_rates[,4])),\n",
    "    as.numeric(unlist(whole_tab_PyRate_rates[,2])) + as.numeric(unlist(whole_tab_PyRate_rates[,5])),\n",
    "    as.numeric(unlist(whole_tab_PyRate_rates[,3])) + as.numeric(unlist(whole_tab_PyRate_rates[,6])))\n",
    "    return(turnover_rate_tab)\n",
    "}"
   ]
  },
  {
   "cell_type": "markdown",
   "metadata": {},
   "source": [
    "### Extract data functions"
   ]
  },
  {
   "cell_type": "markdown",
   "metadata": {},
   "source": [
    "#### DES"
   ]
  },
  {
   "cell_type": "code",
   "execution_count": null,
   "metadata": {},
   "outputs": [],
   "source": [
    "extract_data_DES <- function(table, val, upper_bound, time_slices){\n",
    "       temp_col <- colnames(table)[grep(val, colnames(table))]\n",
    "    q_low <- nrow(table)*0.025\n",
    "    q_high <- nrow(table)*0.975\n",
    "    clean_data <- data.frame()\n",
    "    for(i in temp_col){\n",
    "        temp_vec <- table[colnames(table) == i]\n",
    "        sorted_vec <- sort(temp_vec[,1])\n",
    "        extinction_vec <- c(as.numeric(str_split_fixed(i, \"_t\", 2)[1,2]), sorted_vec[q_low], \n",
    "                        median(sorted_vec), sorted_vec[q_high])\n",
    "        clean_data <- rbind(clean_data, extinction_vec)\n",
    "    }\n",
    "    temp_vec <- c(upper_bound, clean_data[,1])\n",
    "    clean_data <- rbind(clean_data, clean_data[nrow(clean_data), ])\n",
    "    clean_data[,1] <- temp_vec   \n",
    "    colnames(clean_data) <- c(\"Age\", \"min_HPD\", \"median\", \"max_HPD\")\n",
    "    if(exists(\"time_slices\")){\n",
    "        clean_data$Age <- time_slices\n",
    "    }\n",
    "    return(clean_data)\n",
    "}"
   ]
  },
  {
   "cell_type": "markdown",
   "metadata": {},
   "source": [
    "#### PyRate"
   ]
  },
  {
   "cell_type": "code",
   "execution_count": null,
   "metadata": {},
   "outputs": [],
   "source": [
    "extract_data_PyRate <- function(table, vec){\n",
    "\n",
    "    clean_data <- data.frame()\n",
    "    q_low <- nrow(table)*0.025\n",
    "    q_high <- nrow(table)*0.975\n",
    "    \n",
    "    for(i in 1:ncol(table)){\n",
    "        temp_vec <- table[,i]\n",
    "        sorted_vec <- sort(temp_vec)\n",
    "        extinction_vec <- c(vec[i], sorted_vec[q_low], median(sorted_vec), sorted_vec[q_high])\n",
    "        clean_data <- rbind(clean_data, extinction_vec)\n",
    "    }\n",
    "    colnames(clean_data) <- c(\"Age\", \"min_HPD\", \"median\", \"max_HPD\")\n",
    "    last_vec <- c(0, clean_data[nrow(clean_data), -1])\n",
    "    names(last_vec) <- c(\"Age\", \"min_HPD\", \"median\", \"max_HPD\")\n",
    "    clean_data <- rbind(clean_data, last_vec) \n",
    "    return(clean_data)\n",
    "}"
   ]
  },
  {
   "cell_type": "markdown",
   "metadata": {},
   "source": [
    "### Table maker function"
   ]
  },
  {
   "cell_type": "code",
   "execution_count": null,
   "metadata": {
    "scrolled": true
   },
   "outputs": [],
   "source": [
    "make_tab <- function(tab_init){\n",
    "    tab<-c()\n",
    "    for(i in seq(-100.5, 0, by = 0.5)){\n",
    "        div_vec<-c(i)\n",
    "        div<-0\n",
    "        for (k in 1:nrow(tab_init)){\n",
    "            if (is.in.interval(as.numeric(tab_init[k,2]), as.numeric(tab_init[k,1]), i, i + 0.5)){\n",
    "                div <- div + 1\n",
    "            }\n",
    "        }\n",
    "        div_vec<-c(div_vec, div)\n",
    "        tab<-rbind(tab, div_vec)\n",
    "    }\n",
    "    return(tab)\n",
    "}"
   ]
  },
  {
   "cell_type": "markdown",
   "metadata": {},
   "source": [
    "### Plotting function"
   ]
  },
  {
   "cell_type": "markdown",
   "metadata": {},
   "source": [
    "#### Skyline plot"
   ]
  },
  {
   "cell_type": "code",
   "execution_count": null,
   "metadata": {},
   "outputs": [],
   "source": [
    "plot_DES_rates <- function(data_1, data_2, \n",
    "                   x_breaks = data_1$Age,\n",
    "                   y_breaks = seq(from = 0, to = c(round(max(data_1$max_HPD), 1) + 0.1), by = breaks_fun(round(max(data_1$max_HPD), 1))),\n",
    "                   y_labels = seq(from = 0, to = c(round(max(data_1$max_HPD), 1) + 0.1), by = breaks_fun(round(max(data_1$max_HPD), 1))),\n",
    "                   y_limits = c(0, c(round(max(data_1$max_HPD), 1) + 0.05)),\n",
    "                   x_lab = \"Time (Ma)\",\n",
    "                   y_lab = \"Rate (event/lineage/Myr)\",\n",
    "                   geoscale = get_age_bound(data_1)[2],\n",
    "                   abbr = TRUE,\n",
    "                   colour = c(\"#260154\", \"#B0E9D5\")\n",
    "                   ){\n",
    "    \n",
    "    data_1[data_1$max_HPD>max(y_limits),4] <- max((y_limits))\n",
    "    data_2[data_2$max_HPD>max(y_limits),4] <- max((y_limits))   \n",
    "    \n",
    "    rate.plot <- ggplot(data_1, aes(x = Age, y = median))+\n",
    "        scale_x_reverse(breaks = x_breaks) +\n",
    "        scale_y_continuous(breaks = y_breaks,\n",
    "                           labels = y_labels,\n",
    "                           limits = y_limits) +\n",
    "    geom_stepribbon(data = data_1, mapping=aes(x = Age, ymin = min_HPD, ymax = max_HPD),\n",
    "                    fill = colour[1],\n",
    "                    alpha = 0.25) +\n",
    "    geom_stepribbon(data = data_2, mapping=aes(x = Age, ymin = min_HPD, ymax = max_HPD),\n",
    "                    fill = colour[2],\n",
    "                    alpha = 0.25) +\n",
    "    geom_step(data = data_1, aes(x = Age, y = median),\n",
    "              linewidth = 2, colour = colour[1]) +\n",
    "    geom_step(data = data_2, aes(x = Age, y = median),\n",
    "              linewidth = 2, colour = colour[2]) +\n",
    "    labs(x = x_lab,\n",
    "         y = y_lab) +\n",
    "    theme(axis.title.x = element_text(size = 10),\n",
    "          axis.title.y = element_text(size = 10),\n",
    "          axis.text.x = element_text(size = 8), \n",
    "          axis.text.y = element_text(size = 8), \n",
    "          axis.text = element_text(size = 10),\n",
    "          panel.grid.major = element_blank(), \n",
    "          panel.grid.minor = element_blank(),\n",
    "          panel.background = element_blank(),\n",
    "          panel.border = element_rect(colour = \"black\", fill = NA, linewidth = 0.5)) +\n",
    "          coord_geo(dat = geoscale, abbrv = abbr, size = 4, )\n",
    "  return(rate.plot)\n",
    "}"
   ]
  },
  {
   "cell_type": "markdown",
   "metadata": {},
   "source": [
    "#### Lineage through time plot"
   ]
  },
  {
   "cell_type": "code",
   "execution_count": null,
   "metadata": {},
   "outputs": [],
   "source": [
    "ltt_plot <- function(ltt_df_1,\n",
    "                     ltt_df_2,\n",
    "                     x_breaks = c(0, 33.9, 66, 100.5),\n",
    "                     y_labels = seq(0,250,50),\n",
    "                     y_limits = c(0,max(ltt_df_1$max_Diversity, ltt_df_2$max_Diversity)),\n",
    "                     y_breaks = seq(0, y_limits[2], 5),\n",
    "                     main=NA,\n",
    "                     x_lab = \"Time (Ma)\",\n",
    "                     y_lab = \"Diversity (nb. lineages)\",\n",
    "                     geoscale = get_age_bound(ltt_df_2)[[2]],\n",
    "                     abbr = TRUE){\n",
    "  p <- ggplot() +\n",
    "    scale_x_reverse(breaks = x_breaks) +\n",
    "    scale_y_continuous(breaks = y_breaks,\n",
    "                       limits = y_limits) +\n",
    "    geom_ribbon(data = ltt_df_1, aes(x = Age, ymin = min_Diversity, ymax = max_Diversity), \n",
    "                fill = \"#B0E9D5\",\n",
    "                alpha = 0.25) +\n",
    "    geom_ribbon(data = ltt_df_2, aes(x = Age, ymin = min_Diversity, ymax = max_Diversity), \n",
    "                fill = \"#DAA07F\",\n",
    "                alpha = 0.25) +\n",
    "    \n",
    "    geom_line(data = ltt_df_2, aes(x = Age, y = Diversity), linewidth = 2, colour = \"#DAA07F\") +\n",
    "    geom_line(data = ltt_df_1, aes(x = Age, y = Diversity), linewidth = 2, colour = \"#B0E9D5\") +\n",
    "    xlab(x_lab) +\n",
    "    ylab(y_lab) +\n",
    "    theme(axis.title.x = element_text(size = 10),\n",
    "          axis.title.y = element_text(size = 10),\n",
    "          axis.text.x = element_text(size = 8), \n",
    "          axis.text.y = element_text(size = 8), \n",
    "          axis.text = element_text(size = 10),\n",
    "          panel.grid.major = element_blank(), \n",
    "          panel.grid.minor = element_blank(),\n",
    "          panel.background = element_blank(),\n",
    "          panel.border = element_rect(colour = \"black\", fill = NA, linewidth = 0.5)) +\n",
    "          coord_geo(dat = geoscale, abbrv = abbr, size = 4)\n",
    "    return(p)\n",
    "}"
   ]
  },
  {
   "cell_type": "markdown",
   "metadata": {},
   "source": [
    "### Load data"
   ]
  },
  {
   "cell_type": "markdown",
   "metadata": {},
   "source": [
    "#### Load rates"
   ]
  },
  {
   "cell_type": "code",
   "execution_count": null,
   "metadata": {
    "scrolled": true
   },
   "outputs": [],
   "source": [
    "if(type == 1){\n",
    "    list_files_DES_rates <- list.files(paste(\"../Analysis_Bayesian/gen/\", sep = \"\"), pattern = \"G.log\", full.names = TRUE)  \n",
    "    DES_rates_tab <- DES_rates(list_files_DES_rates)\n",
    "    Q_rates_raw_NT <- list.files(\"../../BDS/Results/Biogeo/Genus/outside_Tethys/pyrate_mcmc_logs/\", pattern = \"mcmc.log\", full.names = TRUE)\n",
    "    Q_rates_NT <- DES_rates(Q_rates_raw_NT, 100)\n",
    "    Q_rates_raw_T <- list.files(\"../../BDS/Results/Biogeo/Genus/Tethys/pyrate_mcmc_logs/\", pattern = \"mcmc.log\", full.names = TRUE)\n",
    "    Q_rates_T <- DES_rates(Q_rates_raw_T, 100)\n",
    "    list_files_PyRate_rates_NT <- list.files(\"../../BDS/Results/Biogeo/Genus/outside_Tethys/pyrate_mcmc_logs/\", pattern = \"marginal_rates.log\", full.names = TRUE)\n",
    "    list_files_PyRate_rates_T <- list.files(\"../../BDS/Results/Biogeo/Genus/Tethys/pyrate_mcmc_logs/\", pattern = \"marginal_rates.log\", full.names = TRUE)\n",
    "    turnover_NT_raw <- PyRate_turnover_rates(list_files_PyRate_rates_NT, TRUE)\n",
    "    turnover_T_raw <- PyRate_turnover_rates(list_files_PyRate_rates_T)\n",
    "    ltt_T <- extract_ltt(dir = \"../../BDS/Results/Biogeo/Plot_genus/Tethys/output_ltt/\")\n",
    "    ltt_NT <- extract_ltt(dir = \"../../BDS/Results/Biogeo/Plot_genus/outside_Tethys/output_ltt/\")\n",
    "    ltt_T <- ltt_T[ltt_T$Age > 15,]\n",
    "    ltt_T <- ltt_T[ltt_T$Age < 100.5,]\n",
    "    ltt_NT <- ltt_NT[ltt_NT$Age < 100.5,]\n",
    "}\n",
    "if(type == 2){\n",
    "    list_files_DES_rates <- list.files(paste(\"../Analysis_Bayesian/sp/\", sep = \"\"), pattern = \"G.log\", full.names = TRUE)\n",
    "    DES_rates_tab <- DES_rates(list_files_DES_rates)\n",
    "    Q_rates_raw_NT <- list.files(\"../../BDS/Results/Biogeo/Species/outside_Tethys/pyrate_mcmc_logs/\", pattern = \"mcmc.log\", full.names = TRUE)\n",
    "    Q_rates_NT <- DES_rates(Q_rates_raw_NT, 100)\n",
    "    Q_rates_raw_T <- list.files(\"../../BDS/Results/Biogeo/Species/Tethys/pyrate_mcmc_logs/\", pattern = \"mcmc.log\", full.names = TRUE)\n",
    "    Q_rates_T <- DES_rates(Q_rates_raw_T, 100)\n",
    "    list_files_PyRate_rates_NT <- list.files(\"../../BDS/Results/Biogeo/Species/outside_Tethys/pyrate_mcmc_logs/\", pattern = \"marginal_rates.log\", full.names = TRUE)\n",
    "    list_files_PyRate_rates_T <- list.files(\"../../BDS/Results/Biogeo/Species/Tethys/pyrate_mcmc_logs/\", pattern = \"marginal_rates.log\", full.names = TRUE)\n",
    "    turnover_NT_raw <- PyRate_turnover_rates(list_files_PyRate_rates_NT, TRUE)\n",
    "    turnover_T_raw <- PyRate_turnover_rates(list_files_PyRate_rates_T)\n",
    "    ltt_T <- extract_ltt(dir = \"../../BDS/Results/Biogeo/Plot_species/Tethys/output_ltt/\")\n",
    "    ltt_NT <- extract_ltt(dir = \"../../BDS/Results/Biogeo/Plot_species/outside_Tethys/output_ltt/\")\n",
    "    ltt_T <- ltt_T[ltt_T$Age > 15,]\n",
    "    ltt_T <- ltt_T[ltt_T$Age < 100.5,]\n",
    "    ltt_NT <- ltt_NT[ltt_NT$Age < 100.5,]\n",
    "}\n",
    "if(type == 3){\n",
    "    list_files_DES_rates <- list.files(paste(\"../Analysis_Bayesian/sp_combined/\", sep = \"\"), pattern = \"G.log\", full.names = TRUE)\n",
    "    DES_rates_tab <- DES_rates(list_files_DES_rates)\n",
    "    Q_rates_raw_NT <- list.files(\"../../BDS/Results/Biogeo/Species/outside_Tethys/pyrate_mcmc_logs/\", pattern = \"mcmc.log\", full.names = TRUE)\n",
    "    Q_rates_NT <- DES_rates(Q_rates_raw_NT, 100)\n",
    "    Q_rates_raw_T <- list.files(\"../../BDS/Results/Biogeo/Species/Tethys/pyrate_mcmc_logs/\", pattern = \"mcmc.log\", full.names = TRUE)\n",
    "    Q_rates_T <- DES_rates(Q_rates_raw_T, 100)\n",
    "    list_files_PyRate_rates_NT <- list.files(\"../../BDS/Results/Biogeo/Species_combined/pyrate_mcmc_logs/\", pattern = \"marginal_rates.log\", full.names = TRUE)\n",
    "    list_files_PyRate_rates_T <- list.files(\"../../BDS/Results/Biogeo/Species/Tethys/pyrate_mcmc_logs/\", pattern = \"marginal_rates.log\", full.names = TRUE)\n",
    "    turnover_NT_raw <- PyRate_turnover_rates(list_files_PyRate_rates_NT, TRUE)\n",
    "    turnover_T_raw <- PyRate_turnover_rates(list_files_PyRate_rates_T)\n",
    "    ltt_T <- extract_ltt(dir = \"../../BDS/Results/Biogeo/Plot_species/Tethys/output_ltt/\")\n",
    "    ltt_NT <- extract_ltt(dir = \"../../BDS/Results/Biogeo/Plot_species/Combined/output_ltt/\")\n",
    "    ltt_T <- ltt_T[ltt_T$Age > 15,]\n",
    "    ltt_T <- ltt_T[ltt_T$Age < 100.5,]\n",
    "    ltt_NT <- ltt_NT[ltt_NT$Age < 100.5,]\n",
    "}\n",
    "if(type == 4){\n",
    "    list_files_DES_rates <- list.files(paste(\"../Analysis_Bayesian/sp_combined_CDD/\", sep = \"\"), pattern = \"G.log\", full.names = TRUE)\n",
    "    DES_rates_tab <- DES_rates(list_files_DES_rates)\n",
    "    Q_rates_raw_NT <- list.files(\"../../BDS/Results/Biogeo/Species/outside_Tethys/pyrate_mcmc_logs/\", pattern = \"mcmc.log\", full.names = TRUE)\n",
    "    Q_rates_NT <- DES_rates(Q_rates_raw_NT, 100)\n",
    "    Q_rates_raw_T <- list.files(\"../../BDS/Results/Biogeo/Species/Tethys/pyrate_mcmc_logs/\", pattern = \"mcmc.log\", full.names = TRUE)\n",
    "    Q_rates_T <- DES_rates(Q_rates_raw_T, 100)\n",
    "    list_files_PyRate_rates_NT <- list.files(\"../../BDS/Results/Biogeo/Species_combined_CDD/pyrate_mcmc_logs/\", pattern = \"marginal_rates.log\", full.names = TRUE)\n",
    "    list_files_PyRate_rates_T <- list.files(\"../../BDS/Results/Biogeo/Species/Tethys/pyrate_mcmc_logs/\", pattern = \"marginal_rates.log\", full.names = TRUE)\n",
    "    turnover_NT_raw <- PyRate_turnover_rates(list_files_PyRate_rates_NT, TRUE)\n",
    "    turnover_T_raw <- PyRate_turnover_rates(list_files_PyRate_rates_T)\n",
    "    ltt_T <- extract_ltt(dir = \"../../BDS/Results/Biogeo/Plot_species/Tethys/output_ltt/\")\n",
    "    ltt_NT <- extract_ltt(dir = \"../../BDS/Results/Biogeo/Plot_species/Combined_CDD/output_ltt/\")\n",
    "    ltt_T <- ltt_T[ltt_T$Age > 15,]\n",
    "    ltt_T <- ltt_T[ltt_T$Age < 100.5,]\n",
    "    ltt_NT <- ltt_NT[ltt_NT$Age < 100.5,]\n",
    "}"
   ]
  },
  {
   "cell_type": "markdown",
   "metadata": {},
   "source": [
    "## Plot"
   ]
  },
  {
   "cell_type": "markdown",
   "metadata": {},
   "source": [
    "### DES"
   ]
  },
  {
   "cell_type": "markdown",
   "metadata": {},
   "source": [
    "#### Extinction"
   ]
  },
  {
   "cell_type": "code",
   "execution_count": null,
   "metadata": {},
   "outputs": [],
   "source": [
    "extinction_T <- extract_data_DES(DES_rates_tab, \"e1\", 100.5, c(100.5, 66, 33.9, 0))\n",
    "extinction_NT <- extract_data_DES(DES_rates_tab, \"e2\", 100.5, c(100.5, 66, 33.9, 0))"
   ]
  },
  {
   "cell_type": "code",
   "execution_count": null,
   "metadata": {},
   "outputs": [],
   "source": [
    "max_val_E <- round(max(rbind(extinction_T, extinction_NT)[,3]),1) + 0.1"
   ]
  },
  {
   "cell_type": "code",
   "execution_count": null,
   "metadata": {
    "scrolled": false
   },
   "outputs": [],
   "source": [
    "extinction_plot <- plot_DES_rates(data_1 = extinction_T, data_2 = extinction_NT, colour = c(\"#DAA07F\", \"#B0E9D5\"),\n",
    "                   y_breaks = seq(from = 0, to = max_val_E, by = 0.05),\n",
    "                   y_labels = seq(from = 0, to = max_val_E, by = 0.05),\n",
    "                   y_limits = c(0, max_val_E),\n",
    "                   y_lab = \"Extinction rate (event/lineage/Myr)\")"
   ]
  },
  {
   "cell_type": "markdown",
   "metadata": {},
   "source": [
    "#### Dispersal"
   ]
  },
  {
   "cell_type": "code",
   "execution_count": null,
   "metadata": {},
   "outputs": [],
   "source": [
    "dispersal_T <- extract_data_DES(DES_rates_tab, \"d1\", 100.5, c(100.5, 66, 33.9, 0))\n",
    "dispersal_NT <- extract_data_DES(DES_rates_tab, \"d2\", 100.5, c(100.5, 66, 33.9, 0))"
   ]
  },
  {
   "cell_type": "code",
   "execution_count": null,
   "metadata": {},
   "outputs": [],
   "source": [
    "max_val_D <- round(max(rbind(dispersal_T, dispersal_NT)[,3]),1) + 0.1"
   ]
  },
  {
   "cell_type": "code",
   "execution_count": null,
   "metadata": {},
   "outputs": [],
   "source": [
    "dispersal_plot <- plot_DES_rates(data_1 = dispersal_T, data_2 = dispersal_NT, colour = c(\"#B0E9D5\",\"#DAA07F\"),\n",
    "                   y_breaks = seq(from = 0, to = max_val_D, by = 0.05),\n",
    "                   y_labels = seq(from = 0, to = max_val_D, by = 0.05),\n",
    "                   y_limits = c(0, max_val_D),\n",
    "                   y_lab = \"Dispersal rate (event/lineage/Myr)\")"
   ]
  },
  {
   "cell_type": "markdown",
   "metadata": {},
   "source": [
    "#### Preservation"
   ]
  },
  {
   "cell_type": "code",
   "execution_count": null,
   "metadata": {},
   "outputs": [],
   "source": [
    "preservation_T <- extract_data_DES(Q_rates_T, \"q_\", 100.5, c(100.5, 66, 33.9, 0))\n",
    "preservation_NT <- extract_data_DES(Q_rates_NT, \"q_\", 100.5, c(100.5, 66, 33.9, 0))"
   ]
  },
  {
   "cell_type": "code",
   "execution_count": null,
   "metadata": {},
   "outputs": [],
   "source": [
    "max_val_Q <- round(max(rbind(preservation_T, preservation_NT)[,3]),1) + 0.1"
   ]
  },
  {
   "cell_type": "code",
   "execution_count": null,
   "metadata": {},
   "outputs": [],
   "source": [
    "preservation_plot <- plot_DES_rates(data_1 = preservation_T, data_2 = preservation_NT, colour = c(\"#B0E9D5\",\"#DAA07F\"),\n",
    "                   y_breaks = seq(from = 0, to = max_val_Q, by = 0.1),\n",
    "                   y_labels = seq(from = 0, to = max_val_Q, by = 0.1),\n",
    "                   y_limits = c(0, max_val_Q),\n",
    "                   y_lab = \"Preservation rate (Occurence/lineage/Myr)\")"
   ]
  },
  {
   "cell_type": "markdown",
   "metadata": {},
   "source": [
    "### PyRate"
   ]
  },
  {
   "cell_type": "markdown",
   "metadata": {},
   "source": [
    "#### Turnover"
   ]
  },
  {
   "cell_type": "code",
   "execution_count": null,
   "metadata": {},
   "outputs": [],
   "source": [
    "turnover_T <- extract_data_PyRate(turnover_T_raw, c(100.5, 66, 33.9))\n",
    "turnover_NT <- extract_data_PyRate(turnover_NT_raw, c(100.5, 66, 33.9))"
   ]
  },
  {
   "cell_type": "code",
   "execution_count": null,
   "metadata": {},
   "outputs": [],
   "source": [
    "max_val_T <- round(max(rbind(turnover_T, turnover_NT)[,3]),1) + 0.1"
   ]
  },
  {
   "cell_type": "code",
   "execution_count": null,
   "metadata": {},
   "outputs": [],
   "source": [
    "turnover_plot <- plot_DES_rates(data_1 = turnover_T, data_2 = turnover_NT, colour = c(\"#B0E9D5\",\"#DAA07F\"),\n",
    "                   y_breaks = seq(from = 0, to = max_val_T, by = 0.05),\n",
    "                   y_labels = seq(from = 0, to = max_val_T, by = 0.05),\n",
    "                   y_limits = c(0, max_val_T),\n",
    "                   y_lab = \"Turnover rate (event/lineage/Myr)\")"
   ]
  },
  {
   "cell_type": "markdown",
   "metadata": {},
   "source": [
    "#### Lineage Through Time (LTT)"
   ]
  },
  {
   "cell_type": "code",
   "execution_count": null,
   "metadata": {
    "scrolled": false
   },
   "outputs": [],
   "source": [
    "ltt_plot <- ltt_plot(ltt_T, ltt_NT)"
   ]
  },
  {
   "cell_type": "markdown",
   "metadata": {},
   "source": [
    "### Arrange & save combined plots"
   ]
  },
  {
   "cell_type": "code",
   "execution_count": null,
   "metadata": {},
   "outputs": [],
   "source": [
    "top_row <- plot_grid(extinction_plot, dispersal_plot, labels = c(\"A\", \"B\"))"
   ]
  },
  {
   "cell_type": "code",
   "execution_count": null,
   "metadata": {},
   "outputs": [],
   "source": [
    "mid_row <- plot_grid(preservation_plot, turnover_plot, labels = c(\"C\", \"D\"))"
   ]
  },
  {
   "cell_type": "code",
   "execution_count": null,
   "metadata": {},
   "outputs": [],
   "source": [
    "bottom_row <-  plot_grid(ltt_plot, labels = c(\"E\"))"
   ]
  },
  {
   "cell_type": "code",
   "execution_count": null,
   "metadata": {},
   "outputs": [],
   "source": [
    "if(type == 1){\n",
    "    title_plot <- paste(\"../Plot_results_DES/DES_gen.pdf\", sep = \"\")\n",
    "}\n",
    "if(type == 2){\n",
    "    title_plot <- paste(\"../Plot_results_DES/DES_sp.pdf\", sep = \"\")\n",
    "}\n",
    "if(type == 3){\n",
    "    title_plot <- paste(\"../Plot_results_DES/DES_sp_comb.pdf\", sep = \"\")\n",
    "}\n",
    "if(type == 4){\n",
    "    title_plot <- paste(\"../Plot_results_DES/DES_sp_comb_corr.pdf\", sep = \"\")\n",
    "}\n",
    "pdf(file = title_plot, width = 10, height = 10)\n",
    "plot_grid(top_row, mid_row, bottom_row, ncol = 1)\n",
    "dev.off()"
   ]
  }
 ],
 "metadata": {
  "kernelspec": {
   "display_name": "R",
   "language": "R",
   "name": "ir"
  },
  "language_info": {
   "codemirror_mode": "r",
   "file_extension": ".r",
   "mimetype": "text/x-r-source",
   "name": "R",
   "pygments_lexer": "r",
   "version": "4.3.3"
  }
 },
 "nbformat": 4,
 "nbformat_minor": 4
}
